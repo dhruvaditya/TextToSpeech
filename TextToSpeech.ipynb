{
  "nbformat": 4,
  "nbformat_minor": 0,
  "metadata": {
    "colab": {
      "provenance": [],
      "gpuType": "T4",
      "authorship_tag": "ABX9TyP8ZWHmbRcMz/XD6Qo4X5m+",
      "include_colab_link": true
    },
    "kernelspec": {
      "name": "python3",
      "display_name": "Python 3"
    },
    "language_info": {
      "name": "python"
    },
    "widgets": {
      "application/vnd.jupyter.widget-state+json": {
        "92f46e67298c4765b53b15598012e319": {
          "model_module": "@jupyter-widgets/controls",
          "model_name": "HBoxModel",
          "model_module_version": "1.5.0",
          "state": {
            "_dom_classes": [],
            "_model_module": "@jupyter-widgets/controls",
            "_model_module_version": "1.5.0",
            "_model_name": "HBoxModel",
            "_view_count": null,
            "_view_module": "@jupyter-widgets/controls",
            "_view_module_version": "1.5.0",
            "_view_name": "HBoxView",
            "box_style": "",
            "children": [
              "IPY_MODEL_50429018da064294b1a16f027bc83256",
              "IPY_MODEL_0a1b1c957094446f81b3fc34c3d30596",
              "IPY_MODEL_f59d6b872f6a4d2ca018f4cbd00ffe9f"
            ],
            "layout": "IPY_MODEL_3283863886334422995ad055bd0ae6e9"
          }
        },
        "50429018da064294b1a16f027bc83256": {
          "model_module": "@jupyter-widgets/controls",
          "model_name": "HTMLModel",
          "model_module_version": "1.5.0",
          "state": {
            "_dom_classes": [],
            "_model_module": "@jupyter-widgets/controls",
            "_model_module_version": "1.5.0",
            "_model_name": "HTMLModel",
            "_view_count": null,
            "_view_module": "@jupyter-widgets/controls",
            "_view_module_version": "1.5.0",
            "_view_name": "HTMLView",
            "description": "",
            "description_tooltip": null,
            "layout": "IPY_MODEL_81e6a9122014474ebb04770865ad22b8",
            "placeholder": "​",
            "style": "IPY_MODEL_bc676e2138b3442891bb872c5925dedb",
            "value": "config.json: 100%"
          }
        },
        "0a1b1c957094446f81b3fc34c3d30596": {
          "model_module": "@jupyter-widgets/controls",
          "model_name": "FloatProgressModel",
          "model_module_version": "1.5.0",
          "state": {
            "_dom_classes": [],
            "_model_module": "@jupyter-widgets/controls",
            "_model_module_version": "1.5.0",
            "_model_name": "FloatProgressModel",
            "_view_count": null,
            "_view_module": "@jupyter-widgets/controls",
            "_view_module_version": "1.5.0",
            "_view_name": "ProgressView",
            "bar_style": "success",
            "description": "",
            "description_tooltip": null,
            "layout": "IPY_MODEL_b55a33e62ed142529ea729f5fd79a9a0",
            "max": 908,
            "min": 0,
            "orientation": "horizontal",
            "style": "IPY_MODEL_a208a4d2235b4387b1154c256481cf77",
            "value": 908
          }
        },
        "f59d6b872f6a4d2ca018f4cbd00ffe9f": {
          "model_module": "@jupyter-widgets/controls",
          "model_name": "HTMLModel",
          "model_module_version": "1.5.0",
          "state": {
            "_dom_classes": [],
            "_model_module": "@jupyter-widgets/controls",
            "_model_module_version": "1.5.0",
            "_model_name": "HTMLModel",
            "_view_count": null,
            "_view_module": "@jupyter-widgets/controls",
            "_view_module_version": "1.5.0",
            "_view_name": "HTMLView",
            "description": "",
            "description_tooltip": null,
            "layout": "IPY_MODEL_bd948c7e9f1e4b7fad64a1d8962e46f2",
            "placeholder": "​",
            "style": "IPY_MODEL_b068847092834c1cb8bad4b61a2a9f77",
            "value": " 908/908 [00:00&lt;00:00, 47.7kB/s]"
          }
        },
        "3283863886334422995ad055bd0ae6e9": {
          "model_module": "@jupyter-widgets/base",
          "model_name": "LayoutModel",
          "model_module_version": "1.2.0",
          "state": {
            "_model_module": "@jupyter-widgets/base",
            "_model_module_version": "1.2.0",
            "_model_name": "LayoutModel",
            "_view_count": null,
            "_view_module": "@jupyter-widgets/base",
            "_view_module_version": "1.2.0",
            "_view_name": "LayoutView",
            "align_content": null,
            "align_items": null,
            "align_self": null,
            "border": null,
            "bottom": null,
            "display": null,
            "flex": null,
            "flex_flow": null,
            "grid_area": null,
            "grid_auto_columns": null,
            "grid_auto_flow": null,
            "grid_auto_rows": null,
            "grid_column": null,
            "grid_gap": null,
            "grid_row": null,
            "grid_template_areas": null,
            "grid_template_columns": null,
            "grid_template_rows": null,
            "height": null,
            "justify_content": null,
            "justify_items": null,
            "left": null,
            "margin": null,
            "max_height": null,
            "max_width": null,
            "min_height": null,
            "min_width": null,
            "object_fit": null,
            "object_position": null,
            "order": null,
            "overflow": null,
            "overflow_x": null,
            "overflow_y": null,
            "padding": null,
            "right": null,
            "top": null,
            "visibility": null,
            "width": null
          }
        },
        "81e6a9122014474ebb04770865ad22b8": {
          "model_module": "@jupyter-widgets/base",
          "model_name": "LayoutModel",
          "model_module_version": "1.2.0",
          "state": {
            "_model_module": "@jupyter-widgets/base",
            "_model_module_version": "1.2.0",
            "_model_name": "LayoutModel",
            "_view_count": null,
            "_view_module": "@jupyter-widgets/base",
            "_view_module_version": "1.2.0",
            "_view_name": "LayoutView",
            "align_content": null,
            "align_items": null,
            "align_self": null,
            "border": null,
            "bottom": null,
            "display": null,
            "flex": null,
            "flex_flow": null,
            "grid_area": null,
            "grid_auto_columns": null,
            "grid_auto_flow": null,
            "grid_auto_rows": null,
            "grid_column": null,
            "grid_gap": null,
            "grid_row": null,
            "grid_template_areas": null,
            "grid_template_columns": null,
            "grid_template_rows": null,
            "height": null,
            "justify_content": null,
            "justify_items": null,
            "left": null,
            "margin": null,
            "max_height": null,
            "max_width": null,
            "min_height": null,
            "min_width": null,
            "object_fit": null,
            "object_position": null,
            "order": null,
            "overflow": null,
            "overflow_x": null,
            "overflow_y": null,
            "padding": null,
            "right": null,
            "top": null,
            "visibility": null,
            "width": null
          }
        },
        "bc676e2138b3442891bb872c5925dedb": {
          "model_module": "@jupyter-widgets/controls",
          "model_name": "DescriptionStyleModel",
          "model_module_version": "1.5.0",
          "state": {
            "_model_module": "@jupyter-widgets/controls",
            "_model_module_version": "1.5.0",
            "_model_name": "DescriptionStyleModel",
            "_view_count": null,
            "_view_module": "@jupyter-widgets/base",
            "_view_module_version": "1.2.0",
            "_view_name": "StyleView",
            "description_width": ""
          }
        },
        "b55a33e62ed142529ea729f5fd79a9a0": {
          "model_module": "@jupyter-widgets/base",
          "model_name": "LayoutModel",
          "model_module_version": "1.2.0",
          "state": {
            "_model_module": "@jupyter-widgets/base",
            "_model_module_version": "1.2.0",
            "_model_name": "LayoutModel",
            "_view_count": null,
            "_view_module": "@jupyter-widgets/base",
            "_view_module_version": "1.2.0",
            "_view_name": "LayoutView",
            "align_content": null,
            "align_items": null,
            "align_self": null,
            "border": null,
            "bottom": null,
            "display": null,
            "flex": null,
            "flex_flow": null,
            "grid_area": null,
            "grid_auto_columns": null,
            "grid_auto_flow": null,
            "grid_auto_rows": null,
            "grid_column": null,
            "grid_gap": null,
            "grid_row": null,
            "grid_template_areas": null,
            "grid_template_columns": null,
            "grid_template_rows": null,
            "height": null,
            "justify_content": null,
            "justify_items": null,
            "left": null,
            "margin": null,
            "max_height": null,
            "max_width": null,
            "min_height": null,
            "min_width": null,
            "object_fit": null,
            "object_position": null,
            "order": null,
            "overflow": null,
            "overflow_x": null,
            "overflow_y": null,
            "padding": null,
            "right": null,
            "top": null,
            "visibility": null,
            "width": null
          }
        },
        "a208a4d2235b4387b1154c256481cf77": {
          "model_module": "@jupyter-widgets/controls",
          "model_name": "ProgressStyleModel",
          "model_module_version": "1.5.0",
          "state": {
            "_model_module": "@jupyter-widgets/controls",
            "_model_module_version": "1.5.0",
            "_model_name": "ProgressStyleModel",
            "_view_count": null,
            "_view_module": "@jupyter-widgets/base",
            "_view_module_version": "1.2.0",
            "_view_name": "StyleView",
            "bar_color": null,
            "description_width": ""
          }
        },
        "bd948c7e9f1e4b7fad64a1d8962e46f2": {
          "model_module": "@jupyter-widgets/base",
          "model_name": "LayoutModel",
          "model_module_version": "1.2.0",
          "state": {
            "_model_module": "@jupyter-widgets/base",
            "_model_module_version": "1.2.0",
            "_model_name": "LayoutModel",
            "_view_count": null,
            "_view_module": "@jupyter-widgets/base",
            "_view_module_version": "1.2.0",
            "_view_name": "LayoutView",
            "align_content": null,
            "align_items": null,
            "align_self": null,
            "border": null,
            "bottom": null,
            "display": null,
            "flex": null,
            "flex_flow": null,
            "grid_area": null,
            "grid_auto_columns": null,
            "grid_auto_flow": null,
            "grid_auto_rows": null,
            "grid_column": null,
            "grid_gap": null,
            "grid_row": null,
            "grid_template_areas": null,
            "grid_template_columns": null,
            "grid_template_rows": null,
            "height": null,
            "justify_content": null,
            "justify_items": null,
            "left": null,
            "margin": null,
            "max_height": null,
            "max_width": null,
            "min_height": null,
            "min_width": null,
            "object_fit": null,
            "object_position": null,
            "order": null,
            "overflow": null,
            "overflow_x": null,
            "overflow_y": null,
            "padding": null,
            "right": null,
            "top": null,
            "visibility": null,
            "width": null
          }
        },
        "b068847092834c1cb8bad4b61a2a9f77": {
          "model_module": "@jupyter-widgets/controls",
          "model_name": "DescriptionStyleModel",
          "model_module_version": "1.5.0",
          "state": {
            "_model_module": "@jupyter-widgets/controls",
            "_model_module_version": "1.5.0",
            "_model_name": "DescriptionStyleModel",
            "_view_count": null,
            "_view_module": "@jupyter-widgets/base",
            "_view_module_version": "1.2.0",
            "_view_name": "StyleView",
            "description_width": ""
          }
        }
      }
    },
    "accelerator": "GPU"
  },
  "cells": [
    {
      "cell_type": "markdown",
      "metadata": {
        "id": "view-in-github",
        "colab_type": "text"
      },
      "source": [
        "<a href=\"https://colab.research.google.com/github/dhruvaditya/TextToSpeech/blob/main/TextToSpeech.ipynb\" target=\"_parent\"><img src=\"https://colab.research.google.com/assets/colab-badge.svg\" alt=\"Open In Colab\"/></a>"
      ]
    },
    {
      "cell_type": "code",
      "execution_count": null,
      "metadata": {
        "colab": {
          "base_uri": "https://localhost:8080/"
        },
        "id": "XRH8cBwdQLMO",
        "outputId": "539bcdae-ca8d-4f81-bf0b-f253650b45e2"
      },
      "outputs": [
        {
          "output_type": "stream",
          "name": "stdout",
          "text": [
            "Collecting replicate\n",
            "  Downloading replicate-0.23.1-py3-none-any.whl (36 kB)\n",
            "Collecting httpx<1,>=0.21.0 (from replicate)\n",
            "  Downloading httpx-0.26.0-py3-none-any.whl (75 kB)\n",
            "\u001b[2K     \u001b[90m━━━━━━━━━━━━━━━━━━━━━━━━━━━━━━━━━━━━━━━━\u001b[0m \u001b[32m75.9/75.9 kB\u001b[0m \u001b[31m7.1 MB/s\u001b[0m eta \u001b[36m0:00:00\u001b[0m\n",
            "\u001b[?25hRequirement already satisfied: packaging in /usr/local/lib/python3.10/dist-packages (from replicate) (23.2)\n",
            "Requirement already satisfied: pydantic>1 in /usr/local/lib/python3.10/dist-packages (from replicate) (2.6.1)\n",
            "Requirement already satisfied: typing-extensions>=4.5.0 in /usr/local/lib/python3.10/dist-packages (from replicate) (4.9.0)\n",
            "Requirement already satisfied: anyio in /usr/local/lib/python3.10/dist-packages (from httpx<1,>=0.21.0->replicate) (3.7.1)\n",
            "Requirement already satisfied: certifi in /usr/local/lib/python3.10/dist-packages (from httpx<1,>=0.21.0->replicate) (2024.2.2)\n",
            "Collecting httpcore==1.* (from httpx<1,>=0.21.0->replicate)\n",
            "  Downloading httpcore-1.0.2-py3-none-any.whl (76 kB)\n",
            "\u001b[2K     \u001b[90m━━━━━━━━━━━━━━━━━━━━━━━━━━━━━━━━━━━━━━━━\u001b[0m \u001b[32m76.9/76.9 kB\u001b[0m \u001b[31m9.2 MB/s\u001b[0m eta \u001b[36m0:00:00\u001b[0m\n",
            "\u001b[?25hRequirement already satisfied: idna in /usr/local/lib/python3.10/dist-packages (from httpx<1,>=0.21.0->replicate) (3.6)\n",
            "Requirement already satisfied: sniffio in /usr/local/lib/python3.10/dist-packages (from httpx<1,>=0.21.0->replicate) (1.3.0)\n",
            "Collecting h11<0.15,>=0.13 (from httpcore==1.*->httpx<1,>=0.21.0->replicate)\n",
            "  Downloading h11-0.14.0-py3-none-any.whl (58 kB)\n",
            "\u001b[2K     \u001b[90m━━━━━━━━━━━━━━━━━━━━━━━━━━━━━━━━━━━━━━━━\u001b[0m \u001b[32m58.3/58.3 kB\u001b[0m \u001b[31m7.3 MB/s\u001b[0m eta \u001b[36m0:00:00\u001b[0m\n",
            "\u001b[?25hRequirement already satisfied: annotated-types>=0.4.0 in /usr/local/lib/python3.10/dist-packages (from pydantic>1->replicate) (0.6.0)\n",
            "Requirement already satisfied: pydantic-core==2.16.2 in /usr/local/lib/python3.10/dist-packages (from pydantic>1->replicate) (2.16.2)\n",
            "Requirement already satisfied: exceptiongroup in /usr/local/lib/python3.10/dist-packages (from anyio->httpx<1,>=0.21.0->replicate) (1.2.0)\n",
            "Installing collected packages: h11, httpcore, httpx, replicate\n",
            "Successfully installed h11-0.14.0 httpcore-1.0.2 httpx-0.26.0 replicate-0.23.1\n"
          ]
        }
      ],
      "source": [
        "!pip install replicate"
      ]
    },
    {
      "cell_type": "code",
      "source": [],
      "metadata": {
        "id": "HDCs_X5bE3aU"
      },
      "execution_count": null,
      "outputs": []
    },
    {
      "cell_type": "code",
      "source": [
        "import os\n",
        "os.environ[\"REPLICATE_API_TOKEN\"]=\"r8_bwKArMzemAGNpGRGfCMD71Vz0mAzND82o0mnr\""
      ],
      "metadata": {
        "id": "zpXUK9hwUmX-"
      },
      "execution_count": null,
      "outputs": []
    },
    {
      "cell_type": "markdown",
      "source": [
        "Run the Llama 2 Model"
      ],
      "metadata": {
        "id": "C9IGHLgOVUJF"
      }
    },
    {
      "cell_type": "code",
      "source": [
        "import replicate\n",
        "#prompts\n",
        "pre_prompt=\"You are a helpful assistant . you do not respond as User or pretend to be user. You only respond once as assistant\"\n",
        "prompt_input=\"What is Streamlit\""
      ],
      "metadata": {
        "id": "GqUDS6aLVZwM"
      },
      "execution_count": null,
      "outputs": []
    },
    {
      "cell_type": "code",
      "source": [
        "!pip install transformers"
      ],
      "metadata": {
        "colab": {
          "base_uri": "https://localhost:8080/"
        },
        "id": "Hm1Q1pnJZG6M",
        "outputId": "0a78ebf3-8d97-4199-f3ea-7b1c5e975873"
      },
      "execution_count": null,
      "outputs": [
        {
          "output_type": "stream",
          "name": "stdout",
          "text": [
            "Requirement already satisfied: transformers in /usr/local/lib/python3.10/dist-packages (4.35.2)\n",
            "Requirement already satisfied: filelock in /usr/local/lib/python3.10/dist-packages (from transformers) (3.13.1)\n",
            "Requirement already satisfied: huggingface-hub<1.0,>=0.16.4 in /usr/local/lib/python3.10/dist-packages (from transformers) (0.20.3)\n",
            "Requirement already satisfied: numpy>=1.17 in /usr/local/lib/python3.10/dist-packages (from transformers) (1.23.5)\n",
            "Requirement already satisfied: packaging>=20.0 in /usr/local/lib/python3.10/dist-packages (from transformers) (23.2)\n",
            "Requirement already satisfied: pyyaml>=5.1 in /usr/local/lib/python3.10/dist-packages (from transformers) (6.0.1)\n",
            "Requirement already satisfied: regex!=2019.12.17 in /usr/local/lib/python3.10/dist-packages (from transformers) (2023.12.25)\n",
            "Requirement already satisfied: requests in /usr/local/lib/python3.10/dist-packages (from transformers) (2.31.0)\n",
            "Requirement already satisfied: tokenizers<0.19,>=0.14 in /usr/local/lib/python3.10/dist-packages (from transformers) (0.15.1)\n",
            "Requirement already satisfied: safetensors>=0.3.1 in /usr/local/lib/python3.10/dist-packages (from transformers) (0.4.2)\n",
            "Requirement already satisfied: tqdm>=4.27 in /usr/local/lib/python3.10/dist-packages (from transformers) (4.66.1)\n",
            "Requirement already satisfied: fsspec>=2023.5.0 in /usr/local/lib/python3.10/dist-packages (from huggingface-hub<1.0,>=0.16.4->transformers) (2023.6.0)\n",
            "Requirement already satisfied: typing-extensions>=3.7.4.3 in /usr/local/lib/python3.10/dist-packages (from huggingface-hub<1.0,>=0.16.4->transformers) (4.9.0)\n",
            "Requirement already satisfied: charset-normalizer<4,>=2 in /usr/local/lib/python3.10/dist-packages (from requests->transformers) (3.3.2)\n",
            "Requirement already satisfied: idna<4,>=2.5 in /usr/local/lib/python3.10/dist-packages (from requests->transformers) (3.6)\n",
            "Requirement already satisfied: urllib3<3,>=1.21.1 in /usr/local/lib/python3.10/dist-packages (from requests->transformers) (2.0.7)\n",
            "Requirement already satisfied: certifi>=2017.4.17 in /usr/local/lib/python3.10/dist-packages (from requests->transformers) (2024.2.2)\n"
          ]
        }
      ]
    },
    {
      "cell_type": "code",
      "source": [
        "from transformers import TFAutoModelForSeq2SeqLM, AutoTokenizer\n"
      ],
      "metadata": {
        "id": "x45HEP7UZMRg"
      },
      "execution_count": null,
      "outputs": []
    },
    {
      "cell_type": "code",
      "source": [
        "model_name = \"facebook/m2m100_418M\"\n",
        "model = TFAutoModelForSeq2SeqLM.from_pretrained(model_name)\n",
        "tokenizer = AutoTokenizer.from_pretrained(model_name)"
      ],
      "metadata": {
        "colab": {
          "base_uri": "https://localhost:8080/",
          "height": 557,
          "referenced_widgets": [
            "92f46e67298c4765b53b15598012e319",
            "50429018da064294b1a16f027bc83256",
            "0a1b1c957094446f81b3fc34c3d30596",
            "f59d6b872f6a4d2ca018f4cbd00ffe9f",
            "3283863886334422995ad055bd0ae6e9",
            "81e6a9122014474ebb04770865ad22b8",
            "bc676e2138b3442891bb872c5925dedb",
            "b55a33e62ed142529ea729f5fd79a9a0",
            "a208a4d2235b4387b1154c256481cf77",
            "bd948c7e9f1e4b7fad64a1d8962e46f2",
            "b068847092834c1cb8bad4b61a2a9f77"
          ]
        },
        "id": "0Ji-tZiGZSLI",
        "outputId": "07d7e660-fa20-4543-f219-47792320ca3a"
      },
      "execution_count": null,
      "outputs": [
        {
          "output_type": "stream",
          "name": "stderr",
          "text": [
            "/usr/local/lib/python3.10/dist-packages/huggingface_hub/utils/_token.py:88: UserWarning: \n",
            "The secret `HF_TOKEN` does not exist in your Colab secrets.\n",
            "To authenticate with the Hugging Face Hub, create a token in your settings tab (https://huggingface.co/settings/tokens), set it as secret in your Google Colab and restart your session.\n",
            "You will be able to reuse this secret in all of your notebooks.\n",
            "Please note that authentication is recommended but still optional to access public models or datasets.\n",
            "  warnings.warn(\n"
          ]
        },
        {
          "output_type": "display_data",
          "data": {
            "text/plain": [
              "config.json:   0%|          | 0.00/908 [00:00<?, ?B/s]"
            ],
            "application/vnd.jupyter.widget-view+json": {
              "version_major": 2,
              "version_minor": 0,
              "model_id": "92f46e67298c4765b53b15598012e319"
            }
          },
          "metadata": {}
        },
        {
          "output_type": "error",
          "ename": "ValueError",
          "evalue": "Unrecognized configuration class <class 'transformers.models.m2m_100.configuration_m2m_100.M2M100Config'> for this kind of AutoModel: TFAutoModelForSeq2SeqLM.\nModel type should be one of BartConfig, BlenderbotConfig, BlenderbotSmallConfig, EncoderDecoderConfig, LEDConfig, MarianConfig, MBartConfig, MT5Config, PegasusConfig, T5Config.",
          "traceback": [
            "\u001b[0;31m---------------------------------------------------------------------------\u001b[0m",
            "\u001b[0;31mValueError\u001b[0m                                Traceback (most recent call last)",
            "\u001b[0;32m<ipython-input-5-b534c69ec010>\u001b[0m in \u001b[0;36m<cell line: 2>\u001b[0;34m()\u001b[0m\n\u001b[1;32m      1\u001b[0m \u001b[0mmodel_name\u001b[0m \u001b[0;34m=\u001b[0m \u001b[0;34m\"facebook/m2m100_418M\"\u001b[0m\u001b[0;34m\u001b[0m\u001b[0;34m\u001b[0m\u001b[0m\n\u001b[0;32m----> 2\u001b[0;31m \u001b[0mmodel\u001b[0m \u001b[0;34m=\u001b[0m \u001b[0mTFAutoModelForSeq2SeqLM\u001b[0m\u001b[0;34m.\u001b[0m\u001b[0mfrom_pretrained\u001b[0m\u001b[0;34m(\u001b[0m\u001b[0mmodel_name\u001b[0m\u001b[0;34m)\u001b[0m\u001b[0;34m\u001b[0m\u001b[0;34m\u001b[0m\u001b[0m\n\u001b[0m\u001b[1;32m      3\u001b[0m \u001b[0mtokenizer\u001b[0m \u001b[0;34m=\u001b[0m \u001b[0mAutoTokenizer\u001b[0m\u001b[0;34m.\u001b[0m\u001b[0mfrom_pretrained\u001b[0m\u001b[0;34m(\u001b[0m\u001b[0mmodel_name\u001b[0m\u001b[0;34m)\u001b[0m\u001b[0;34m\u001b[0m\u001b[0;34m\u001b[0m\u001b[0m\n",
            "\u001b[0;32m/usr/local/lib/python3.10/dist-packages/transformers/models/auto/auto_factory.py\u001b[0m in \u001b[0;36mfrom_pretrained\u001b[0;34m(cls, pretrained_model_name_or_path, *model_args, **kwargs)\u001b[0m\n\u001b[1;32m    567\u001b[0m                 \u001b[0mpretrained_model_name_or_path\u001b[0m\u001b[0;34m,\u001b[0m \u001b[0;34m*\u001b[0m\u001b[0mmodel_args\u001b[0m\u001b[0;34m,\u001b[0m \u001b[0mconfig\u001b[0m\u001b[0;34m=\u001b[0m\u001b[0mconfig\u001b[0m\u001b[0;34m,\u001b[0m \u001b[0;34m**\u001b[0m\u001b[0mhub_kwargs\u001b[0m\u001b[0;34m,\u001b[0m \u001b[0;34m**\u001b[0m\u001b[0mkwargs\u001b[0m\u001b[0;34m\u001b[0m\u001b[0;34m\u001b[0m\u001b[0m\n\u001b[1;32m    568\u001b[0m             )\n\u001b[0;32m--> 569\u001b[0;31m         raise ValueError(\n\u001b[0m\u001b[1;32m    570\u001b[0m             \u001b[0;34mf\"Unrecognized configuration class {config.__class__} for this kind of AutoModel: {cls.__name__}.\\n\"\u001b[0m\u001b[0;34m\u001b[0m\u001b[0;34m\u001b[0m\u001b[0m\n\u001b[1;32m    571\u001b[0m             \u001b[0;34mf\"Model type should be one of {', '.join(c.__name__ for c in cls._model_mapping.keys())}.\"\u001b[0m\u001b[0;34m\u001b[0m\u001b[0;34m\u001b[0m\u001b[0m\n",
            "\u001b[0;31mValueError\u001b[0m: Unrecognized configuration class <class 'transformers.models.m2m_100.configuration_m2m_100.M2M100Config'> for this kind of AutoModel: TFAutoModelForSeq2SeqLM.\nModel type should be one of BartConfig, BlenderbotConfig, BlenderbotSmallConfig, EncoderDecoderConfig, LEDConfig, MarianConfig, MBartConfig, MT5Config, PegasusConfig, T5Config."
          ]
        }
      ]
    },
    {
      "cell_type": "code",
      "source": [
        "!pip install transformers"
      ],
      "metadata": {
        "colab": {
          "base_uri": "https://localhost:8080/"
        },
        "id": "KxppurwhE6_B",
        "outputId": "eb08442b-0bc4-4b92-880f-33d57fec7e4a"
      },
      "execution_count": 1,
      "outputs": [
        {
          "output_type": "stream",
          "name": "stdout",
          "text": [
            "Requirement already satisfied: transformers in /usr/local/lib/python3.10/dist-packages (4.35.2)\n",
            "Requirement already satisfied: filelock in /usr/local/lib/python3.10/dist-packages (from transformers) (3.13.1)\n",
            "Requirement already satisfied: huggingface-hub<1.0,>=0.16.4 in /usr/local/lib/python3.10/dist-packages (from transformers) (0.20.3)\n",
            "Requirement already satisfied: numpy>=1.17 in /usr/local/lib/python3.10/dist-packages (from transformers) (1.23.5)\n",
            "Requirement already satisfied: packaging>=20.0 in /usr/local/lib/python3.10/dist-packages (from transformers) (23.2)\n",
            "Requirement already satisfied: pyyaml>=5.1 in /usr/local/lib/python3.10/dist-packages (from transformers) (6.0.1)\n",
            "Requirement already satisfied: regex!=2019.12.17 in /usr/local/lib/python3.10/dist-packages (from transformers) (2023.12.25)\n",
            "Requirement already satisfied: requests in /usr/local/lib/python3.10/dist-packages (from transformers) (2.31.0)\n",
            "Requirement already satisfied: tokenizers<0.19,>=0.14 in /usr/local/lib/python3.10/dist-packages (from transformers) (0.15.1)\n",
            "Requirement already satisfied: safetensors>=0.3.1 in /usr/local/lib/python3.10/dist-packages (from transformers) (0.4.2)\n",
            "Requirement already satisfied: tqdm>=4.27 in /usr/local/lib/python3.10/dist-packages (from transformers) (4.66.1)\n",
            "Requirement already satisfied: fsspec>=2023.5.0 in /usr/local/lib/python3.10/dist-packages (from huggingface-hub<1.0,>=0.16.4->transformers) (2023.6.0)\n",
            "Requirement already satisfied: typing-extensions>=3.7.4.3 in /usr/local/lib/python3.10/dist-packages (from huggingface-hub<1.0,>=0.16.4->transformers) (4.9.0)\n",
            "Requirement already satisfied: charset-normalizer<4,>=2 in /usr/local/lib/python3.10/dist-packages (from requests->transformers) (3.3.2)\n",
            "Requirement already satisfied: idna<4,>=2.5 in /usr/local/lib/python3.10/dist-packages (from requests->transformers) (3.6)\n",
            "Requirement already satisfied: urllib3<3,>=1.21.1 in /usr/local/lib/python3.10/dist-packages (from requests->transformers) (2.0.7)\n",
            "Requirement already satisfied: certifi>=2017.4.17 in /usr/local/lib/python3.10/dist-packages (from requests->transformers) (2024.2.2)\n"
          ]
        }
      ]
    },
    {
      "cell_type": "code",
      "source": [
        "!pip install TTS"
      ],
      "metadata": {
        "colab": {
          "base_uri": "https://localhost:8080/",
          "height": 1000
        },
        "id": "R5SStCAJRQUA",
        "outputId": "52469d71-cd87-4fe1-d25a-cc1c60296564"
      },
      "execution_count": 6,
      "outputs": [
        {
          "output_type": "stream",
          "name": "stdout",
          "text": [
            "Collecting TTS\n",
            "  Downloading TTS-0.22.0-cp310-cp310-manylinux1_x86_64.whl (938 kB)\n",
            "\u001b[2K     \u001b[90m━━━━━━━━━━━━━━━━━━━━━━━━━━━━━━━━━━━━━━━━\u001b[0m \u001b[32m938.0/938.0 kB\u001b[0m \u001b[31m7.0 MB/s\u001b[0m eta \u001b[36m0:00:00\u001b[0m\n",
            "\u001b[?25hRequirement already satisfied: cython>=0.29.30 in /usr/local/lib/python3.10/dist-packages (from TTS) (3.0.8)\n",
            "Requirement already satisfied: scipy>=1.11.2 in /usr/local/lib/python3.10/dist-packages (from TTS) (1.11.4)\n",
            "Requirement already satisfied: torch>=2.1 in /usr/local/lib/python3.10/dist-packages (from TTS) (2.1.0+cu121)\n",
            "Requirement already satisfied: torchaudio in /usr/local/lib/python3.10/dist-packages (from TTS) (2.1.0+cu121)\n",
            "Requirement already satisfied: soundfile>=0.12.0 in /usr/local/lib/python3.10/dist-packages (from TTS) (0.12.1)\n",
            "Requirement already satisfied: librosa>=0.10.0 in /usr/local/lib/python3.10/dist-packages (from TTS) (0.10.1)\n",
            "Collecting scikit-learn>=1.3.0 (from TTS)\n",
            "  Downloading scikit_learn-1.4.0-1-cp310-cp310-manylinux_2_17_x86_64.manylinux2014_x86_64.whl (12.1 MB)\n",
            "\u001b[2K     \u001b[90m━━━━━━━━━━━━━━━━━━━━━━━━━━━━━━━━━━━━━━━━\u001b[0m \u001b[32m12.1/12.1 MB\u001b[0m \u001b[31m35.4 MB/s\u001b[0m eta \u001b[36m0:00:00\u001b[0m\n",
            "\u001b[?25hRequirement already satisfied: inflect>=5.6.0 in /usr/local/lib/python3.10/dist-packages (from TTS) (7.0.0)\n",
            "Requirement already satisfied: tqdm>=4.64.1 in /usr/local/lib/python3.10/dist-packages (from TTS) (4.66.1)\n",
            "Collecting anyascii>=0.3.0 (from TTS)\n",
            "  Downloading anyascii-0.3.2-py3-none-any.whl (289 kB)\n",
            "\u001b[2K     \u001b[90m━━━━━━━━━━━━━━━━━━━━━━━━━━━━━━━━━━━━━━━━\u001b[0m \u001b[32m289.9/289.9 kB\u001b[0m \u001b[31m32.2 MB/s\u001b[0m eta \u001b[36m0:00:00\u001b[0m\n",
            "\u001b[?25hRequirement already satisfied: pyyaml>=6.0 in /usr/local/lib/python3.10/dist-packages (from TTS) (6.0.1)\n",
            "Requirement already satisfied: fsspec>=2023.6.0 in /usr/local/lib/python3.10/dist-packages (from TTS) (2023.6.0)\n",
            "Requirement already satisfied: aiohttp>=3.8.1 in /usr/local/lib/python3.10/dist-packages (from TTS) (3.9.3)\n",
            "Requirement already satisfied: packaging>=23.1 in /usr/local/lib/python3.10/dist-packages (from TTS) (23.2)\n",
            "Requirement already satisfied: flask>=2.0.1 in /usr/local/lib/python3.10/dist-packages (from TTS) (2.2.5)\n",
            "Collecting pysbd>=0.3.4 (from TTS)\n",
            "  Downloading pysbd-0.3.4-py3-none-any.whl (71 kB)\n",
            "\u001b[2K     \u001b[90m━━━━━━━━━━━━━━━━━━━━━━━━━━━━━━━━━━━━━━━━\u001b[0m \u001b[32m71.1/71.1 kB\u001b[0m \u001b[31m9.3 MB/s\u001b[0m eta \u001b[36m0:00:00\u001b[0m\n",
            "\u001b[?25hCollecting umap-learn>=0.5.1 (from TTS)\n",
            "  Downloading umap-learn-0.5.5.tar.gz (90 kB)\n",
            "\u001b[2K     \u001b[90m━━━━━━━━━━━━━━━━━━━━━━━━━━━━━━━━━━━━━━━━\u001b[0m \u001b[32m90.9/90.9 kB\u001b[0m \u001b[31m13.4 MB/s\u001b[0m eta \u001b[36m0:00:00\u001b[0m\n",
            "\u001b[?25h  Preparing metadata (setup.py) ... \u001b[?25l\u001b[?25hdone\n",
            "Requirement already satisfied: pandas<2.0,>=1.4 in /usr/local/lib/python3.10/dist-packages (from TTS) (1.5.3)\n",
            "Requirement already satisfied: matplotlib>=3.7.0 in /usr/local/lib/python3.10/dist-packages (from TTS) (3.7.1)\n",
            "Collecting trainer>=0.0.32 (from TTS)\n",
            "  Downloading trainer-0.0.36-py3-none-any.whl (51 kB)\n",
            "\u001b[2K     \u001b[90m━━━━━━━━━━━━━━━━━━━━━━━━━━━━━━━━━━━━━━━━\u001b[0m \u001b[32m51.2/51.2 kB\u001b[0m \u001b[31m8.6 MB/s\u001b[0m eta \u001b[36m0:00:00\u001b[0m\n",
            "\u001b[?25hCollecting coqpit>=0.0.16 (from TTS)\n",
            "  Downloading coqpit-0.0.17-py3-none-any.whl (13 kB)\n",
            "Requirement already satisfied: jieba in /usr/local/lib/python3.10/dist-packages (from TTS) (0.42.1)\n",
            "Collecting pypinyin (from TTS)\n",
            "  Downloading pypinyin-0.50.0-py2.py3-none-any.whl (1.4 MB)\n",
            "\u001b[2K     \u001b[90m━━━━━━━━━━━━━━━━━━━━━━━━━━━━━━━━━━━━━━━━\u001b[0m \u001b[32m1.4/1.4 MB\u001b[0m \u001b[31m64.1 MB/s\u001b[0m eta \u001b[36m0:00:00\u001b[0m\n",
            "\u001b[?25hCollecting hangul-romanize (from TTS)\n",
            "  Downloading hangul_romanize-0.1.0-py3-none-any.whl (4.6 kB)\n",
            "Collecting gruut[de,es,fr]==2.2.3 (from TTS)\n",
            "  Downloading gruut-2.2.3.tar.gz (73 kB)\n",
            "\u001b[2K     \u001b[90m━━━━━━━━━━━━━━━━━━━━━━━━━━━━━━━━━━━━━━━━\u001b[0m \u001b[32m73.5/73.5 kB\u001b[0m \u001b[31m11.4 MB/s\u001b[0m eta \u001b[36m0:00:00\u001b[0m\n",
            "\u001b[?25h  Preparing metadata (setup.py) ... \u001b[?25l\u001b[?25hdone\n",
            "Collecting jamo (from TTS)\n",
            "  Downloading jamo-0.4.1-py3-none-any.whl (9.5 kB)\n",
            "Requirement already satisfied: nltk in /usr/local/lib/python3.10/dist-packages (from TTS) (3.8.1)\n",
            "Collecting g2pkk>=0.1.1 (from TTS)\n",
            "  Downloading g2pkk-0.1.2-py3-none-any.whl (25 kB)\n",
            "Collecting bangla (from TTS)\n",
            "  Downloading bangla-0.0.2-py2.py3-none-any.whl (6.2 kB)\n",
            "Collecting bnnumerizer (from TTS)\n",
            "  Downloading bnnumerizer-0.0.2.tar.gz (4.7 kB)\n",
            "  Preparing metadata (setup.py) ... \u001b[?25l\u001b[?25hdone\n",
            "Collecting bnunicodenormalizer (from TTS)\n",
            "  Downloading bnunicodenormalizer-0.1.6.tar.gz (39 kB)\n",
            "  Preparing metadata (setup.py) ... \u001b[?25l\u001b[?25hdone\n",
            "Collecting einops>=0.6.0 (from TTS)\n",
            "  Downloading einops-0.7.0-py3-none-any.whl (44 kB)\n",
            "\u001b[2K     \u001b[90m━━━━━━━━━━━━━━━━━━━━━━━━━━━━━━━━━━━━━━━━\u001b[0m \u001b[32m44.6/44.6 kB\u001b[0m \u001b[31m6.6 MB/s\u001b[0m eta \u001b[36m0:00:00\u001b[0m\n",
            "\u001b[?25hRequirement already satisfied: transformers>=4.33.0 in /usr/local/lib/python3.10/dist-packages (from TTS) (4.35.2)\n",
            "Collecting encodec>=0.1.1 (from TTS)\n",
            "  Downloading encodec-0.1.1.tar.gz (3.7 MB)\n",
            "\u001b[2K     \u001b[90m━━━━━━━━━━━━━━━━━━━━━━━━━━━━━━━━━━━━━━━━\u001b[0m \u001b[32m3.7/3.7 MB\u001b[0m \u001b[31m74.6 MB/s\u001b[0m eta \u001b[36m0:00:00\u001b[0m\n",
            "\u001b[?25h  Preparing metadata (setup.py) ... \u001b[?25l\u001b[?25hdone\n",
            "Collecting unidecode>=1.3.2 (from TTS)\n",
            "  Downloading Unidecode-1.3.8-py3-none-any.whl (235 kB)\n",
            "\u001b[2K     \u001b[90m━━━━━━━━━━━━━━━━━━━━━━━━━━━━━━━━━━━━━━━━\u001b[0m \u001b[32m235.5/235.5 kB\u001b[0m \u001b[31m31.6 MB/s\u001b[0m eta \u001b[36m0:00:00\u001b[0m\n",
            "\u001b[?25hCollecting num2words (from TTS)\n",
            "  Downloading num2words-0.5.13-py3-none-any.whl (143 kB)\n",
            "\u001b[2K     \u001b[90m━━━━━━━━━━━━━━━━━━━━━━━━━━━━━━━━━━━━━━━━\u001b[0m \u001b[32m143.3/143.3 kB\u001b[0m \u001b[31m22.4 MB/s\u001b[0m eta \u001b[36m0:00:00\u001b[0m\n",
            "\u001b[?25hRequirement already satisfied: spacy[ja]>=3 in /usr/local/lib/python3.10/dist-packages (from TTS) (3.7.3)\n",
            "Collecting numpy==1.22.0 (from TTS)\n",
            "  Downloading numpy-1.22.0-cp310-cp310-manylinux_2_17_x86_64.manylinux2014_x86_64.whl (16.8 MB)\n",
            "\u001b[2K     \u001b[90m━━━━━━━━━━━━━━━━━━━━━━━━━━━━━━━━━━━━━━━━\u001b[0m \u001b[32m16.8/16.8 MB\u001b[0m \u001b[31m83.4 MB/s\u001b[0m eta \u001b[36m0:00:00\u001b[0m\n",
            "\u001b[?25hRequirement already satisfied: numba>=0.57.0 in /usr/local/lib/python3.10/dist-packages (from TTS) (0.58.1)\n",
            "Requirement already satisfied: Babel<3.0.0,>=2.8.0 in /usr/local/lib/python3.10/dist-packages (from gruut[de,es,fr]==2.2.3->TTS) (2.14.0)\n",
            "Collecting dateparser~=1.1.0 (from gruut[de,es,fr]==2.2.3->TTS)\n",
            "  Downloading dateparser-1.1.8-py2.py3-none-any.whl (293 kB)\n",
            "\u001b[2K     \u001b[90m━━━━━━━━━━━━━━━━━━━━━━━━━━━━━━━━━━━━━━━━\u001b[0m \u001b[32m293.8/293.8 kB\u001b[0m \u001b[31m38.4 MB/s\u001b[0m eta \u001b[36m0:00:00\u001b[0m\n",
            "\u001b[?25hCollecting gruut-ipa<1.0,>=0.12.0 (from gruut[de,es,fr]==2.2.3->TTS)\n",
            "  Downloading gruut-ipa-0.13.0.tar.gz (101 kB)\n",
            "\u001b[2K     \u001b[90m━━━━━━━━━━━━━━━━━━━━━━━━━━━━━━━━━━━━━━━━\u001b[0m \u001b[32m101.6/101.6 kB\u001b[0m \u001b[31m14.2 MB/s\u001b[0m eta \u001b[36m0:00:00\u001b[0m\n",
            "\u001b[?25h  Preparing metadata (setup.py) ... \u001b[?25l\u001b[?25hdone\n",
            "Collecting gruut_lang_en~=2.0.0 (from gruut[de,es,fr]==2.2.3->TTS)\n",
            "  Downloading gruut_lang_en-2.0.0.tar.gz (15.2 MB)\n",
            "\u001b[2K     \u001b[90m━━━━━━━━━━━━━━━━━━━━━━━━━━━━━━━━━━━━━━━━\u001b[0m \u001b[32m15.2/15.2 MB\u001b[0m \u001b[31m59.2 MB/s\u001b[0m eta \u001b[36m0:00:00\u001b[0m\n",
            "\u001b[?25h  Preparing metadata (setup.py) ... \u001b[?25l\u001b[?25hdone\n",
            "Collecting jsonlines~=1.2.0 (from gruut[de,es,fr]==2.2.3->TTS)\n",
            "  Downloading jsonlines-1.2.0-py2.py3-none-any.whl (7.6 kB)\n",
            "Collecting networkx<3.0.0,>=2.5.0 (from gruut[de,es,fr]==2.2.3->TTS)\n",
            "  Downloading networkx-2.8.8-py3-none-any.whl (2.0 MB)\n",
            "\u001b[2K     \u001b[90m━━━━━━━━━━━━━━━━━━━━━━━━━━━━━━━━━━━━━━━━\u001b[0m \u001b[32m2.0/2.0 MB\u001b[0m \u001b[31m76.3 MB/s\u001b[0m eta \u001b[36m0:00:00\u001b[0m\n",
            "\u001b[?25hCollecting python-crfsuite~=0.9.7 (from gruut[de,es,fr]==2.2.3->TTS)\n",
            "  Downloading python_crfsuite-0.9.10-cp310-cp310-manylinux_2_17_x86_64.manylinux2014_x86_64.whl (1.1 MB)\n",
            "\u001b[2K     \u001b[90m━━━━━━━━━━━━━━━━━━━━━━━━━━━━━━━━━━━━━━━━\u001b[0m \u001b[32m1.1/1.1 MB\u001b[0m \u001b[31m56.0 MB/s\u001b[0m eta \u001b[36m0:00:00\u001b[0m\n",
            "\u001b[?25hCollecting gruut_lang_es~=2.0.0 (from gruut[de,es,fr]==2.2.3->TTS)\n",
            "  Downloading gruut_lang_es-2.0.0.tar.gz (31.4 MB)\n",
            "\u001b[2K     \u001b[90m━━━━━━━━━━━━━━━━━━━━━━━━━━━━━━━━━━━━━━━━\u001b[0m \u001b[32m31.4/31.4 MB\u001b[0m \u001b[31m12.3 MB/s\u001b[0m eta \u001b[36m0:00:00\u001b[0m\n",
            "\u001b[?25h  Preparing metadata (setup.py) ... \u001b[?25l\u001b[?25hdone\n",
            "Collecting gruut_lang_fr~=2.0.0 (from gruut[de,es,fr]==2.2.3->TTS)\n",
            "  Downloading gruut_lang_fr-2.0.2.tar.gz (10.9 MB)\n",
            "\u001b[2K     \u001b[90m━━━━━━━━━━━━━━━━━━━━━━━━━━━━━━━━━━━━━━━━\u001b[0m \u001b[32m10.9/10.9 MB\u001b[0m \u001b[31m78.3 MB/s\u001b[0m eta \u001b[36m0:00:00\u001b[0m\n",
            "\u001b[?25h  Preparing metadata (setup.py) ... \u001b[?25l\u001b[?25hdone\n",
            "Collecting gruut_lang_de~=2.0.0 (from gruut[de,es,fr]==2.2.3->TTS)\n",
            "  Downloading gruut_lang_de-2.0.0.tar.gz (18.1 MB)\n",
            "\u001b[2K     \u001b[90m━━━━━━━━━━━━━━━━━━━━━━━━━━━━━━━━━━━━━━━━\u001b[0m \u001b[32m18.1/18.1 MB\u001b[0m \u001b[31m81.9 MB/s\u001b[0m eta \u001b[36m0:00:00\u001b[0m\n",
            "\u001b[?25h  Preparing metadata (setup.py) ... \u001b[?25l\u001b[?25hdone\n",
            "Requirement already satisfied: aiosignal>=1.1.2 in /usr/local/lib/python3.10/dist-packages (from aiohttp>=3.8.1->TTS) (1.3.1)\n",
            "Requirement already satisfied: attrs>=17.3.0 in /usr/local/lib/python3.10/dist-packages (from aiohttp>=3.8.1->TTS) (23.2.0)\n",
            "Requirement already satisfied: frozenlist>=1.1.1 in /usr/local/lib/python3.10/dist-packages (from aiohttp>=3.8.1->TTS) (1.4.1)\n",
            "Requirement already satisfied: multidict<7.0,>=4.5 in /usr/local/lib/python3.10/dist-packages (from aiohttp>=3.8.1->TTS) (6.0.5)\n",
            "Requirement already satisfied: yarl<2.0,>=1.0 in /usr/local/lib/python3.10/dist-packages (from aiohttp>=3.8.1->TTS) (1.9.4)\n",
            "Requirement already satisfied: async-timeout<5.0,>=4.0 in /usr/local/lib/python3.10/dist-packages (from aiohttp>=3.8.1->TTS) (4.0.3)\n",
            "Requirement already satisfied: Werkzeug>=2.2.2 in /usr/local/lib/python3.10/dist-packages (from flask>=2.0.1->TTS) (3.0.1)\n",
            "Requirement already satisfied: Jinja2>=3.0 in /usr/local/lib/python3.10/dist-packages (from flask>=2.0.1->TTS) (3.1.3)\n",
            "Requirement already satisfied: itsdangerous>=2.0 in /usr/local/lib/python3.10/dist-packages (from flask>=2.0.1->TTS) (2.1.2)\n",
            "Requirement already satisfied: click>=8.0 in /usr/local/lib/python3.10/dist-packages (from flask>=2.0.1->TTS) (8.1.7)\n",
            "Requirement already satisfied: pydantic>=1.9.1 in /usr/local/lib/python3.10/dist-packages (from inflect>=5.6.0->TTS) (2.6.1)\n",
            "Requirement already satisfied: typing-extensions in /usr/local/lib/python3.10/dist-packages (from inflect>=5.6.0->TTS) (4.9.0)\n",
            "Requirement already satisfied: audioread>=2.1.9 in /usr/local/lib/python3.10/dist-packages (from librosa>=0.10.0->TTS) (3.0.1)\n",
            "INFO: pip is looking at multiple versions of librosa to determine which version is compatible with other requirements. This could take a while.\n",
            "Collecting librosa>=0.10.0 (from TTS)\n",
            "  Downloading librosa-0.10.0.post2-py3-none-any.whl (253 kB)\n",
            "\u001b[2K     \u001b[90m━━━━━━━━━━━━━━━━━━━━━━━━━━━━━━━━━━━━━━━━\u001b[0m \u001b[32m253.0/253.0 kB\u001b[0m \u001b[31m34.3 MB/s\u001b[0m eta \u001b[36m0:00:00\u001b[0m\n",
            "\u001b[?25h  Downloading librosa-0.10.0.post1-py3-none-any.whl (252 kB)\n",
            "\u001b[2K     \u001b[90m━━━━━━━━━━━━━━━━━━━━━━━━━━━━━━━━━━━━━━━━\u001b[0m \u001b[32m253.0/253.0 kB\u001b[0m \u001b[31m30.4 MB/s\u001b[0m eta \u001b[36m0:00:00\u001b[0m\n",
            "\u001b[?25h  Downloading librosa-0.10.0-py3-none-any.whl (252 kB)\n",
            "\u001b[2K     \u001b[90m━━━━━━━━━━━━━━━━━━━━━━━━━━━━━━━━━━━━━━━━\u001b[0m \u001b[32m252.9/252.9 kB\u001b[0m \u001b[31m33.7 MB/s\u001b[0m eta \u001b[36m0:00:00\u001b[0m\n",
            "\u001b[?25hRequirement already satisfied: joblib>=0.14 in /usr/local/lib/python3.10/dist-packages (from librosa>=0.10.0->TTS) (1.3.2)\n",
            "Requirement already satisfied: decorator>=4.3.0 in /usr/local/lib/python3.10/dist-packages (from librosa>=0.10.0->TTS) (4.4.2)\n",
            "Requirement already satisfied: pooch>=1.0 in /usr/local/lib/python3.10/dist-packages (from librosa>=0.10.0->TTS) (1.8.0)\n",
            "Requirement already satisfied: soxr>=0.3.2 in /usr/local/lib/python3.10/dist-packages (from librosa>=0.10.0->TTS) (0.3.7)\n",
            "Requirement already satisfied: lazy-loader>=0.1 in /usr/local/lib/python3.10/dist-packages (from librosa>=0.10.0->TTS) (0.3)\n",
            "Requirement already satisfied: msgpack>=1.0 in /usr/local/lib/python3.10/dist-packages (from librosa>=0.10.0->TTS) (1.0.7)\n",
            "Requirement already satisfied: contourpy>=1.0.1 in /usr/local/lib/python3.10/dist-packages (from matplotlib>=3.7.0->TTS) (1.2.0)\n",
            "Requirement already satisfied: cycler>=0.10 in /usr/local/lib/python3.10/dist-packages (from matplotlib>=3.7.0->TTS) (0.12.1)\n",
            "Requirement already satisfied: fonttools>=4.22.0 in /usr/local/lib/python3.10/dist-packages (from matplotlib>=3.7.0->TTS) (4.48.1)\n",
            "Requirement already satisfied: kiwisolver>=1.0.1 in /usr/local/lib/python3.10/dist-packages (from matplotlib>=3.7.0->TTS) (1.4.5)\n",
            "Requirement already satisfied: pillow>=6.2.0 in /usr/local/lib/python3.10/dist-packages (from matplotlib>=3.7.0->TTS) (9.4.0)\n",
            "Requirement already satisfied: pyparsing>=2.3.1 in /usr/local/lib/python3.10/dist-packages (from matplotlib>=3.7.0->TTS) (3.1.1)\n",
            "Requirement already satisfied: python-dateutil>=2.7 in /usr/local/lib/python3.10/dist-packages (from matplotlib>=3.7.0->TTS) (2.8.2)\n",
            "Collecting docopt>=0.6.2 (from num2words->TTS)\n",
            "  Downloading docopt-0.6.2.tar.gz (25 kB)\n",
            "  Preparing metadata (setup.py) ... \u001b[?25l\u001b[?25hdone\n",
            "Requirement already satisfied: llvmlite<0.42,>=0.41.0dev0 in /usr/local/lib/python3.10/dist-packages (from numba>=0.57.0->TTS) (0.41.1)\n",
            "Requirement already satisfied: pytz>=2020.1 in /usr/local/lib/python3.10/dist-packages (from pandas<2.0,>=1.4->TTS) (2023.4)\n",
            "Requirement already satisfied: threadpoolctl>=2.0.0 in /usr/local/lib/python3.10/dist-packages (from scikit-learn>=1.3.0->TTS) (3.2.0)\n",
            "Requirement already satisfied: cffi>=1.0 in /usr/local/lib/python3.10/dist-packages (from soundfile>=0.12.0->TTS) (1.16.0)\n",
            "Requirement already satisfied: spacy-legacy<3.1.0,>=3.0.11 in /usr/local/lib/python3.10/dist-packages (from spacy[ja]>=3->TTS) (3.0.12)\n",
            "Requirement already satisfied: spacy-loggers<2.0.0,>=1.0.0 in /usr/local/lib/python3.10/dist-packages (from spacy[ja]>=3->TTS) (1.0.5)\n",
            "Requirement already satisfied: murmurhash<1.1.0,>=0.28.0 in /usr/local/lib/python3.10/dist-packages (from spacy[ja]>=3->TTS) (1.0.10)\n",
            "Requirement already satisfied: cymem<2.1.0,>=2.0.2 in /usr/local/lib/python3.10/dist-packages (from spacy[ja]>=3->TTS) (2.0.8)\n",
            "Requirement already satisfied: preshed<3.1.0,>=3.0.2 in /usr/local/lib/python3.10/dist-packages (from spacy[ja]>=3->TTS) (3.0.9)\n",
            "Requirement already satisfied: thinc<8.3.0,>=8.2.2 in /usr/local/lib/python3.10/dist-packages (from spacy[ja]>=3->TTS) (8.2.3)\n",
            "Requirement already satisfied: wasabi<1.2.0,>=0.9.1 in /usr/local/lib/python3.10/dist-packages (from spacy[ja]>=3->TTS) (1.1.2)\n",
            "Requirement already satisfied: srsly<3.0.0,>=2.4.3 in /usr/local/lib/python3.10/dist-packages (from spacy[ja]>=3->TTS) (2.4.8)\n",
            "Requirement already satisfied: catalogue<2.1.0,>=2.0.6 in /usr/local/lib/python3.10/dist-packages (from spacy[ja]>=3->TTS) (2.0.10)\n",
            "Requirement already satisfied: weasel<0.4.0,>=0.1.0 in /usr/local/lib/python3.10/dist-packages (from spacy[ja]>=3->TTS) (0.3.4)\n",
            "Requirement already satisfied: typer<0.10.0,>=0.3.0 in /usr/local/lib/python3.10/dist-packages (from spacy[ja]>=3->TTS) (0.9.0)\n",
            "Requirement already satisfied: smart-open<7.0.0,>=5.2.1 in /usr/local/lib/python3.10/dist-packages (from spacy[ja]>=3->TTS) (6.4.0)\n",
            "Requirement already satisfied: requests<3.0.0,>=2.13.0 in /usr/local/lib/python3.10/dist-packages (from spacy[ja]>=3->TTS) (2.31.0)\n",
            "Requirement already satisfied: setuptools in /usr/local/lib/python3.10/dist-packages (from spacy[ja]>=3->TTS) (67.7.2)\n",
            "Requirement already satisfied: langcodes<4.0.0,>=3.2.0 in /usr/local/lib/python3.10/dist-packages (from spacy[ja]>=3->TTS) (3.3.0)\n",
            "Collecting sudachipy!=0.6.1,>=0.5.2 (from spacy[ja]>=3->TTS)\n",
            "  Downloading SudachiPy-0.6.8-cp310-cp310-manylinux_2_17_x86_64.manylinux2014_x86_64.whl (2.6 MB)\n",
            "\u001b[2K     \u001b[90m━━━━━━━━━━━━━━━━━━━━━━━━━━━━━━━━━━━━━━━━\u001b[0m \u001b[32m2.6/2.6 MB\u001b[0m \u001b[31m97.0 MB/s\u001b[0m eta \u001b[36m0:00:00\u001b[0m\n",
            "\u001b[?25hCollecting sudachidict-core>=20211220 (from spacy[ja]>=3->TTS)\n",
            "  Downloading SudachiDict_core-20240109-py3-none-any.whl (71.8 MB)\n",
            "\u001b[2K     \u001b[90m━━━━━━━━━━━━━━━━━━━━━━━━━━━━━━━━━━━━━━━━\u001b[0m \u001b[32m71.8/71.8 MB\u001b[0m \u001b[31m9.7 MB/s\u001b[0m eta \u001b[36m0:00:00\u001b[0m\n",
            "\u001b[?25hRequirement already satisfied: filelock in /usr/local/lib/python3.10/dist-packages (from torch>=2.1->TTS) (3.13.1)\n",
            "Requirement already satisfied: sympy in /usr/local/lib/python3.10/dist-packages (from torch>=2.1->TTS) (1.12)\n",
            "Requirement already satisfied: triton==2.1.0 in /usr/local/lib/python3.10/dist-packages (from torch>=2.1->TTS) (2.1.0)\n",
            "Requirement already satisfied: psutil in /usr/local/lib/python3.10/dist-packages (from trainer>=0.0.32->TTS) (5.9.5)\n",
            "Requirement already satisfied: tensorboard in /usr/local/lib/python3.10/dist-packages (from trainer>=0.0.32->TTS) (2.15.1)\n",
            "Requirement already satisfied: huggingface-hub<1.0,>=0.16.4 in /usr/local/lib/python3.10/dist-packages (from transformers>=4.33.0->TTS) (0.20.3)\n",
            "Requirement already satisfied: regex!=2019.12.17 in /usr/local/lib/python3.10/dist-packages (from transformers>=4.33.0->TTS) (2023.12.25)\n",
            "Requirement already satisfied: tokenizers<0.19,>=0.14 in /usr/local/lib/python3.10/dist-packages (from transformers>=4.33.0->TTS) (0.15.1)\n",
            "Requirement already satisfied: safetensors>=0.3.1 in /usr/local/lib/python3.10/dist-packages (from transformers>=4.33.0->TTS) (0.4.2)\n",
            "Collecting pynndescent>=0.5 (from umap-learn>=0.5.1->TTS)\n",
            "  Downloading pynndescent-0.5.11-py3-none-any.whl (55 kB)\n",
            "\u001b[2K     \u001b[90m━━━━━━━━━━━━━━━━━━━━━━━━━━━━━━━━━━━━━━━━\u001b[0m \u001b[32m55.8/55.8 kB\u001b[0m \u001b[31m8.4 MB/s\u001b[0m eta \u001b[36m0:00:00\u001b[0m\n",
            "\u001b[?25hRequirement already satisfied: pycparser in /usr/local/lib/python3.10/dist-packages (from cffi>=1.0->soundfile>=0.12.0->TTS) (2.21)\n",
            "Requirement already satisfied: tzlocal in /usr/local/lib/python3.10/dist-packages (from dateparser~=1.1.0->gruut[de,es,fr]==2.2.3->TTS) (5.2)\n",
            "Requirement already satisfied: MarkupSafe>=2.0 in /usr/local/lib/python3.10/dist-packages (from Jinja2>=3.0->flask>=2.0.1->TTS) (2.1.5)\n",
            "Requirement already satisfied: six in /usr/local/lib/python3.10/dist-packages (from jsonlines~=1.2.0->gruut[de,es,fr]==2.2.3->TTS) (1.16.0)\n",
            "Requirement already satisfied: platformdirs>=2.5.0 in /usr/local/lib/python3.10/dist-packages (from pooch>=1.0->librosa>=0.10.0->TTS) (4.2.0)\n",
            "Requirement already satisfied: annotated-types>=0.4.0 in /usr/local/lib/python3.10/dist-packages (from pydantic>=1.9.1->inflect>=5.6.0->TTS) (0.6.0)\n",
            "Requirement already satisfied: pydantic-core==2.16.2 in /usr/local/lib/python3.10/dist-packages (from pydantic>=1.9.1->inflect>=5.6.0->TTS) (2.16.2)\n",
            "Requirement already satisfied: charset-normalizer<4,>=2 in /usr/local/lib/python3.10/dist-packages (from requests<3.0.0,>=2.13.0->spacy[ja]>=3->TTS) (3.3.2)\n",
            "Requirement already satisfied: idna<4,>=2.5 in /usr/local/lib/python3.10/dist-packages (from requests<3.0.0,>=2.13.0->spacy[ja]>=3->TTS) (3.6)\n",
            "Requirement already satisfied: urllib3<3,>=1.21.1 in /usr/local/lib/python3.10/dist-packages (from requests<3.0.0,>=2.13.0->spacy[ja]>=3->TTS) (2.0.7)\n",
            "Requirement already satisfied: certifi>=2017.4.17 in /usr/local/lib/python3.10/dist-packages (from requests<3.0.0,>=2.13.0->spacy[ja]>=3->TTS) (2024.2.2)\n",
            "Requirement already satisfied: blis<0.8.0,>=0.7.8 in /usr/local/lib/python3.10/dist-packages (from thinc<8.3.0,>=8.2.2->spacy[ja]>=3->TTS) (0.7.11)\n",
            "Requirement already satisfied: confection<1.0.0,>=0.0.1 in /usr/local/lib/python3.10/dist-packages (from thinc<8.3.0,>=8.2.2->spacy[ja]>=3->TTS) (0.1.4)\n",
            "Requirement already satisfied: cloudpathlib<0.17.0,>=0.7.0 in /usr/local/lib/python3.10/dist-packages (from weasel<0.4.0,>=0.1.0->spacy[ja]>=3->TTS) (0.16.0)\n",
            "Requirement already satisfied: mpmath>=0.19 in /usr/local/lib/python3.10/dist-packages (from sympy->torch>=2.1->TTS) (1.3.0)\n",
            "Requirement already satisfied: absl-py>=0.4 in /usr/local/lib/python3.10/dist-packages (from tensorboard->trainer>=0.0.32->TTS) (1.4.0)\n",
            "Requirement already satisfied: grpcio>=1.48.2 in /usr/local/lib/python3.10/dist-packages (from tensorboard->trainer>=0.0.32->TTS) (1.60.1)\n",
            "Requirement already satisfied: google-auth<3,>=1.6.3 in /usr/local/lib/python3.10/dist-packages (from tensorboard->trainer>=0.0.32->TTS) (2.27.0)\n",
            "Requirement already satisfied: google-auth-oauthlib<2,>=0.5 in /usr/local/lib/python3.10/dist-packages (from tensorboard->trainer>=0.0.32->TTS) (1.2.0)\n",
            "Requirement already satisfied: markdown>=2.6.8 in /usr/local/lib/python3.10/dist-packages (from tensorboard->trainer>=0.0.32->TTS) (3.5.2)\n",
            "Requirement already satisfied: protobuf<4.24,>=3.19.6 in /usr/local/lib/python3.10/dist-packages (from tensorboard->trainer>=0.0.32->TTS) (3.20.3)\n",
            "Requirement already satisfied: tensorboard-data-server<0.8.0,>=0.7.0 in /usr/local/lib/python3.10/dist-packages (from tensorboard->trainer>=0.0.32->TTS) (0.7.2)\n",
            "Requirement already satisfied: cachetools<6.0,>=2.0.0 in /usr/local/lib/python3.10/dist-packages (from google-auth<3,>=1.6.3->tensorboard->trainer>=0.0.32->TTS) (5.3.2)\n",
            "Requirement already satisfied: pyasn1-modules>=0.2.1 in /usr/local/lib/python3.10/dist-packages (from google-auth<3,>=1.6.3->tensorboard->trainer>=0.0.32->TTS) (0.3.0)\n",
            "Requirement already satisfied: rsa<5,>=3.1.4 in /usr/local/lib/python3.10/dist-packages (from google-auth<3,>=1.6.3->tensorboard->trainer>=0.0.32->TTS) (4.9)\n",
            "Requirement already satisfied: requests-oauthlib>=0.7.0 in /usr/local/lib/python3.10/dist-packages (from google-auth-oauthlib<2,>=0.5->tensorboard->trainer>=0.0.32->TTS) (1.3.1)\n",
            "Requirement already satisfied: pyasn1<0.6.0,>=0.4.6 in /usr/local/lib/python3.10/dist-packages (from pyasn1-modules>=0.2.1->google-auth<3,>=1.6.3->tensorboard->trainer>=0.0.32->TTS) (0.5.1)\n",
            "Requirement already satisfied: oauthlib>=3.0.0 in /usr/local/lib/python3.10/dist-packages (from requests-oauthlib>=0.7.0->google-auth-oauthlib<2,>=0.5->tensorboard->trainer>=0.0.32->TTS) (3.2.2)\n",
            "Building wheels for collected packages: encodec, umap-learn, bnnumerizer, bnunicodenormalizer, docopt, gruut-ipa, gruut_lang_de, gruut_lang_en, gruut_lang_es, gruut_lang_fr, gruut\n",
            "  Building wheel for encodec (setup.py) ... \u001b[?25l\u001b[?25hdone\n",
            "  Created wheel for encodec: filename=encodec-0.1.1-py3-none-any.whl size=45759 sha256=03dc9d82a52c763428221cbc115118e6e7eb89779147635cb329a37a97302b92\n",
            "  Stored in directory: /root/.cache/pip/wheels/fc/36/cb/81af8b985a5f5e0815312d5e52b41263237af07b977e6bcbf3\n",
            "  Building wheel for umap-learn (setup.py) ... \u001b[?25l\u001b[?25hdone\n",
            "  Created wheel for umap-learn: filename=umap_learn-0.5.5-py3-none-any.whl size=86832 sha256=104a653eaccf826ab843066a3ecae89e28aa68d8aa887e99faad39522aa1c5ed\n",
            "  Stored in directory: /root/.cache/pip/wheels/3a/70/07/428d2b58660a1a3b431db59b806a10da736612ebbc66c1bcc5\n",
            "  Building wheel for bnnumerizer (setup.py) ... \u001b[?25l\u001b[?25hdone\n",
            "  Created wheel for bnnumerizer: filename=bnnumerizer-0.0.2-py3-none-any.whl size=5259 sha256=fb43c39daff0fb7db5bd657599785e479e25113f2dd366e53eb6c82d379252be\n",
            "  Stored in directory: /root/.cache/pip/wheels/59/6b/e8/223172e7d5c9f72df3ea1a0d9258f3a8ab5b28e827728edef5\n",
            "  Building wheel for bnunicodenormalizer (setup.py) ... \u001b[?25l\u001b[?25hdone\n",
            "  Created wheel for bnunicodenormalizer: filename=bnunicodenormalizer-0.1.6-py3-none-any.whl size=22779 sha256=808ecf892ca6ea29d2bc4db7e87699e403504485c81718948e3e5996b7061008\n",
            "  Stored in directory: /root/.cache/pip/wheels/f4/d7/e9/16732a619cbf5a63fdc9f6e2f9eb5fcf73fa023735237330e9\n",
            "  Building wheel for docopt (setup.py) ... \u001b[?25l\u001b[?25hdone\n",
            "  Created wheel for docopt: filename=docopt-0.6.2-py2.py3-none-any.whl size=13706 sha256=aad51798392f6953cbd04d0ecf341e445cc1b2c2dd4dbe6e382ea745bc80c20e\n",
            "  Stored in directory: /root/.cache/pip/wheels/fc/ab/d4/5da2067ac95b36618c629a5f93f809425700506f72c9732fac\n",
            "  Building wheel for gruut-ipa (setup.py) ... \u001b[?25l\u001b[?25hdone\n",
            "  Created wheel for gruut-ipa: filename=gruut_ipa-0.13.0-py3-none-any.whl size=104873 sha256=d7d2f9d1000ca5495f83846417337ff779bb2f0bcd96ff4041d84cf2a443b18c\n",
            "  Stored in directory: /root/.cache/pip/wheels/7b/18/49/e4f500ecdf0babe757953f844e4d7cd1ea81c5503c09bfe984\n",
            "  Building wheel for gruut_lang_de (setup.py) ... \u001b[?25l\u001b[?25hdone\n",
            "  Created wheel for gruut_lang_de: filename=gruut_lang_de-2.0.0-py3-none-any.whl size=18498182 sha256=1a14fc85da3e0db6323c0f05a066b5de78e6a6512bbb1e917e77bcf4dbf66e91\n",
            "  Stored in directory: /root/.cache/pip/wheels/95/9a/05/cfce98f0c41a1a540f15708c4a02df190b82d84cf91ef6bc7f\n",
            "  Building wheel for gruut_lang_en (setup.py) ... \u001b[?25l\u001b[?25hdone\n",
            "  Created wheel for gruut_lang_en: filename=gruut_lang_en-2.0.0-py3-none-any.whl size=15297178 sha256=d36be375633c78b16c0f54a3ddfe495d3ee7020a7665d60d0cfac82df0c49b9f\n",
            "  Stored in directory: /root/.cache/pip/wheels/10/9c/fb/77c655a9fbd78cdb9935d0ab65d80ddd0a3bcf7dbe18261650\n",
            "  Building wheel for gruut_lang_es (setup.py) ... \u001b[?25l\u001b[?25hdone\n",
            "  Created wheel for gruut_lang_es: filename=gruut_lang_es-2.0.0-py3-none-any.whl size=32173796 sha256=01870d7e31ad65332f8ec582d348276feaf586019c4abbb8b033c567b87aaad1\n",
            "  Stored in directory: /root/.cache/pip/wheels/9b/0a/90/788d92c07744b329b9283e37b29b064f5db6b1bb0442a1a19b\n",
            "  Building wheel for gruut_lang_fr (setup.py) ... \u001b[?25l\u001b[?25hdone\n",
            "  Created wheel for gruut_lang_fr: filename=gruut_lang_fr-2.0.2-py3-none-any.whl size=10968766 sha256=8ca0e865de0d3a72f9fc6c5ec3a5e95fbc81dea37b4753ac0ff2a1ba514d5045\n",
            "  Stored in directory: /root/.cache/pip/wheels/db/21/be/d0436e3f1cf9bf38b9bb9b4a476399c77a1ab19f7172b45e19\n",
            "  Building wheel for gruut (setup.py) ... \u001b[?25l\u001b[?25hdone\n",
            "  Created wheel for gruut: filename=gruut-2.2.3-py3-none-any.whl size=75792 sha256=9d40d99ff520f31b525ddc4fc211ba2938de273a3156baab2b80799465c6464c\n",
            "  Stored in directory: /root/.cache/pip/wheels/fc/57/a8/f9de532daf5214f53644f20f3a9e6f69269453c87df9c0a817\n",
            "Successfully built encodec umap-learn bnnumerizer bnunicodenormalizer docopt gruut-ipa gruut_lang_de gruut_lang_en gruut_lang_es gruut_lang_fr gruut\n",
            "Installing collected packages: sudachipy, python-crfsuite, jamo, hangul-romanize, gruut_lang_fr, gruut_lang_es, gruut_lang_en, gruut_lang_de, docopt, bnunicodenormalizer, bnnumerizer, bangla, unidecode, sudachidict-core, pysbd, pypinyin, numpy, num2words, networkx, jsonlines, gruut-ipa, einops, coqpit, anyascii, g2pkk, dateparser, scikit-learn, gruut, pynndescent, librosa, encodec, umap-learn, trainer, TTS\n",
            "  Attempting uninstall: numpy\n",
            "    Found existing installation: numpy 1.23.5\n",
            "    Uninstalling numpy-1.23.5:\n",
            "      Successfully uninstalled numpy-1.23.5\n",
            "  Attempting uninstall: networkx\n",
            "    Found existing installation: networkx 3.2.1\n",
            "    Uninstalling networkx-3.2.1:\n",
            "      Successfully uninstalled networkx-3.2.1\n",
            "  Attempting uninstall: scikit-learn\n",
            "    Found existing installation: scikit-learn 1.2.2\n",
            "    Uninstalling scikit-learn-1.2.2:\n",
            "      Successfully uninstalled scikit-learn-1.2.2\n",
            "  Attempting uninstall: librosa\n",
            "    Found existing installation: librosa 0.10.1\n",
            "    Uninstalling librosa-0.10.1:\n",
            "      Successfully uninstalled librosa-0.10.1\n",
            "\u001b[31mERROR: pip's dependency resolver does not currently take into account all the packages that are installed. This behaviour is the source of the following dependency conflicts.\n",
            "lida 0.0.10 requires fastapi, which is not installed.\n",
            "lida 0.0.10 requires kaleido, which is not installed.\n",
            "lida 0.0.10 requires python-multipart, which is not installed.\n",
            "lida 0.0.10 requires uvicorn, which is not installed.\n",
            "plotnine 0.12.4 requires numpy>=1.23.0, but you have numpy 1.22.0 which is incompatible.\n",
            "pywavelets 1.5.0 requires numpy<2.0,>=1.22.4, but you have numpy 1.22.0 which is incompatible.\n",
            "tensorflow 2.15.0 requires numpy<2.0.0,>=1.23.5, but you have numpy 1.22.0 which is incompatible.\u001b[0m\u001b[31m\n",
            "\u001b[0mSuccessfully installed TTS-0.22.0 anyascii-0.3.2 bangla-0.0.2 bnnumerizer-0.0.2 bnunicodenormalizer-0.1.6 coqpit-0.0.17 dateparser-1.1.8 docopt-0.6.2 einops-0.7.0 encodec-0.1.1 g2pkk-0.1.2 gruut-2.2.3 gruut-ipa-0.13.0 gruut_lang_de-2.0.0 gruut_lang_en-2.0.0 gruut_lang_es-2.0.0 gruut_lang_fr-2.0.2 hangul-romanize-0.1.0 jamo-0.4.1 jsonlines-1.2.0 librosa-0.10.0 networkx-2.8.8 num2words-0.5.13 numpy-1.22.0 pynndescent-0.5.11 pypinyin-0.50.0 pysbd-0.3.4 python-crfsuite-0.9.10 scikit-learn-1.4.0 sudachidict-core-20240109 sudachipy-0.6.8 trainer-0.0.36 umap-learn-0.5.5 unidecode-1.3.8\n"
          ]
        },
        {
          "output_type": "display_data",
          "data": {
            "application/vnd.colab-display-data+json": {
              "pip_warning": {
                "packages": [
                  "numpy"
                ]
              }
            }
          },
          "metadata": {}
        }
      ]
    },
    {
      "source": [
        "!pip install transformers"
      ],
      "cell_type": "code",
      "metadata": {
        "colab": {
          "base_uri": "https://localhost:8080/"
        },
        "id": "PEhcJMV5Z9zd",
        "outputId": "1f2f4782-0e19-422a-c80d-861076ba5821"
      },
      "execution_count": 2,
      "outputs": [
        {
          "output_type": "stream",
          "name": "stdout",
          "text": [
            "Requirement already satisfied: transformers in /usr/local/lib/python3.10/dist-packages (4.35.2)\n",
            "Requirement already satisfied: filelock in /usr/local/lib/python3.10/dist-packages (from transformers) (3.13.1)\n",
            "Requirement already satisfied: huggingface-hub<1.0,>=0.16.4 in /usr/local/lib/python3.10/dist-packages (from transformers) (0.20.3)\n",
            "Requirement already satisfied: numpy>=1.17 in /usr/local/lib/python3.10/dist-packages (from transformers) (1.23.5)\n",
            "Requirement already satisfied: packaging>=20.0 in /usr/local/lib/python3.10/dist-packages (from transformers) (23.2)\n",
            "Requirement already satisfied: pyyaml>=5.1 in /usr/local/lib/python3.10/dist-packages (from transformers) (6.0.1)\n",
            "Requirement already satisfied: regex!=2019.12.17 in /usr/local/lib/python3.10/dist-packages (from transformers) (2023.12.25)\n",
            "Requirement already satisfied: requests in /usr/local/lib/python3.10/dist-packages (from transformers) (2.31.0)\n",
            "Requirement already satisfied: tokenizers<0.19,>=0.14 in /usr/local/lib/python3.10/dist-packages (from transformers) (0.15.1)\n",
            "Requirement already satisfied: safetensors>=0.3.1 in /usr/local/lib/python3.10/dist-packages (from transformers) (0.4.2)\n",
            "Requirement already satisfied: tqdm>=4.27 in /usr/local/lib/python3.10/dist-packages (from transformers) (4.66.1)\n",
            "Requirement already satisfied: fsspec>=2023.5.0 in /usr/local/lib/python3.10/dist-packages (from huggingface-hub<1.0,>=0.16.4->transformers) (2023.6.0)\n",
            "Requirement already satisfied: typing-extensions>=3.7.4.3 in /usr/local/lib/python3.10/dist-packages (from huggingface-hub<1.0,>=0.16.4->transformers) (4.9.0)\n",
            "Requirement already satisfied: charset-normalizer<4,>=2 in /usr/local/lib/python3.10/dist-packages (from requests->transformers) (3.3.2)\n",
            "Requirement already satisfied: idna<4,>=2.5 in /usr/local/lib/python3.10/dist-packages (from requests->transformers) (3.6)\n",
            "Requirement already satisfied: urllib3<3,>=1.21.1 in /usr/local/lib/python3.10/dist-packages (from requests->transformers) (2.0.7)\n",
            "Requirement already satisfied: certifi>=2017.4.17 in /usr/local/lib/python3.10/dist-packages (from requests->transformers) (2024.2.2)\n"
          ]
        }
      ]
    },
    {
      "cell_type": "code",
      "source": [
        "from transformers import AutoTokenizer, AutoModelForSeq2SeqLM, Tacotron2ForTextToSpeech"
      ],
      "metadata": {
        "colab": {
          "base_uri": "https://localhost:8080/",
          "height": 349
        },
        "id": "R2I24d4vRH4q",
        "outputId": "2cef5259-2ecd-4fe1-be00-37bd9a722cd2"
      },
      "execution_count": 3,
      "outputs": [
        {
          "output_type": "error",
          "ename": "ImportError",
          "evalue": "cannot import name 'Tacotron2ForTextToSpeech' from 'transformers' (/usr/local/lib/python3.10/dist-packages/transformers/__init__.py)",
          "traceback": [
            "\u001b[0;31m---------------------------------------------------------------------------\u001b[0m",
            "\u001b[0;31mImportError\u001b[0m                               Traceback (most recent call last)",
            "\u001b[0;32m<ipython-input-3-a33590465ccd>\u001b[0m in \u001b[0;36m<cell line: 1>\u001b[0;34m()\u001b[0m\n\u001b[0;32m----> 1\u001b[0;31m \u001b[0;32mfrom\u001b[0m \u001b[0mtransformers\u001b[0m \u001b[0;32mimport\u001b[0m \u001b[0mAutoTokenizer\u001b[0m\u001b[0;34m,\u001b[0m \u001b[0mAutoModelForSeq2SeqLM\u001b[0m\u001b[0;34m,\u001b[0m \u001b[0mTacotron2ForTextToSpeech\u001b[0m\u001b[0;34m\u001b[0m\u001b[0;34m\u001b[0m\u001b[0m\n\u001b[0m",
            "\u001b[0;31mImportError\u001b[0m: cannot import name 'Tacotron2ForTextToSpeech' from 'transformers' (/usr/local/lib/python3.10/dist-packages/transformers/__init__.py)",
            "",
            "\u001b[0;31m---------------------------------------------------------------------------\u001b[0;32m\nNOTE: If your import is failing due to a missing package, you can\nmanually install dependencies using either !pip or !apt.\n\nTo view examples of installing some common dependencies, click the\n\"Open Examples\" button below.\n\u001b[0;31m---------------------------------------------------------------------------\u001b[0m\n"
          ],
          "errorDetails": {
            "actions": [
              {
                "action": "open_url",
                "actionText": "Open Examples",
                "url": "/notebooks/snippets/importing_libraries.ipynb"
              }
            ]
          }
        }
      ]
    },
    {
      "cell_type": "code",
      "source": [],
      "metadata": {
        "id": "gesy4-x4fQW_"
      },
      "execution_count": null,
      "outputs": []
    },
    {
      "cell_type": "code",
      "source": [
        "from TTS.tts.configs.xtts_config import XttsConfig\n",
        "from TTS.tts.models.xtts import Xtts\n",
        "\n",
        "config = XttsConfig()\n",
        "config.load_json(\"/path/to/xtts/config.json\")\n",
        "model = Xtts.init_from_config(config)\n",
        "model.load_checkpoint(config, checkpoint_dir=\"/path/to/xtts/\", eval=True)\n",
        "model.cuda()\n",
        "\n",
        "outputs = model.synthesize(\n",
        "    \"It took me quite a long time to develop a voice and now that I have it I am not going to be silent.\",\n",
        "    config,\n",
        "    speaker_wav=\"/data/TTS-public/_refclips/3.wav\",\n",
        "    gpt_cond_len=3,\n",
        "    language=\"en\",\n",
        ")\n"
      ],
      "metadata": {
        "colab": {
          "base_uri": "https://localhost:8080/",
          "height": 383
        },
        "id": "SmOaK1RRQzXc",
        "outputId": "90123b1e-c543-4d84-8174-d59dcc6259c8"
      },
      "execution_count": 3,
      "outputs": [
        {
          "output_type": "error",
          "ename": "ModuleNotFoundError",
          "evalue": "No module named 'TTS'",
          "traceback": [
            "\u001b[0;31m---------------------------------------------------------------------------\u001b[0m",
            "\u001b[0;31mModuleNotFoundError\u001b[0m                       Traceback (most recent call last)",
            "\u001b[0;32m<ipython-input-3-5d6b0c882c5a>\u001b[0m in \u001b[0;36m<cell line: 1>\u001b[0;34m()\u001b[0m\n\u001b[0;32m----> 1\u001b[0;31m \u001b[0;32mfrom\u001b[0m \u001b[0mTTS\u001b[0m\u001b[0;34m.\u001b[0m\u001b[0mtts\u001b[0m\u001b[0;34m.\u001b[0m\u001b[0mconfigs\u001b[0m\u001b[0;34m.\u001b[0m\u001b[0mxtts_config\u001b[0m \u001b[0;32mimport\u001b[0m \u001b[0mXttsConfig\u001b[0m\u001b[0;34m\u001b[0m\u001b[0;34m\u001b[0m\u001b[0m\n\u001b[0m\u001b[1;32m      2\u001b[0m \u001b[0;32mfrom\u001b[0m \u001b[0mTTS\u001b[0m\u001b[0;34m.\u001b[0m\u001b[0mtts\u001b[0m\u001b[0;34m.\u001b[0m\u001b[0mmodels\u001b[0m\u001b[0;34m.\u001b[0m\u001b[0mxtts\u001b[0m \u001b[0;32mimport\u001b[0m \u001b[0mXtts\u001b[0m\u001b[0;34m\u001b[0m\u001b[0;34m\u001b[0m\u001b[0m\n\u001b[1;32m      3\u001b[0m \u001b[0;34m\u001b[0m\u001b[0m\n\u001b[1;32m      4\u001b[0m \u001b[0mconfig\u001b[0m \u001b[0;34m=\u001b[0m \u001b[0mXttsConfig\u001b[0m\u001b[0;34m(\u001b[0m\u001b[0;34m)\u001b[0m\u001b[0;34m\u001b[0m\u001b[0;34m\u001b[0m\u001b[0m\n\u001b[1;32m      5\u001b[0m \u001b[0mconfig\u001b[0m\u001b[0;34m.\u001b[0m\u001b[0mload_json\u001b[0m\u001b[0;34m(\u001b[0m\u001b[0;34m\"/path/to/xtts/config.json\"\u001b[0m\u001b[0;34m)\u001b[0m\u001b[0;34m\u001b[0m\u001b[0;34m\u001b[0m\u001b[0m\n",
            "\u001b[0;31mModuleNotFoundError\u001b[0m: No module named 'TTS'",
            "",
            "\u001b[0;31m---------------------------------------------------------------------------\u001b[0;32m\nNOTE: If your import is failing due to a missing package, you can\nmanually install dependencies using either !pip or !apt.\n\nTo view examples of installing some common dependencies, click the\n\"Open Examples\" button below.\n\u001b[0;31m---------------------------------------------------------------------------\u001b[0m\n"
          ],
          "errorDetails": {
            "actions": [
              {
                "action": "open_url",
                "actionText": "Open Examples",
                "url": "/notebooks/snippets/importing_libraries.ipynb"
              }
            ]
          }
        }
      ]
    },
    {
      "cell_type": "code",
      "source": [
        "pip install --upgrade transformers accelerate"
      ],
      "metadata": {
        "colab": {
          "base_uri": "https://localhost:8080/"
        },
        "id": "-8HLvyEifSTn",
        "outputId": "2a6f0175-109f-4d8a-ce88-73978c9c00ae"
      },
      "execution_count": 1,
      "outputs": [
        {
          "output_type": "stream",
          "name": "stdout",
          "text": [
            "Requirement already satisfied: transformers in /usr/local/lib/python3.10/dist-packages (4.37.2)\n",
            "Requirement already satisfied: accelerate in /usr/local/lib/python3.10/dist-packages (0.27.0)\n",
            "Requirement already satisfied: filelock in /usr/local/lib/python3.10/dist-packages (from transformers) (3.13.1)\n",
            "Requirement already satisfied: huggingface-hub<1.0,>=0.19.3 in /usr/local/lib/python3.10/dist-packages (from transformers) (0.20.3)\n",
            "Requirement already satisfied: numpy>=1.17 in /usr/local/lib/python3.10/dist-packages (from transformers) (1.23.5)\n",
            "Requirement already satisfied: packaging>=20.0 in /usr/local/lib/python3.10/dist-packages (from transformers) (23.2)\n",
            "Requirement already satisfied: pyyaml>=5.1 in /usr/local/lib/python3.10/dist-packages (from transformers) (6.0.1)\n",
            "Requirement already satisfied: regex!=2019.12.17 in /usr/local/lib/python3.10/dist-packages (from transformers) (2023.12.25)\n",
            "Requirement already satisfied: requests in /usr/local/lib/python3.10/dist-packages (from transformers) (2.31.0)\n",
            "Requirement already satisfied: tokenizers<0.19,>=0.14 in /usr/local/lib/python3.10/dist-packages (from transformers) (0.15.1)\n",
            "Requirement already satisfied: safetensors>=0.4.1 in /usr/local/lib/python3.10/dist-packages (from transformers) (0.4.2)\n",
            "Requirement already satisfied: tqdm>=4.27 in /usr/local/lib/python3.10/dist-packages (from transformers) (4.66.1)\n",
            "Requirement already satisfied: psutil in /usr/local/lib/python3.10/dist-packages (from accelerate) (5.9.5)\n",
            "Requirement already satisfied: torch>=1.10.0 in /usr/local/lib/python3.10/dist-packages (from accelerate) (2.1.0+cu121)\n",
            "Requirement already satisfied: fsspec>=2023.5.0 in /usr/local/lib/python3.10/dist-packages (from huggingface-hub<1.0,>=0.19.3->transformers) (2023.6.0)\n",
            "Requirement already satisfied: typing-extensions>=3.7.4.3 in /usr/local/lib/python3.10/dist-packages (from huggingface-hub<1.0,>=0.19.3->transformers) (4.9.0)\n",
            "Requirement already satisfied: sympy in /usr/local/lib/python3.10/dist-packages (from torch>=1.10.0->accelerate) (1.12)\n",
            "Requirement already satisfied: networkx in /usr/local/lib/python3.10/dist-packages (from torch>=1.10.0->accelerate) (3.2.1)\n",
            "Requirement already satisfied: jinja2 in /usr/local/lib/python3.10/dist-packages (from torch>=1.10.0->accelerate) (3.1.3)\n",
            "Requirement already satisfied: triton==2.1.0 in /usr/local/lib/python3.10/dist-packages (from torch>=1.10.0->accelerate) (2.1.0)\n",
            "Requirement already satisfied: charset-normalizer<4,>=2 in /usr/local/lib/python3.10/dist-packages (from requests->transformers) (3.3.2)\n",
            "Requirement already satisfied: idna<4,>=2.5 in /usr/local/lib/python3.10/dist-packages (from requests->transformers) (3.6)\n",
            "Requirement already satisfied: urllib3<3,>=1.21.1 in /usr/local/lib/python3.10/dist-packages (from requests->transformers) (2.0.7)\n",
            "Requirement already satisfied: certifi>=2017.4.17 in /usr/local/lib/python3.10/dist-packages (from requests->transformers) (2024.2.2)\n",
            "Requirement already satisfied: MarkupSafe>=2.0 in /usr/local/lib/python3.10/dist-packages (from jinja2->torch>=1.10.0->accelerate) (2.1.5)\n",
            "Requirement already satisfied: mpmath>=0.19 in /usr/local/lib/python3.10/dist-packages (from sympy->torch>=1.10.0->accelerate) (1.3.0)\n"
          ]
        }
      ]
    },
    {
      "cell_type": "code",
      "source": [
        "from transformers import VitsModel, AutoTokenizer\n",
        "import torch\n",
        "\n",
        "model = VitsModel.from_pretrained(\"facebook/mms-tts-eng\")\n",
        "tokenizer = AutoTokenizer.from_pretrained(\"facebook/mms-tts-eng\")\n",
        "\n",
        "text = \"Model is running perfectly fine\"\n",
        "inputs = tokenizer(text, return_tensors=\"pt\")\n",
        "\n",
        "with torch.no_grad():\n",
        "    output = model(**inputs).waveform\n"
      ],
      "metadata": {
        "colab": {
          "base_uri": "https://localhost:8080/"
        },
        "id": "JTbae112fZRc",
        "outputId": "c9fb701d-a971-4bf9-d258-c6a67fb8e7ed"
      },
      "execution_count": 5,
      "outputs": [
        {
          "output_type": "stream",
          "name": "stderr",
          "text": [
            "Some weights of the model checkpoint at facebook/mms-tts-eng were not used when initializing VitsModel: ['flow.flows.0.wavenet.in_layers.0.weight_g', 'flow.flows.0.wavenet.in_layers.0.weight_v', 'flow.flows.0.wavenet.in_layers.1.weight_g', 'flow.flows.0.wavenet.in_layers.1.weight_v', 'flow.flows.0.wavenet.in_layers.2.weight_g', 'flow.flows.0.wavenet.in_layers.2.weight_v', 'flow.flows.0.wavenet.in_layers.3.weight_g', 'flow.flows.0.wavenet.in_layers.3.weight_v', 'flow.flows.0.wavenet.res_skip_layers.0.weight_g', 'flow.flows.0.wavenet.res_skip_layers.0.weight_v', 'flow.flows.0.wavenet.res_skip_layers.1.weight_g', 'flow.flows.0.wavenet.res_skip_layers.1.weight_v', 'flow.flows.0.wavenet.res_skip_layers.2.weight_g', 'flow.flows.0.wavenet.res_skip_layers.2.weight_v', 'flow.flows.0.wavenet.res_skip_layers.3.weight_g', 'flow.flows.0.wavenet.res_skip_layers.3.weight_v', 'flow.flows.1.wavenet.in_layers.0.weight_g', 'flow.flows.1.wavenet.in_layers.0.weight_v', 'flow.flows.1.wavenet.in_layers.1.weight_g', 'flow.flows.1.wavenet.in_layers.1.weight_v', 'flow.flows.1.wavenet.in_layers.2.weight_g', 'flow.flows.1.wavenet.in_layers.2.weight_v', 'flow.flows.1.wavenet.in_layers.3.weight_g', 'flow.flows.1.wavenet.in_layers.3.weight_v', 'flow.flows.1.wavenet.res_skip_layers.0.weight_g', 'flow.flows.1.wavenet.res_skip_layers.0.weight_v', 'flow.flows.1.wavenet.res_skip_layers.1.weight_g', 'flow.flows.1.wavenet.res_skip_layers.1.weight_v', 'flow.flows.1.wavenet.res_skip_layers.2.weight_g', 'flow.flows.1.wavenet.res_skip_layers.2.weight_v', 'flow.flows.1.wavenet.res_skip_layers.3.weight_g', 'flow.flows.1.wavenet.res_skip_layers.3.weight_v', 'flow.flows.2.wavenet.in_layers.0.weight_g', 'flow.flows.2.wavenet.in_layers.0.weight_v', 'flow.flows.2.wavenet.in_layers.1.weight_g', 'flow.flows.2.wavenet.in_layers.1.weight_v', 'flow.flows.2.wavenet.in_layers.2.weight_g', 'flow.flows.2.wavenet.in_layers.2.weight_v', 'flow.flows.2.wavenet.in_layers.3.weight_g', 'flow.flows.2.wavenet.in_layers.3.weight_v', 'flow.flows.2.wavenet.res_skip_layers.0.weight_g', 'flow.flows.2.wavenet.res_skip_layers.0.weight_v', 'flow.flows.2.wavenet.res_skip_layers.1.weight_g', 'flow.flows.2.wavenet.res_skip_layers.1.weight_v', 'flow.flows.2.wavenet.res_skip_layers.2.weight_g', 'flow.flows.2.wavenet.res_skip_layers.2.weight_v', 'flow.flows.2.wavenet.res_skip_layers.3.weight_g', 'flow.flows.2.wavenet.res_skip_layers.3.weight_v', 'flow.flows.3.wavenet.in_layers.0.weight_g', 'flow.flows.3.wavenet.in_layers.0.weight_v', 'flow.flows.3.wavenet.in_layers.1.weight_g', 'flow.flows.3.wavenet.in_layers.1.weight_v', 'flow.flows.3.wavenet.in_layers.2.weight_g', 'flow.flows.3.wavenet.in_layers.2.weight_v', 'flow.flows.3.wavenet.in_layers.3.weight_g', 'flow.flows.3.wavenet.in_layers.3.weight_v', 'flow.flows.3.wavenet.res_skip_layers.0.weight_g', 'flow.flows.3.wavenet.res_skip_layers.0.weight_v', 'flow.flows.3.wavenet.res_skip_layers.1.weight_g', 'flow.flows.3.wavenet.res_skip_layers.1.weight_v', 'flow.flows.3.wavenet.res_skip_layers.2.weight_g', 'flow.flows.3.wavenet.res_skip_layers.2.weight_v', 'flow.flows.3.wavenet.res_skip_layers.3.weight_g', 'flow.flows.3.wavenet.res_skip_layers.3.weight_v', 'posterior_encoder.wavenet.in_layers.0.weight_g', 'posterior_encoder.wavenet.in_layers.0.weight_v', 'posterior_encoder.wavenet.in_layers.1.weight_g', 'posterior_encoder.wavenet.in_layers.1.weight_v', 'posterior_encoder.wavenet.in_layers.10.weight_g', 'posterior_encoder.wavenet.in_layers.10.weight_v', 'posterior_encoder.wavenet.in_layers.11.weight_g', 'posterior_encoder.wavenet.in_layers.11.weight_v', 'posterior_encoder.wavenet.in_layers.12.weight_g', 'posterior_encoder.wavenet.in_layers.12.weight_v', 'posterior_encoder.wavenet.in_layers.13.weight_g', 'posterior_encoder.wavenet.in_layers.13.weight_v', 'posterior_encoder.wavenet.in_layers.14.weight_g', 'posterior_encoder.wavenet.in_layers.14.weight_v', 'posterior_encoder.wavenet.in_layers.15.weight_g', 'posterior_encoder.wavenet.in_layers.15.weight_v', 'posterior_encoder.wavenet.in_layers.2.weight_g', 'posterior_encoder.wavenet.in_layers.2.weight_v', 'posterior_encoder.wavenet.in_layers.3.weight_g', 'posterior_encoder.wavenet.in_layers.3.weight_v', 'posterior_encoder.wavenet.in_layers.4.weight_g', 'posterior_encoder.wavenet.in_layers.4.weight_v', 'posterior_encoder.wavenet.in_layers.5.weight_g', 'posterior_encoder.wavenet.in_layers.5.weight_v', 'posterior_encoder.wavenet.in_layers.6.weight_g', 'posterior_encoder.wavenet.in_layers.6.weight_v', 'posterior_encoder.wavenet.in_layers.7.weight_g', 'posterior_encoder.wavenet.in_layers.7.weight_v', 'posterior_encoder.wavenet.in_layers.8.weight_g', 'posterior_encoder.wavenet.in_layers.8.weight_v', 'posterior_encoder.wavenet.in_layers.9.weight_g', 'posterior_encoder.wavenet.in_layers.9.weight_v', 'posterior_encoder.wavenet.res_skip_layers.0.weight_g', 'posterior_encoder.wavenet.res_skip_layers.0.weight_v', 'posterior_encoder.wavenet.res_skip_layers.1.weight_g', 'posterior_encoder.wavenet.res_skip_layers.1.weight_v', 'posterior_encoder.wavenet.res_skip_layers.10.weight_g', 'posterior_encoder.wavenet.res_skip_layers.10.weight_v', 'posterior_encoder.wavenet.res_skip_layers.11.weight_g', 'posterior_encoder.wavenet.res_skip_layers.11.weight_v', 'posterior_encoder.wavenet.res_skip_layers.12.weight_g', 'posterior_encoder.wavenet.res_skip_layers.12.weight_v', 'posterior_encoder.wavenet.res_skip_layers.13.weight_g', 'posterior_encoder.wavenet.res_skip_layers.13.weight_v', 'posterior_encoder.wavenet.res_skip_layers.14.weight_g', 'posterior_encoder.wavenet.res_skip_layers.14.weight_v', 'posterior_encoder.wavenet.res_skip_layers.15.weight_g', 'posterior_encoder.wavenet.res_skip_layers.15.weight_v', 'posterior_encoder.wavenet.res_skip_layers.2.weight_g', 'posterior_encoder.wavenet.res_skip_layers.2.weight_v', 'posterior_encoder.wavenet.res_skip_layers.3.weight_g', 'posterior_encoder.wavenet.res_skip_layers.3.weight_v', 'posterior_encoder.wavenet.res_skip_layers.4.weight_g', 'posterior_encoder.wavenet.res_skip_layers.4.weight_v', 'posterior_encoder.wavenet.res_skip_layers.5.weight_g', 'posterior_encoder.wavenet.res_skip_layers.5.weight_v', 'posterior_encoder.wavenet.res_skip_layers.6.weight_g', 'posterior_encoder.wavenet.res_skip_layers.6.weight_v', 'posterior_encoder.wavenet.res_skip_layers.7.weight_g', 'posterior_encoder.wavenet.res_skip_layers.7.weight_v', 'posterior_encoder.wavenet.res_skip_layers.8.weight_g', 'posterior_encoder.wavenet.res_skip_layers.8.weight_v', 'posterior_encoder.wavenet.res_skip_layers.9.weight_g', 'posterior_encoder.wavenet.res_skip_layers.9.weight_v']\n",
            "- This IS expected if you are initializing VitsModel from the checkpoint of a model trained on another task or with another architecture (e.g. initializing a BertForSequenceClassification model from a BertForPreTraining model).\n",
            "- This IS NOT expected if you are initializing VitsModel from the checkpoint of a model that you expect to be exactly identical (initializing a BertForSequenceClassification model from a BertForSequenceClassification model).\n",
            "Some weights of VitsModel were not initialized from the model checkpoint at facebook/mms-tts-eng and are newly initialized: ['flow.flows.0.wavenet.in_layers.0.parametrizations.weight.original0', 'flow.flows.0.wavenet.in_layers.0.parametrizations.weight.original1', 'flow.flows.0.wavenet.in_layers.1.parametrizations.weight.original0', 'flow.flows.0.wavenet.in_layers.1.parametrizations.weight.original1', 'flow.flows.0.wavenet.in_layers.2.parametrizations.weight.original0', 'flow.flows.0.wavenet.in_layers.2.parametrizations.weight.original1', 'flow.flows.0.wavenet.in_layers.3.parametrizations.weight.original0', 'flow.flows.0.wavenet.in_layers.3.parametrizations.weight.original1', 'flow.flows.0.wavenet.res_skip_layers.0.parametrizations.weight.original0', 'flow.flows.0.wavenet.res_skip_layers.0.parametrizations.weight.original1', 'flow.flows.0.wavenet.res_skip_layers.1.parametrizations.weight.original0', 'flow.flows.0.wavenet.res_skip_layers.1.parametrizations.weight.original1', 'flow.flows.0.wavenet.res_skip_layers.2.parametrizations.weight.original0', 'flow.flows.0.wavenet.res_skip_layers.2.parametrizations.weight.original1', 'flow.flows.0.wavenet.res_skip_layers.3.parametrizations.weight.original0', 'flow.flows.0.wavenet.res_skip_layers.3.parametrizations.weight.original1', 'flow.flows.1.wavenet.in_layers.0.parametrizations.weight.original0', 'flow.flows.1.wavenet.in_layers.0.parametrizations.weight.original1', 'flow.flows.1.wavenet.in_layers.1.parametrizations.weight.original0', 'flow.flows.1.wavenet.in_layers.1.parametrizations.weight.original1', 'flow.flows.1.wavenet.in_layers.2.parametrizations.weight.original0', 'flow.flows.1.wavenet.in_layers.2.parametrizations.weight.original1', 'flow.flows.1.wavenet.in_layers.3.parametrizations.weight.original0', 'flow.flows.1.wavenet.in_layers.3.parametrizations.weight.original1', 'flow.flows.1.wavenet.res_skip_layers.0.parametrizations.weight.original0', 'flow.flows.1.wavenet.res_skip_layers.0.parametrizations.weight.original1', 'flow.flows.1.wavenet.res_skip_layers.1.parametrizations.weight.original0', 'flow.flows.1.wavenet.res_skip_layers.1.parametrizations.weight.original1', 'flow.flows.1.wavenet.res_skip_layers.2.parametrizations.weight.original0', 'flow.flows.1.wavenet.res_skip_layers.2.parametrizations.weight.original1', 'flow.flows.1.wavenet.res_skip_layers.3.parametrizations.weight.original0', 'flow.flows.1.wavenet.res_skip_layers.3.parametrizations.weight.original1', 'flow.flows.2.wavenet.in_layers.0.parametrizations.weight.original0', 'flow.flows.2.wavenet.in_layers.0.parametrizations.weight.original1', 'flow.flows.2.wavenet.in_layers.1.parametrizations.weight.original0', 'flow.flows.2.wavenet.in_layers.1.parametrizations.weight.original1', 'flow.flows.2.wavenet.in_layers.2.parametrizations.weight.original0', 'flow.flows.2.wavenet.in_layers.2.parametrizations.weight.original1', 'flow.flows.2.wavenet.in_layers.3.parametrizations.weight.original0', 'flow.flows.2.wavenet.in_layers.3.parametrizations.weight.original1', 'flow.flows.2.wavenet.res_skip_layers.0.parametrizations.weight.original0', 'flow.flows.2.wavenet.res_skip_layers.0.parametrizations.weight.original1', 'flow.flows.2.wavenet.res_skip_layers.1.parametrizations.weight.original0', 'flow.flows.2.wavenet.res_skip_layers.1.parametrizations.weight.original1', 'flow.flows.2.wavenet.res_skip_layers.2.parametrizations.weight.original0', 'flow.flows.2.wavenet.res_skip_layers.2.parametrizations.weight.original1', 'flow.flows.2.wavenet.res_skip_layers.3.parametrizations.weight.original0', 'flow.flows.2.wavenet.res_skip_layers.3.parametrizations.weight.original1', 'flow.flows.3.wavenet.in_layers.0.parametrizations.weight.original0', 'flow.flows.3.wavenet.in_layers.0.parametrizations.weight.original1', 'flow.flows.3.wavenet.in_layers.1.parametrizations.weight.original0', 'flow.flows.3.wavenet.in_layers.1.parametrizations.weight.original1', 'flow.flows.3.wavenet.in_layers.2.parametrizations.weight.original0', 'flow.flows.3.wavenet.in_layers.2.parametrizations.weight.original1', 'flow.flows.3.wavenet.in_layers.3.parametrizations.weight.original0', 'flow.flows.3.wavenet.in_layers.3.parametrizations.weight.original1', 'flow.flows.3.wavenet.res_skip_layers.0.parametrizations.weight.original0', 'flow.flows.3.wavenet.res_skip_layers.0.parametrizations.weight.original1', 'flow.flows.3.wavenet.res_skip_layers.1.parametrizations.weight.original0', 'flow.flows.3.wavenet.res_skip_layers.1.parametrizations.weight.original1', 'flow.flows.3.wavenet.res_skip_layers.2.parametrizations.weight.original0', 'flow.flows.3.wavenet.res_skip_layers.2.parametrizations.weight.original1', 'flow.flows.3.wavenet.res_skip_layers.3.parametrizations.weight.original0', 'flow.flows.3.wavenet.res_skip_layers.3.parametrizations.weight.original1', 'posterior_encoder.wavenet.in_layers.0.parametrizations.weight.original0', 'posterior_encoder.wavenet.in_layers.0.parametrizations.weight.original1', 'posterior_encoder.wavenet.in_layers.1.parametrizations.weight.original0', 'posterior_encoder.wavenet.in_layers.1.parametrizations.weight.original1', 'posterior_encoder.wavenet.in_layers.10.parametrizations.weight.original0', 'posterior_encoder.wavenet.in_layers.10.parametrizations.weight.original1', 'posterior_encoder.wavenet.in_layers.11.parametrizations.weight.original0', 'posterior_encoder.wavenet.in_layers.11.parametrizations.weight.original1', 'posterior_encoder.wavenet.in_layers.12.parametrizations.weight.original0', 'posterior_encoder.wavenet.in_layers.12.parametrizations.weight.original1', 'posterior_encoder.wavenet.in_layers.13.parametrizations.weight.original0', 'posterior_encoder.wavenet.in_layers.13.parametrizations.weight.original1', 'posterior_encoder.wavenet.in_layers.14.parametrizations.weight.original0', 'posterior_encoder.wavenet.in_layers.14.parametrizations.weight.original1', 'posterior_encoder.wavenet.in_layers.15.parametrizations.weight.original0', 'posterior_encoder.wavenet.in_layers.15.parametrizations.weight.original1', 'posterior_encoder.wavenet.in_layers.2.parametrizations.weight.original0', 'posterior_encoder.wavenet.in_layers.2.parametrizations.weight.original1', 'posterior_encoder.wavenet.in_layers.3.parametrizations.weight.original0', 'posterior_encoder.wavenet.in_layers.3.parametrizations.weight.original1', 'posterior_encoder.wavenet.in_layers.4.parametrizations.weight.original0', 'posterior_encoder.wavenet.in_layers.4.parametrizations.weight.original1', 'posterior_encoder.wavenet.in_layers.5.parametrizations.weight.original0', 'posterior_encoder.wavenet.in_layers.5.parametrizations.weight.original1', 'posterior_encoder.wavenet.in_layers.6.parametrizations.weight.original0', 'posterior_encoder.wavenet.in_layers.6.parametrizations.weight.original1', 'posterior_encoder.wavenet.in_layers.7.parametrizations.weight.original0', 'posterior_encoder.wavenet.in_layers.7.parametrizations.weight.original1', 'posterior_encoder.wavenet.in_layers.8.parametrizations.weight.original0', 'posterior_encoder.wavenet.in_layers.8.parametrizations.weight.original1', 'posterior_encoder.wavenet.in_layers.9.parametrizations.weight.original0', 'posterior_encoder.wavenet.in_layers.9.parametrizations.weight.original1', 'posterior_encoder.wavenet.res_skip_layers.0.parametrizations.weight.original0', 'posterior_encoder.wavenet.res_skip_layers.0.parametrizations.weight.original1', 'posterior_encoder.wavenet.res_skip_layers.1.parametrizations.weight.original0', 'posterior_encoder.wavenet.res_skip_layers.1.parametrizations.weight.original1', 'posterior_encoder.wavenet.res_skip_layers.10.parametrizations.weight.original0', 'posterior_encoder.wavenet.res_skip_layers.10.parametrizations.weight.original1', 'posterior_encoder.wavenet.res_skip_layers.11.parametrizations.weight.original0', 'posterior_encoder.wavenet.res_skip_layers.11.parametrizations.weight.original1', 'posterior_encoder.wavenet.res_skip_layers.12.parametrizations.weight.original0', 'posterior_encoder.wavenet.res_skip_layers.12.parametrizations.weight.original1', 'posterior_encoder.wavenet.res_skip_layers.13.parametrizations.weight.original0', 'posterior_encoder.wavenet.res_skip_layers.13.parametrizations.weight.original1', 'posterior_encoder.wavenet.res_skip_layers.14.parametrizations.weight.original0', 'posterior_encoder.wavenet.res_skip_layers.14.parametrizations.weight.original1', 'posterior_encoder.wavenet.res_skip_layers.15.parametrizations.weight.original0', 'posterior_encoder.wavenet.res_skip_layers.15.parametrizations.weight.original1', 'posterior_encoder.wavenet.res_skip_layers.2.parametrizations.weight.original0', 'posterior_encoder.wavenet.res_skip_layers.2.parametrizations.weight.original1', 'posterior_encoder.wavenet.res_skip_layers.3.parametrizations.weight.original0', 'posterior_encoder.wavenet.res_skip_layers.3.parametrizations.weight.original1', 'posterior_encoder.wavenet.res_skip_layers.4.parametrizations.weight.original0', 'posterior_encoder.wavenet.res_skip_layers.4.parametrizations.weight.original1', 'posterior_encoder.wavenet.res_skip_layers.5.parametrizations.weight.original0', 'posterior_encoder.wavenet.res_skip_layers.5.parametrizations.weight.original1', 'posterior_encoder.wavenet.res_skip_layers.6.parametrizations.weight.original0', 'posterior_encoder.wavenet.res_skip_layers.6.parametrizations.weight.original1', 'posterior_encoder.wavenet.res_skip_layers.7.parametrizations.weight.original0', 'posterior_encoder.wavenet.res_skip_layers.7.parametrizations.weight.original1', 'posterior_encoder.wavenet.res_skip_layers.8.parametrizations.weight.original0', 'posterior_encoder.wavenet.res_skip_layers.8.parametrizations.weight.original1', 'posterior_encoder.wavenet.res_skip_layers.9.parametrizations.weight.original0', 'posterior_encoder.wavenet.res_skip_layers.9.parametrizations.weight.original1']\n",
            "You should probably TRAIN this model on a down-stream task to be able to use it for predictions and inference.\n"
          ]
        }
      ]
    },
    {
      "cell_type": "code",
      "source": [
        "import scipy\n",
        "\n",
        "scipy.io.wavfile.write(\"techno.wav\", rate=model.config.sampling_rate, data=output.float().numpy())\n"
      ],
      "metadata": {
        "colab": {
          "base_uri": "https://localhost:8080/",
          "height": 349
        },
        "id": "zlO8pXZqfqXJ",
        "outputId": "acd2c3c9-734c-406c-9eb1-9108397af213"
      },
      "execution_count": 3,
      "outputs": [
        {
          "output_type": "error",
          "ename": "error",
          "evalue": "ushort format requires 0 <= number <= (0x7fff * 2 + 1)",
          "traceback": [
            "\u001b[0;31m---------------------------------------------------------------------------\u001b[0m",
            "\u001b[0;31merror\u001b[0m                                     Traceback (most recent call last)",
            "\u001b[0;32m<ipython-input-3-7cebf83c0af1>\u001b[0m in \u001b[0;36m<cell line: 3>\u001b[0;34m()\u001b[0m\n\u001b[1;32m      1\u001b[0m \u001b[0;32mimport\u001b[0m \u001b[0mscipy\u001b[0m\u001b[0;34m\u001b[0m\u001b[0;34m\u001b[0m\u001b[0m\n\u001b[1;32m      2\u001b[0m \u001b[0;34m\u001b[0m\u001b[0m\n\u001b[0;32m----> 3\u001b[0;31m \u001b[0mscipy\u001b[0m\u001b[0;34m.\u001b[0m\u001b[0mio\u001b[0m\u001b[0;34m.\u001b[0m\u001b[0mwavfile\u001b[0m\u001b[0;34m.\u001b[0m\u001b[0mwrite\u001b[0m\u001b[0;34m(\u001b[0m\u001b[0;34m\"techno.wav\"\u001b[0m\u001b[0;34m,\u001b[0m \u001b[0mrate\u001b[0m\u001b[0;34m=\u001b[0m\u001b[0mmodel\u001b[0m\u001b[0;34m.\u001b[0m\u001b[0mconfig\u001b[0m\u001b[0;34m.\u001b[0m\u001b[0msampling_rate\u001b[0m\u001b[0;34m,\u001b[0m \u001b[0mdata\u001b[0m\u001b[0;34m=\u001b[0m\u001b[0moutput\u001b[0m\u001b[0;34m.\u001b[0m\u001b[0mfloat\u001b[0m\u001b[0;34m(\u001b[0m\u001b[0;34m)\u001b[0m\u001b[0;34m.\u001b[0m\u001b[0mnumpy\u001b[0m\u001b[0;34m(\u001b[0m\u001b[0;34m)\u001b[0m\u001b[0;34m)\u001b[0m\u001b[0;34m\u001b[0m\u001b[0;34m\u001b[0m\u001b[0m\n\u001b[0m",
            "\u001b[0;32m/usr/local/lib/python3.10/dist-packages/scipy/io/wavfile.py\u001b[0m in \u001b[0;36mwrite\u001b[0;34m(filename, rate, data)\u001b[0m\n\u001b[1;32m    795\u001b[0m         \u001b[0mblock_align\u001b[0m \u001b[0;34m=\u001b[0m \u001b[0mchannels\u001b[0m \u001b[0;34m*\u001b[0m \u001b[0;34m(\u001b[0m\u001b[0mbit_depth\u001b[0m \u001b[0;34m//\u001b[0m \u001b[0;36m8\u001b[0m\u001b[0;34m)\u001b[0m\u001b[0;34m\u001b[0m\u001b[0;34m\u001b[0m\u001b[0m\n\u001b[1;32m    796\u001b[0m \u001b[0;34m\u001b[0m\u001b[0m\n\u001b[0;32m--> 797\u001b[0;31m         fmt_chunk_data = struct.pack('<HHIIHH', format_tag, channels, fs,\n\u001b[0m\u001b[1;32m    798\u001b[0m                                      bytes_per_second, block_align, bit_depth)\n\u001b[1;32m    799\u001b[0m         \u001b[0;32mif\u001b[0m \u001b[0;32mnot\u001b[0m \u001b[0;34m(\u001b[0m\u001b[0mdkind\u001b[0m \u001b[0;34m==\u001b[0m \u001b[0;34m'i'\u001b[0m \u001b[0;32mor\u001b[0m \u001b[0mdkind\u001b[0m \u001b[0;34m==\u001b[0m \u001b[0;34m'u'\u001b[0m\u001b[0;34m)\u001b[0m\u001b[0;34m:\u001b[0m\u001b[0;34m\u001b[0m\u001b[0;34m\u001b[0m\u001b[0m\n",
            "\u001b[0;31merror\u001b[0m: ushort format requires 0 <= number <= (0x7fff * 2 + 1)"
          ]
        }
      ]
    },
    {
      "cell_type": "code",
      "source": [
        "from IPython.display import Audio\n",
        "\n",
        "Audio(output.numpy(), rate=model.config.sampling_rate)"
      ],
      "metadata": {
        "colab": {
          "base_uri": "https://localhost:8080/",
          "height": 75
        },
        "id": "3NGv0_q4f4fT",
        "outputId": "0927b1cf-3e3f-4fcf-ba59-3557f2b59aa4"
      },
      "execution_count": 6,
      "outputs": [
        {
          "output_type": "execute_result",
          "data": {
            "text/plain": [
              "<IPython.lib.display.Audio object>"
            ],
            "text/html": [
              "\n",
              "                <audio  controls=\"controls\" >\n",
              "                    <source src=\"data:audio/wav;base64,UklGRiROAQBXQVZFZm10IBAAAAABAAEAgD4AAAB9AAACABAAZGF0YQBOAQAAAP////8AAAAA//8AAP//AAAAAAAAAAAAAAAAAAAAAAAAAAAAAAAAAAAAAAAAAAAAAAAAAAAAAAAAAAAAAAAAAAAAAAAAAAAAAAAAAAAAAAAAAAAAAAAAAAAAAAAAAAAAAAAAAAAAAAAAAAAAAAAAAAAAAAAAAAAAAAAAAAAAAAAAAAAAAAAAAAAAAAAAAAAAAAAAAAAAAAAAAAAAAAAAAAAAAAAAAAAAAAAAAAAAAAAAAAAAAAAAAAAAAAAAAAAAAAAAAAAAAAAAAAAAAAAAAAAAAAAAAAAAAAAAAAAAAAAAAAAAAAAAAAAAAAAAAAAAAAAAAAAAAAAAAAAAAAAAAAAAAAAAAAAAAAAAAAAAAAAAAAAAAAAAAAAAAAAAAAAAAAAAAAAAAAAAAAAAAAAAAAAAAAAAAAAAAAAAAAAAAAAAAAAAAAAAAAAAAAAAAAAAAAAAAAAAAAAAAAAAAAAAAAAAAAAAAAAAAAAAAAAAAAAAAAAAAAAAAAAAAAAAAAAAAAAAAAAAAAAAAAAAAAAAAAAAAAAAAAAAAAAAAAAAAAAAAAAAAAAAAAAAAAAAAAAAAAAAAAAAAAAAAAAAAAAAAAAAAAAAAAAAAAAAAAAAAAAAAAAAAAAAAAAAAAAAAAAAAAAAAAAAAAAAAAAAAAAAAAAAAAAAAAAAAAAAAAAAAAAAAAAAAAAAAAAAAAAAAAAAAAAAAAAAAAAAAAAAAAAAAAAAAAAAAAAAAAAAAAAAAAAAAAAAAAAAAAAAAAAAAAAAAAAAAAAAAAAAAAAAAAAAAAAAAAAAAAAAAAAAAAAAAAAAAAAAAAAAAAAAAAAAAAAAAAAAAAAAAAAAAAAAAAAAAAAAAAAAAAAAAAAAAAAAAAAAAAAAAAAAAAAAAAAAAAAAAAAAAAAAAAAAAAAAAAAAAAAAAAAAAAAAAAAAAAAAAAAAAAAAAAAAAAAAAAAAAAAAAAAAAAAAAAAAAAAAAAAAAAAAAAAAAAAAAAAAAAAAAAAAAAAAAAAAAAAAAAAAAAAAAAAAAAAAAAAAAAAAAAAAAAAAAAAAAAAAAAAAAAAAAAAAAAAAAAAAAAAAAAAAAAAAAAAAAAAAAAAAAAAAAAAAAAAAAAAAAAAAAAAAAAAAAAAAAAAAAAAAAAAAAAAAAAAAAAAAAAAAAAAAAAAAAAAAAAAAAAAAAAAAAAAAAAAAAAAAAAAAAAAAAAAAAAAAAAAAAAAAAAAAAAAAAAAAAAAAAAAAAAAAAAAAAAAAAAAAAAAAAAAAAAAAAAAAAAAAAAAAAAAAAAAAAAAAAAAAAAAAAAAAAAAAAAAAAAAAAAAAAAAAAAAAAAAAAAAAAAAAAAAAAAAAAAAAAAAAAAAAAAAAAAAAAAAAAAAAAAAAAAAAAAAAAAAAAAAAAAAAAAAAAAAAAAAAAAAAAAAAAAAAAAAAAAAAAAAAAAAAAAAAAAAAAAAAAAAAAAAAAAAAAAAAAAAAAAAAAAAAAAAAAAAAAAAAAAAAAAAAAAAAAAAAAAAAAAAAAAAAAAAAAAAAAAAAAAAAAAAAAAAAAAAAAAAAAAAAAAAAAAAAAAAAAAAAAAAAAAAAAAAAAAAAAAAAAAAAAAAAAAAAAAAAAAAAAAAAAAAAAAAAAAAAAAAAAAAAAAAAAAAAAAAAAAAAAAAAAAAAAAAAAAAAAAAAAAAAAAAAAAAAAAAAAAAAAAAAAAAAAAAAAAAAAAAAAAAAAAAAAAAAAAAAAAAAAAAAAAAAAAAAAAAAAAAAAAAAAAAAAAAAAAAAAAAAAAAAAAAAAAAAAAAAAAAAAAAAAAAAAAAAAAAAAAAAAAAAAAAAAAAAAAAAAAAAAAAAAAAAAAAAAAAAAAAAAAAAAAAAAAAAAAAAAAAAAAAAAAAAAAAAAAAAAAAAAAAAAAAAAAAAAAAAAAAAAAAAAAAAAAAAAAAAAAAAAAAAAAAAAAAAAAAAAAAAAAAAAAAAAAAAAAAAAAAAAAAAAAAAAAAAAAAAAAAAAAAAAAAAAAAAAAAAAAAAAAAAAAAAAAAAAAAAAAAAAAAAAAAAAAAAAAAAAAAAAAAAAAAAAAAAAAAAAAAAAAAAAAAAAAAAAAAAAAAAAAAAAAAAAAAAAAAAAAAAAAAAAAAAAAAAAAAAAAAAAAAAAAAAAAAAAAAAAAAAAAAAAAAAAAAAAAAAAAAAAAAAAAAAAAAAAAAAAAAAAAAAAAAAAAAAAAAAAAAAAAAAAAAAAAAAAAAAAAAAAAAAAAAAAAAAAAAAAAAAAAAAAAAAAAAAAAAAAAAAAAAAAAAAAAAAAAAAAAAAAAAAAAAAAAAAAAAAAAAAAAAAAAAAAAAAAAAAAAAAAAAAAAAAAAAAAAAAAAAAAAAAAAAAAAAAAAAAAAAAAAAAAAAAAAAAAAAAAAAAAAAAAAAAAAAAAAAAAAAAAAAAAAAAAAAAAAAAAAAAAAAAAAAAAAAAAAAAAAAAAAAAAAAAAAAAAAAAAAAAAAAAAAAAAAAAAAAAAAAAAAAAAAAAAAAAAAAAAAAAAAAAAAAAAAAAAAAAAAAAAAAAAAAAAAAAAAAAAAAAAAAAAAAAAAAAAAAAAAAAAAAAAAAAAAAAAAAAAAAAAAAAAAAAAAAAAAAAAAAAAAAAAAAAAAAAAAAAAAAAAAAAAAAAAAAAAAAAAAAAAAAAAAAAAAAAAAAAAAAAAAAAAAAAAAAAAAAAAAAAAAAAAAAAAAAAAAAAAAAAAAAAAAAAAAAAAAAAAAAAAAAAAAAAAAAAAAAAAAAAAAAAAAAAAAAAAAAAAAAAAAAAAAAAAAAAAAAAAAAAAAAAAAAAAAAAAAAAAAAAAAAAAAAAAAAAAAAAAAAAAAAAAAAAAAAAAAAAAAAAAAAAAAAAAAAAAAAAAAAAAAAAAAAAAAAAAAAAAAAAAAAAAAAAAAAAAAAAAAAAAAAAAAAAAAAAAAAAAAAAAAAAAAAAAAAAAAAAAAAAAAAAAAAAAAAAAAAAAAAAAAAAAAAAAAAAAAAAAAAAAAAAAAAAAAAAAAAAAAAAAAAAAAAAAAAAAAAAAAAAAAAAAAAAAAAAAAAAAAAAAAAAAAAAAAAAAAAAAAAAAAAAAAAAAAAAAAAAAAAAAAAAAAAAAAAAAAAAAAAAAAAAAAAAAAAAAAAAAAAAAAAAAAAAAAAAAAAAAAAAAAAAAAAAAAAAAAAAAAAAAAAAAAAAAAAAAAAAAAAAAAAAAAAAAAAAAAAAAAAAAAAAAAAAAAAAAAAAAAAAAAAAAAAAAAAAAAAAAAAAAAAAAAAAAAAAAAAAAAAAAAAAAAAAAAAAAAAAAAAAAAAAAAAAAAAAAAAAAAAAAAAAAAAAAAAAAAAAAAAAAAAAAAAAAAAAAAAAAAAAAAAAAAAAAAAAAAAAAAAAAAAAAAAAAAAAAAAAAAAAAAAAAAAAAAAAAAAAAAAAAAAAAAAAAAAAAAAAAAAAAAAAAAAAAAAAAAAAAAAAAAAAAAAAAAAAAAAAAAAAAAAAAAAAAAAAAAAAAAAAAAAAAAAAAAAAAAAAAAAAAAAAAAAAAAAAAAAAAAAAAAAAAAAAAAAAAAAAAAAAAAAAAAAAAAAAAAAAAAAAAAAAAAAAAAAAAAAAAAAAAAAAAAAAAAAAAAAAAAAAAAAAAAAAAAAAAAAAAAAAAAAAAAAAAAAAAAAAAAAAAAAAAAAAAAAAAAAAAAAAAAAAAAAAAAAAAAAAAAAAAAAAAAAAAAAAAAAAAAAAAAAAAAAAAAAAAAAAAAAAAAAAAAAAAAAAAAAAAAAAAAAAAAAAAAAAAAAAAAAAAAAAAAAAAAAAAAAAAAAAAAAAAAAAAAAAAAAAAAAAAAAAAAAAAAAAAAAAAAAAAAAAAAAAAAAAAAAAAAAAAAAAAAAAAAAAAAAAAAAAAAAAAAAAAAAAAAAAAAAAAAAAAAAAAAAAAAAAAAAAAAAAAAAAAAAAAAAAAAAAAAAAAAAAAAAAAAAAAAAAAAAAAAAAAAAAAAAAAAAAAAAAAAAAAAAAAAAAAAAAAAAAAAAAAAAAAAAAAAAAAAAAAAAAAAAAAAAAAAAAAAAAAAAAAAAAAAAAAAAAAAAAAAAAAAAAAAAAAAAAAAAAAAAAAAAAAAAAAAAAAAAAAAAAAAAAAAAAAAAAAAAAAAAAAAAAAAAAAAAAAAAAAAAAAAAAAAAAAAAAAAAAAAAAAAAAAAAAAAAAAAAAAAAAAAAAAAAAAAAAAAAAAAAAAAAAAAAAAAAAAAAAAAAAAAAAAAAAAAAAAAAAAAAAAAAAAAAAAAAAAAAAAAAAAAAAAAAAAAAAAAAAAAAAAAAAAAAAAAAAAAAAAAAAAAAAAAAAAAAAAAAAAAAAAAAAAAAAAAAAAAAAAAAAAAAAAAAAAAAAAAAAAAAAAAAAAAAAAAAAAAAAAAAAAAAAAAAAAAAAAAAAAAAAAAAAAAAAAAAAAAAAAAAAAAAAAAAAAAAAAAAAAAAAAAAAAAAAAAAAAAAAAAAAAAAAAAAAAAAAAAAAAAAAAAAAAAAAAAAAAAAAAAAAAAAAAAAAAAAAAAAAAAAAAAAAAAAAAAAAAAAAAAAAAAAAAAAAAAAAAAAAAAAAAAAAAAAAAAAAAAAAAAAAAAAAAAAAAAAAAAAAAAAAAAAAAAAAAAAAAAAAAAAAAAAAAAAAAAAAAAAAAAAAAAAAAAAAAAAAAAAAAAAAAAAAAAAAAAAAAAAAAAAAAAAAAAAAAAAAAAAAAAAAAAAAAAAAAAAAAAAAAAAAAAAAAAAAAAAAAAAAAAAAAAAAAAAAAAAAAAAAAAAAAAAAAAAAAAAAAAAAAAAAAAAAAAAAAAAAAAAAAAAAAAAAAAAAAAAAAAAAAAAAAAAAAAAAAAAAAAAAAAAAAAAAAAAAAAAAAAAAAAAAAAAAAAAAAAAAAAAAAAAAAAAAAAAAAAAAAAAAAAAAAAAAAAAAAAAAAAAAAAAAAAAAAAAAAAAAAAAAAAAAAAAAAAAAAAAAAAAAAAAAAAAAAAAAAAAAAAAAAAAAAAAAAAAAAAAAAAAAAAAAAAAAAAAAAAAAAAAAAAAAAAAAAAAAAAAAAAAAAAAAAAAAAAAAAAAAAAAAAAAAAAAAAAAAAAAAAAAAAAAAAAAAAAAAAAAAAAAAAAAAAAAAAAAAAAAAAAAAAAAAAAAAAAAAAAAAAAAAAAAAAAAAAAAAAAAAAAAAAAAAAAAAAAAAAAAAAAAAAAAAAAAAAAAAAAAAAAAAAAAAAAAAAAAAAAAAAAAAAAAAAAAAAAAAAAAAAAAAAAAAAAAAAAAAAAAAAAAAAAAAAAAAAAAAAAAAAAAAAAAAAAAAAAAAAAAAAAAAAAAAAAAAAAAAAAAAAAAAAAAAAAAAAAAAAAAAAAAAAAAAAAAAAAAAAAAAAAAAAAAAAAAAAAAAAAAAAAAAAAAAAAAAAAAAAAAAAAAAAAAAAAAAAAAAAAAAAAAAAAAAAAAAAAAAAAAAAAAAAAAAAAAAAAAAAAAAAAAAAAAAAAAAAAAAAAAAAAAAAAAAAAAAAAAAAAAAAAAAAAAAAAAAAAAAAAAAAAAAAAAAAAAAAAAAAAAAAAAAAAAAAAAAAAAAAAAAAAAAAAAAAAAAAAAAAAAAAAAAAAAAAAAAAAAAAAAAAAAAAAAAAAAAAAAAAAAAAAAAAAAAAAAAAAAAAAAAAAAAAAAAAAAAAAAAAAAAAAAAAAAAAAAAAAAAAAAAAAAAAAAAAAAAAAAAAAAAAAAAAAAAAAAAAAAAAAAAAAAAAAAAAAAAAAAAAAAAAAAAAAAAAAAAAAAAAAAAAAAAAAAAAAAAAAAAAAAAAAAAAAAAAAAAAAAAAAAAAAAAAAAAAAAAAAAAAAAAAAAAAAAAAAAAAAAAAAAAAAAAAAAAAAAAAAAAAAAAAAAAAAAAAAAAAAAAAAAAAAAAAAAAAAAAAAAAAAAAAAAAAAAAAAAAAAAAAAAAAAAAAAAAAAAAAAAAAAAAAAAAAAAAAAAAAAAAAAAAAAAAAAAAAAAAAAAAAAAAAAAAAAAAAAAAAAAAAAAAAAAAAAAAAAAAAAAAAAAAAAAAAAAAAAAAAAAAAAAAAAAAAAAAAAAAAAAAAAAAAAAAAAAAAAAAAAAAAAAAAAAAAAAAAAAAAAAAAAAAAAAAAAAAAAAAAAAAAAAAAAAAAAAAAAAAAAAAAAAAAAAAAAAAAAAAAAAAAAAAAAAAAAAAAAAAAAAAAAAAAAAAAAAAAAAAAAAAAAAAAAAAAAAAAAAAAAAAAAAAAAAAAAAAAAAAAAAAAAAAAAAAAAAAAAAAAAAAAAAAAAAAAAAAAAAAAAAAAAAAAAAAAAAAAAAAAAAAAAAAAAAAAAAAAAAAAAAAAAAAAAAAAAAAAAAAAAAAAAAAAAAAAAAAAAAAAAAAAAAAAAAAAAAAAAAAAAAAAAAAAAAAAAAAAAAAAAAAAAAAAAAAAAAAAAAAAAAAAAAAAAAAAAAAAAAAAAAAAAAAAAAAAAAAAAAAAAAAAAAAAAAAAAAAAAAAAAAAAAAAAAAAAAAAAAAAAAAAAAAAAAAAAAAAAAAAAAAAAAAAAAAAAAAAAAAAAAAAAAAAAAAAAAAAAAAAAAAAAAAAAAAAAAAAAAAAAAAAAAAAAAAAAAAAAAAAAAAAAAAAAAAAAAAAAAAAAAAAAAAAAAAAAAAAAAAAAAAAAAAAAAAAAAAAAAAAAAAAAAAAAAAAAAAAAAAAAAAAAAAAAAAAAAAAAAAAAAAAAAAAAAAAAAAAAAAAAAAAAAAAAAAAAAAAAAAAAAAAAAAAAAAAAAAAAAAAAAAAAAAAAAAAAAAAAAAAAAAAAAAAAAAAAAAAAAAAAAAAAAAAAAAAAAAAAAAAAAAAAAAAAAAAAAAAAAAAAAAAAAAAAAAAAAAAAAAAAAAAAAAAAAAAAAAAAAAAAAAAAAAAAAAAAAAAAAAAAAAAAAAAAAAAAAAAAAAAAAAAAAAAAAAAAAAAAAAAAAAAAAAAAAAAAAAAAAAAAAAAAAAAAAAAAAAAAAAAAAAAAAAAAAAAAAAAAAAAAAAAAAAAAAAAAAAAAAAAAAAAAAAAAAAAAAAAAAAAAAAAAAAAAAAAAAAAAAAAAAAAAAAAAAAAAAAAAAAAAAAAAAAAAAAAAAAAAAAAAAAAAAAAAAAAAAAAAAAAAAAAAAAAAAAAAAAAAAAAAAAAAAAAAAAAAAAAAAAAAAAAAAAAAAAAAAAAAAAAAAAAAAAAAAAAAAAAAAAAAAAAAAAAAAAAAAAAAAAAAAAAAAAAAAAAAAAAAAAAAAAAAAAAAAAAAAAAAAAAAAAAAAAAAAAAAAAAAAAAAAAAAAAAAAAAAAAAAAAAAAAAAAAAAAAAAAAAAAAAAAAAAAAAAAAAAAAAAAAAAAAAAAAAAAAAAAAAAAAAAAAAAAAAAAAAAAAAAAAAAAAAAAAAAAAAAAAAAAAAAAAAAAAAAAAAAAAAAAAAAAAAAAAAAAAAAAAAAAAAAAAAAAAAAAAAAAAAAAAAAAAAAAAAAAAAAAAAAAAAAAAAAAAAAAAAAAAAAAAAAAAAAAAAAAAAAAAAAAAAAAAAAAAAAAAAAAAAAAAAAAAAAAAAAAAAAAAAAAAAAAAAAAAAAAAAAAAAAAAAAAAAAAAAAAAAAAAAAAAAAAAAAAAAAAAAAAAAAAAAAAAAAAAAAAAAAAAAAAAAAAAAAAAAAAAAAAAAAAAAAAAAAAAAAAAAAAAAAAAAAAAAAAAAAAAAAAAAAAAAAAAAAAAAAAAAAAAAAAAAAAAAAAAAAAAAAAAAAAAAAAAAAAAAAAAAAAAAAAAAAAAAAAAAAAAAAAAAAAAAAAAAAAAAAAAAAAAAAAAAAAAAAAAAAAAAAAAAAAAAAAAAAAAAAAAAAAAAAAAAAAAAAAAAAAAAAAAAAAAAAAAAAAAAAAAAAAAAAAAAAAAAAAAAAAAAAAAAAAAAAAAAAAAAAAAAAAAAAAAAAAAAAAAAAAAAAAAAAAAAAAAAAAAAAAAAAAAAAAAAAAAAAAAAAAAAAAAAAAAAAAAAAAAAAAAAAAAAAAAAAAAAAAAAAAAAAAAAAAAAAAAAAAAAAAAAAAAAAAAAAAAAAAAAAAAAAAAAAAAAAAAAAAAAAAAAAAAAAAAAAAAAAAAAAAAAAAAAAAAAAAAAAAAAAAAAAAAAAAAAAAAAAAAAAAAAAAAAAAAAAAAAAAAAAAAAAAAAAAAAAAAAAAAAAAAAAAAAAAAAAAAAAAAAAAAAAAAAAAAAAAAAAAAAAAAAAAAAAAAAAAAAAAAAAAAAAAAAAAAAAAAAAAAAAAAAAAAAAAAAAAAAAAAAAAAAAAAAAAAAAAAAAAAAAAAAAAAAAAAAAAAAAAAAAAAAAAAAAAAAAAAAAAAAAAAAAAAAAAAAAAAAAAAAAAAAAAAAAAAAAAAAAAAAAAAAAAAAAAAAAAAAAAAAAAAAAAAAAAAAAAAAAAAAAAAAAAAAAAAAAAAAAAAAAAAAAAAAAAAAAAAAAAAAAAAAAAAAAAAAAAAAAAAAAAAAAAAAAAAAAAAAAAAAAAAAAAAAAAAAAAAAAAAAAAAAAAAAAAAAAAAAAAAAAAAAAAAAAAAAAAAAAAAAAAAAAAAAAAAAAAAAAAAAAAAAAAAAAAAAAAAAAAAAAAAAAAAAAAAAAAAAAAAAAAAAAAAAAAAAAAAAAAAAAAAAAAAAAAAAAAAAAAAAAAAAAAAAAAAAAAAAAAAAAAAAAAAAAAAAAAAAAAAAAAAAAAAAAAAAAAAAAAAAAAAAAAAAAAAAAAAAAAAAAAAAAAAAAAAAAAAAAAAAAAAAAAAAAAAAAAAAAAAAAAAAAAAAAAAAAAAAAAAAAAAAAAAAAAAAAAAAAAAAAAAAAAAAAAAAAAAAAAAAAAAAAAAAAAAAAAAAAAAAAAAAAAAAAAAAAAAAAAAAAAAAAAAAAAAAAAAAAAAAAAAAAAAAAAAAAAAAAAAAAAAAAAAAAAAAAAAAAAAAAAAAAAAAAAAAAAAAAAAAAAAAAAAAAAAAAAAAAAAAAAAAAAAAAAAAAAAAAAAAAAAAAAAAAAAAAAAAAAAAAAAAAAAAAAAAAAAAAAAAAAAAAAAAAAAAAAAAAAAAAAAAAAAAAAAAAAAAAAAAAAAAAAAAAAAAAAAAAAAAAAAAAAAAAAAAAAAAAAAAAAAAAAAAAAAAAAAAAAAAAAAAAAAAAAAAAAAAAAAAAAAAAAAAAAAAAAAAAAAAAAAAAAAAAAAAAAAAAAAAAAAAAAAAAAAAAAAAAAAAAAAAAAAAAAAAAAAAAAAAAAAAAAAAAAAAAAAAAAAAAAAAAAAAAAAAAAAAAAAAAAAAAAAAAAAAAAAAAAAAAAAAAAAAAAAAAAAAAAAAAAAAAAAAAAAAAAAAAAAAAAAAAAAAAAAAAAAAAAAAAAAAAAAAAAAAAAAAAAAAAAAAAAAAAAAAAAAAAAAAAAAAAAAAAAAAAAAAAAAAAAAAAAAAAAAAAAAAAAAAAAAAAAAAAAAAAAAAAAAAAAAAAAAAAAAAAAAAAAAAAAAAAAAAAAAAAAAAAAAAAAAAAAAAAAAAAAAAAAAAAAAAAAAAAAAAAAAAAAAAAAAAAAAAAAAAAAAAAAAAAAAAAAAAAAAAAAAAAAAAAAAAAAAAAAAAAAAAAAAAAAAAAAAAAAAAAAAAAAAAAAAAAAAAAAAAAAAAAAAAAAAAAAAAAAAAAAAAAAAAAAAAAAAAAAAAAAAAAAAAAAAAAAAAAAAAAAAAAAAAAAAAAAAAAAAAAAAAAAAAAAAAAAAAAAAAAAAAAAAAAAAAAAAAAAAAAAAAAAAAAAAAAAAAAAAAAAAAAAAAAAAAAAAAAAAAAAAAAAAAAAAAAAAAAAAAAAAAAAAAAAAAAAAAAAAAAAAAAAAAAAAAAAAAAAAAAAAAAAAAAAAAAAAAAAAAAAAAAAAAAAAAAAAAAAAAAAAAAAAAAAAAAAAAAAAAAAAAAAAAAAAAAAAAAAAAAAAAAAAAAAAAAAAAAAAAAAAAAAAAAAAAAAAAAAAAAAAAAAAAAAAAAAAAAAAAAAAAAAAAAAAAAAAAAAAAAAAAAAAAAAAAAAAAAAAAAAAAAAAAAAAAAAAAAAAAAAAAAAAAAAAAAAAAAAAAAAAAAAAAAAAAAAAAAAAAAAAAAAAAAAAAAAAAAAAAAAAAAAAAAAAAAAAAAAAAAAAAAAAAAAAAAAAAAAAAAAAAAAAAAAAAAAAAAAAAAAAAAAAAAAAAAAAAAAAAAAAAAAAAAAAAAAAAAAAAAAAAAAAAAAAAAAAAAAAAAAAAAAAAAAAAAAAAAAAAAAAAAAAAAAAAAAAAAAAAAAAAAAAAAAAAAAAAAAAAAAAAAAAAAAAAAAAAAAAAAAAAAAAAAAAAAAAAAAAAAAAAAAAAAAAAAAAAAAAAAAAAAAAAAAAAAAAAAAAAAAAAAAAAAAAAAAAAAAAAAAAAAAAAAAAAAAAAAAAAAAAAAAAAAAAAAAAAAAAAAAAAAAAAAAAAAAAAAAAAAAAAAAAAAAAAAAAAAAAAAAAAAAAAAAAAAAAAAAAAAAAAAAAAAAAAAAAAAAAAAAAAAAAAAAAAAAAAAAAAAAAAAAAAAAAAAAAAAAAAAAAAAAAAAAAAAAAAAAAAAAAAAAAAAAAAAAAAAAAAAAAAAAAAAAAAAAAAAAAAAAAAAAAAAAAAAAAAAAAAAAAAAAAAAAAAAAAAAAAAAAAAAAAAAAAAAAAAAAAAAAAAAAAAAAAAAAAAAAAAAAAAAAAAAAAAAAAAAAAAAAAAAAAAAAAAAAAAAAAAAAAAAAAAAAAAAAAAAAAAAAAAAAAAAAAAAAAAAAAAAAAAAAAAAAAAAAAAAAAAAAAAAAAAAAAAAAAAAAAAAAAAAAAAAAAAAAAAAAAAAAAAAAAAAAAAAAAAAAAAAAAAAAAAAAAAAAAAAAAAAAAAAAAAAAAAAAAAAAAAAAAAAAAAAAAAAAAAAAAAAAAAAAAAAAAAAAAAAAAAAAAAAAAAAAAAAAAAAAAAAAAAAAAAAAAAAAAAAAAAAAAAAAAAAAAAAAAAAAAAAAAAAAAAAAAAAAAAAAAAAAAAAAAAAAAAAAAAAAAAAAAAAAAAAAAAAAAAAAAAAAAAAAAAAAAAAAAAAAAAAAAAAAAAAAAAAAAAAAAAAAAAAAAAAAAAAAAAAAAAAAAAAAAAAAAAAAAAAAAAAAAAAAAAAAAAAAAAAAAAAAAAAAAAAAAAAAAAAAAAAAAAAAAAAAAAAAAAAAAAAAAAAAAAAAAAAAAAAAAAAAAAAAAAAAAAAAAAAAAAAAAAAAAAAAAAAAAAAAAAAAAAAAAAAAAAAAAAAAAAAAAAAAAAAAAAAAAAAAAAAAAAAAAAAAAAAAAAAAAAAAAAAAAAAAAAAAAAAAAAAAAAAAAAAAAAAAAAAAAAAAAAAAAAAAAAAAAAAAAAAAAAAAAAAAAAAAAAAAAAAAAAAAAAAAAAAAAAAAAAAAAAAAAAAAAAAAAAAAAAAAAAAAAAAAAAAAAAAAAAAAAAAAAAAAAAAAAAAAAAAAAAAAAAAAAAAAAAAAAAAAAAAAAAAAAAAAAAAAAAAAAAAAAAAAAAAAAAAAAAAAAAAAAAAAAAAAAAAAAAAAAAAAAAAAAAAAAAAAAAAAAAAAAAAAAAAAAAAAAAAAAAAAAAAAAAAAAAAAAAAAAAAAAAAAAAAAAAAAAAAAAAAAAAAAAAAAAAAAAAAAAAAAAAAAAAAAAAAAAAAAAAAAAAAAAAAAAAAAAAAAAAAAAAAAAAAAAAAAAAAAAAAAAAAAAAAAAAAAAAAAAAAAAAAAAAAAAAAAAAAAAAAAAAAAAAAAAAAAAAAAAAAAAAAAAAAAAAAAAAAAAAAAAAAAAAAAAAAAAAAAAAAAAAAAAAAAAAAAAAAAAAAAAAAAAAAAAAAAAAAAAAAAAAAAAAAAAAAAAAAAAAAAAAAAAAAAAAAAAAAAAAAAAAAAAAAAAAAAAAAAAAAAAAAAAAAAAAAAAAAAAAAAAAAAAAAAAAAAAAAAAAAAAAAAAAAAAAAAAAAAAAAAAAAAAAAAAAAAAAAAAAAAAAAAAAAAAAAAAAAAAAAAAAAAAAAAAAAAAAAAAAAAAAAAAAAAAAAAAAAAAAAAAAAAAAAAAAAAAAAAAAAAAAAAAAAAAAAAAAAAAAAAAAAAAAAAAAAAAAAAAAAAAAAAAAAAAAAAAAAAAAAAAAAAAAAAAAAAAAAAAAAAAAAAAAAAAAAAAAAAAAAAAAAAAAAAAAAAAAAAAAAAAAAAAAAAAAAAAAAAAAAAAAAAAAAAAAAAAAAAAAAAAAAAAAAAAAAAAAAAAAAAAAAAAAAAAAAAAAAAAAAAAAAAAAAAAAAAAAAAAAAAAAAAAAAAAAAAAAAAAAAAAAAAAAAAAAAAAAAAAAAAAAAAAAAAAAAAAAAAAAAAAAAAAAAAAAAAAAAAAAAAAAAAAAAAAAAAAAAAAAAAAAAAAAAAAAAAAAAAAAAAAAAAAAAAAAAAAAAAAAAAAAAAAAAAAAAAAAAAAAAAAAAAAAAAAAAAAAAAAAAAAAAAAAAAAAAAAAAAAAAAAAAAAAAAAAAAAAAAAAAAAAAAAAAAAAAAAAAAAAAAAAAAAAAAAAAAAAAAAAAAAAAAAAAAAAAAAAAAAAAAAAAAAAAAAAAAAAAAAAAAAAAAAAAAAAAAAAAAAAAAAAAAAAAAAAAAAAAAAAAAAAAAAAAAAAAAAAAAAAAAAAAAAAAAAAAAAAAAAAAAAAAAAAAAAAAAAAAAAAAAAAAAAAAAAAAAAAAAAAAAAAAAAAAAAAAAAAAAAAAAAAAAAAAAAAAAAAAAAAAAAAAAAAAAAAAAAAAAAAAAAAAAAAAAAAAAAAAAAAAAAAAAAAAAAAAAAAAAAAAAAAAAAAAAAAAAAAAAAAAAAAAAAAAAAAAAAAAAAAAAAAAAAAAAAAAAAAAAAAAAAAAAAAAAAAAAAAAAAAAAAAAAAAAAAAAAAAAAAAAAAAAAAAAAAAAAAAAAAAAAAAAAAAAAAAAAAAAAAAAAAAAAAAAAAAAAAAAAAAAAAAAAAAAAAAAAAAAAAAAAAAAAAAAAAAAAAAAAAAAAAAAAAAAAAAAAAAAAAAAAAAAAAAAAAAAAAAAAAAAAAAAAAAAAAAAAAAAAAAAAAAAAAAAAAAAAAAAAAAAAAAAAAAAAAAAAAAAAAAAAAAAAAAAAAAAAAAAAAAAAAAAAAAAAAAAAAAAAAAAAAAAAAAAAAAAAAAAAAAAAAAAAAAAAAAAAAAAAAAAAAAAAAAAAAAAAAAAAAAAAAAAAAAAAAAAAAAAAAAAAAAAAAAAAAAAAAAAAAAAAAAAAAAAAAAAAAAAAAAAAAAAAAAAAAAAAAAAAAAAAAAAAAAAAAAAAAAAAAAAAAAAAAAAAAAAAAAAAAAAAAAAAAAAAAAAAAAAAAAAAAAAAAAAAAAAAAAAAAAAAAAAAAAAAAAAAAAAAAAAAAAAAAAAAAAAAAAAAAAAAAAAAAAAAAAAAAAAAAAAAAAAAAAAAAAAAAAAAAAAAAAAAAAAAAAAAAAAAAAAAAAAAAAAAAAAAAAAAAAAAAAAAAAAAAAAAAAAAAAAAAAAAAAAAAAAAAAAAAAAAAAAAAAAAAAAAAAAAAAAAAAAAAAAAAAAAAAAAAAAAAAAAAAAAAAAAAAAAAAAAAAAAAAAAAAAAAAAAAAAAAAAAAAAAAAAAAAAAAAAAAAAAAAAAAAAAAAAAAAAAAAAAAAAAAAAAAAAAAAAAAAAAAAAAAAAAAAAAAAAAAAAAAAAAAAAAAAAAAAAAAAAAAAAAAAAAAAAAAAAAAAAAAAAAAAAAAAAAAAAAAAAAAAAAAAAAAAAAAAAAAAAAAAAAAAAAAAAAAAAAAAAAAAAAAAAAAAAAAAAAAAAAAAAAAAAAAAAAAAAAAAAAAAAAAAAAAAAAAAAAAAAAAAAAAAAAAAAAAAAAAAAAAAAAAAAAAAAAAAAAAAAAAAAAAAAAAAAAAAAAAAAAAAAAAAAAAAAAAAAAAAAAAAAAAAAAAAAAAAAAAAAAAAAAAAAAAAAAAAAAAAAAAAAAAAAAAAAAAAAAAAAAAAAAAAAAAAAAAAAAAAAAAAAAAAAAAAAAAAAAAAAAAAAAAAAAAAAAAAAAAAAAAAAAAAAAAAAAAAAAAAAAAAAAAAAAAAAAAAAAAAAAAAAAAAAAAAAAAAAAAAAAAAAAAAAAAAAAAAAAAAAAAAAAAAAAAAAAAAAAAAAAAAAAAAAAAAAAAAAAAAAAAAAAAAAAAAAAAAAAAAAAAAAAAAAAAAAAAAAAAAAAAAAAAAAAAAAAAAAAAAAAAAAAAAAAAAAAAAAAAAAAAAAAAAAAAAAAAAAAAAAAAAAAAAAAAAAAAAAAAAAAAAAAAAAAAAAAAAAAAAAAAAAAAAAAAAAAAAAAAAAAAAAAAAAAAAAAAAAAAAAAAAAAAAAAAAAAAAAAAAAAAAAAAAAAAAAAAAAAAAAAAAAAAAAAAAAAAAAAAAAAAAAAAAAAAAAAAAAAAAAAAAAAAAAAAAAAAAAAAAAAAAAAAAAAAAAAAAAAAAAAAAAAAAAAAAAAAAAAAAAAAAAAAAAAAAAAAAAAAAAAAAAAAAAAAAAAAAAAAAAAAAAAAAAAAAAAAAAAAAAAAAAAAAAAAAAAAAAAAAAAAAAAAAAAAAAAAAAAAAAAAAAAAAAAAAAAAAAAAAAAAAAAAAAAAAAAAAAAAAAAAAAAAAAQABAAEAAQABAAAAAAAAAAAAAAAAAAAAAAAAAAAAAAAAAAAAAAAAAAAAAAAAAAAAAAAAAAAAAAAAAAAAAAAAAAAAAAAAAAAAAAAAAAAAAAAAAAAAAAAAAAAAAAAAAAAAAQAAAAEAAQABAAEAAQABAAEAAQABAAEAAQABAAEAAQAAAAEAAAAAAAAAAAAAAAAAAQAAAAEAAAAAAAAAAAAAAAEAAAAAAAAAAAAAAAAAAAAAAAAAAAAAAAAAAAAAAP////8AAP//AAAAAAAAAAAAAAAAAAAAAAAAAAAAAP//AAAAAAAAAAAAAAAAAAAAAAAAAAAAAAAAAAAAAAAAAAAAAAAAAAAAAAAAAAAAAAAAAAAAAAAAAAAAAAAAAAAAAAAAAAAAAAAAAAAAAAAAAAAAAAAAAAAAAAAAAAAAAAAAAAAAAAAAAAAAAAAAAAAAAAAAAAAAAAAAAAAAAAAAAAAAAAAAAAAAAAAAAAAAAAAAAAAAAAAAAAABAAIAAAAAAAAAAAAAAAAAAAAAAAAAAAAAAAAAAAAAAAAAAAAAAAAAAAAAAAAAAAABAAEAAQABAAEAAAAAAAAAAAAAAAAAAAAAAAAAAAAAAAAA/////wAAAAAAAAAAAAAAAAEAAQAAAAAAAQAAAAEAAQAAAAAAAQABAAEAAQABAAEAAQAAAAAAAAAAAAAAAAABAAAAAAAAAAAAAAAAAAAAAAAAAAAAAAAAAAAAAAAAAAEAAQAAAAAAAAAAAAAAAAAAAAAAAAABAAIAAgADAAAAAQABAAEAAQAAAAEAAQAAAAEAAQACAAEAAAABAAAAAAABAAAAAAAAAAAAAQACAAEAAgABAAAAAQAAAAAAAQAAAAAAAAAAAP//AAAAAP//AAAAAP7//v///wAAAAABAAAAAAAAAAAA//8AAAAAAAAAAAAAAAAAAAAAAAD///////8BAAAAAAABAAIAAQAAAAEAAAAAAAAAAAAAAAAAAAAAAAAAAAAAAAAAAAAAAAAAAAAAAAAAAAAAAP//AAAAAP////////////8AAAAAAAAAAAAAAAAAAAAAAAAAAAAAAAAAAAAAAAAAAAAA//8AAP7///////7//v/9//////////7//v////7//v/9//7//v/+//7//////////v/+//7//////wAA/v8AAP////8AAP//AAAAAP7/AAD//wAAAAAAAAAA/////wAAAAAAAAAAAAAAAAEAAQAAAP//AAAAAAEAAQABAAAAAAD//////v////3//f/8//3/+//9//j/+P/2//P/8f/y//T/9f/4//v//P8AAAAA///+/wAA///+//z//v///wAA/v8BAAMABAADAAAA+//7//f/9P/w//H/8f/w//P/8//0//v/+/8AAAMABgAHAA8AFQAhACgAMQAzADMANQA4ADcAMwAuACkAIQAdABoAGAAWABYAEQASAA4ADgALAAYAAQD5//H/7f/o/+L/4P/Y/9r/1//Y/9z/2P/d/9z/2f/c/93/3v/h/+H/3//h/+D/4f/l/+b/7P/y//f/+/8AAAQABgALABAACwAMAA4AEgASABQAFQAYABgAGAAaAB4AGwAbABUADwAMAAkABgAEAPv/+v/2/+3/6f/k/97/2P/Q/8f/wP+3/7L/rv+u/6b/o/+W/47/j/+R/5X/l/+a/5f/lv+i/7//3v/5/w0AJwBIAHcAsQDuACABRgFiAX8BpQHOAeYB6AHSAb8BqwGkAaEBnAGFAUwBCQHYAKsAgwA+ANz/fv8a/7j+Z/4e/s39cv0I/aj8aPww/P/72/uy+4r7eftt+2/7hvup+8/7BPxB/H/8z/wy/Zj9Cf5u/tX+RP+v/yIAkwAUAZoB9AFEApcC8QJYA5sDuwPYA/IDCwQgBDsEVARQBD4EJQQMBAsE+gPTA7ADcQMjA/YCzwKlAnACKQLqAbcBewFOATcBHwH5AM0AtQCjAJsAnACKAJAAjgBhAFcAPAAtACgA7P/b/7v/e/9c/x3/7v7A/mL+Iv74/cP9f/07/fr8yvyo/HP8SvxC/Br84/vB+7D70PvO+8r7Afwl/Jr88vwJ/YL9tf3o/Wn+if4Z/9D/AgCWAGsBJAOjBXsH4wjTCdIKAAyFDEsNKA4sDoINSAz9CwMNzw3sDTwNRAyAC40KlwnSCGEHygRqAfv93/uj+vn4//ah9JnyAfFQ72Luru1v7Hfq7uee5l/mVuY95sjlEeab5uPmK+gI6j3szO0s7gvvpvB08hT0dPU/9wP5ffo9/Kj+vwFgBCUGqAc5Cd8KSQxsDYEOaA/yD0QQxRCnEbkSkxP5Ey8UVhRSFA0UZROlEuoRsBA9Dx4OUg2wDM4LvQr+CTgJKQgIB/QF1ARdA4sB0v98/lz9PPxZ+5/6Bvqa+RT5xPig+Dr4svcI94P2MvbN9W71LvUo9VL1dfXq9bL2bfcR+IT4FPnx+Yj6IPvl+5L8SP3q/cH+CQARAfIB0gKlA6AEYQUXBhgH0gdbCKgI8AiyCTsKXwqOCnsKUAoJCo8JcglDCbcIFQhOB98GfQa8BRkFUARXA1oCMgFpALT/vP76/Qz9RvzN+zv7+PqS+s35Xfns+JX4iPg6+Pj33Peg96D3zfch+Jr4zfjk+B75cPnY+Sv6hvrq+i/7W/ud+yv80vw8/YD95/1Y/rj++/5b//H/YQB5AIcA0gA7AXgBlAHAAQ4CSAJBAkgCiALHAs4CmwKLArcCxALCAuMCCgMuAyQDDAMpA1UDXwNRAywDDAP0Ar8CjQJwAisCyAFcAfsAmwBNAAMAy/+L/wn/sf5x/u/93P2u/Rf91vxe/On78Puh+3H7kPsL+8r6+fr7+o/7gPvh+vb6qvqM+oj6ZvpN+5r7nfvT/Jf/YgTuB1sJtgqTDIgPYxEjEgoUERWqFBoTexK/FewYaxlnGFIX0BcHGJsWXRUdFB4RMgyPB/cEsgMwAeP8/PgQ9inz4O8P7QzrFeiz4wvfzNt02u7YF9fS1cvUo9Sn1HfVyteK2bnaztui3Hfea+Ba4hzls+cu6t3s7+8E9Ev4Z/xBAKoDJQcKCr8Mrg8nEm8U7RXxFpYYIxrzG5odwh7wH5kgEiGDIZAhUiE1IJIerhx0Go4YwxblFDYTLxEoD2INdwuyCd8HuAVqA+0Ap/6v/MD6/PhV99D1jvRu86fyVfLz8ZrxTPEz8Ynx0/Hu8RnyPvJq8o7yw/Jl8zr0I/UE9vr2mPhs+hP8x/1F/7cAOgJ9A8wEHAYkByoIHQkvCn0LqAzEDZkOJg/hD4AQ6hBcEWgRMhHNEBMQbQ+vDp8NeQzxClsJ6gd5BikFswMkAnoAnf4B/WX7uvk6+Ff2hfQc86bxk/DL7/jui+4q7s3t2O0Q7m7ux+4J737vC/Dk8Mzxl/Ls81f1ffbs90z55vq0/CT+nf8eAYgCvAPgBEEGngcBCUkKNwtBDCoN6w3FDjUPVg9AD+EOlw4IDm4N9wxKDF4LCgrsCPwHrQafBUAErgJZAYH/6v21/Ef7Gfrt+E73XfYO9pL1ivXo9KfzMPP78ePwafC071rwNvCX7zjxlvT6+iQAywE0BNcG0QpoDm4PJRK/E6ISGhFKEKAU+RlmG00bYhqYG3weXh8SIOUeDRp3FAUPogu2CVgFTQCF+672RvO58FPwYPDA7HnnW+Ip3+PdBNul17nU/dCpzjPNfs2e0HzSwNNd1VvWCNk43DnfguIM5ADlTOYu6IvrHe9J8733Ovtr/80DmQgMDmgSaxYkGTMaYxtpHB0eiB/aH4IgwSDzIJQhViL7IyUl9yQgJNgikyECIMIdahuyGGoVthEVDkkLIwkxB04FgwPpATkAdv4y/UD8B/s0+aH2HfQo8mzwSe+q7iPuwe1R7ULtPe7D7znxMPKJ8qzy7fKS85T0u/Xf9qf3Tfh4+Uj7sP1AAGIC/AM1BW4G8geJCfAK3As3DGcMygy3DR0PXBAGEUERKhEzEWARXxELEdgP7A3vC+sJWwjiBgQFEAPMALT+PP0U/FL7K/p8+Or2V/Ux9F3zGfK88B7vQu0v7Nnrv+sM7GDss+yT7dbuZfBf8ib0RvVE9m/31fhd+or7pfwF/ib/mwBbAgoENga6B+wIowrEC/0MHg6EDkQPpA+wD/kPChBFEGEQBxDAD/QO5g3rDJ4LXgrCCA4HyAVHBPIChwHT/5b+rfw/+k34VvYO9cbzUfHl7xfxq/Sw+Qv9q/7/APYDMAfECTAMCQ8zD58M2wmYCikQohMSEwMSHRLMFRkZhhqxHQQe9BntEz4OpQ3XDHYGBv6a9QrwIu3g6dboFegp5G/fCtxA3Afe2tzm2RvWadJuzwrNbM1ezsnMMcqyyPPKsc/a08jXzdvu36LjEuci7CLy8/Z9+Zb6hPyb/xsDOgduCyQPOxLVFHAYmh3hIs0mFCkrKnQqVCpaKlQqtinUJ4AkEyHnHsgdFh05HMQa9hg0FwUWexXTFBUT9g/zC8QH9gPtADP+GPto99LzaPFP8Cfwf/Dh8NrwO/D379fwSvIY8+XyI/J78RnxJPEC8l7z/fPz85f0lfZx+XL8RP/tAQ8EbwXnBhYJTQtkDA8MZAszC2ELuAs9DLoMuAxaDEIM5AzMDQkObQ1NDMYKCglWB48FqQNYAbL+KPw2+vL4Cvgh9w/2EfWa9H/0TvTn81rz1PKE8h/y2/EA8jryn/JX82T07vWn9yX5efrx+6D9ZP/rAMkBTQLqAvsDSwVDBnIHiQg5CVEKbAuODNUNJA7PDVcN2AyEDEQM3gvUCrUJ0wgeCMEHSgdYBsoEMAKq/6X92/sQ+y76PPk++bz6L/+CBYwKUQzWDNIOqhHnE4UU5hPLEv4PXgwuDJcPqhLgEsgQ6xAEFKgXxBqrHH0c+hidEncNHQuACOsBufac6/7jYd9q3NTZStZ50hTPDc7pz9vSh9RJ06LPosuBycXJ7clGyDTF08Imw2zGk8u70d3XSt1u4nnoJfBT+B3/RQOMBXgHuAmlDIgP/xGgE4cU1hWgGFcdySJ6JzEqzytRLSkvLDCrL84tvSqBJq8hIB4IHBMaxRb5EoMQLQ/FDq0O9Q6HDnYM/wnYB34GRQQVAUL93Plz97T1v/QX9EjzrfFn8K7vM/Cp8X7yTvLM8ZTyVvRF9q/3DPmf+Xv5WvkC+on7Gfxb+0f6E/rO+qv7Ifzw/CH9EP1o/X3+7f9YAfABNAKoAqwDrgQfBS4F2ATjA1EC2ADr/0b/eP7V/CT8UPtB+3T7XPzG/d79vP35/Rj/DwA8AO7/w//8/h7+KP5+/mH/uv/MADgCngPgBNkEQQXiBMUESAVoBZAFRATNA88D2QNAA50CyAFHAskCcwTJBP0DfQSzAeYA2/4++4P3JPRO74HsePBy/20b3DU9RDlII1B0YvNxp3LmZY5W1EsMP0Iovgzn90TooNVmwDq1UblRxDXGXL/vvuXK7dp34Unds9eX1VXXmNgw2c3apN3w4dLnk/Dt/CwKqRNXFgkVmRKWD8QHcvh85evT0sWIuVqvPKjbp2uu8LoGy4TcS+10/VQOix4DKpcubC9pL+Ivny7lKlkmkSOpIsMj4CMoI0kguhxDGWETmQuyAvD5A/AG5RDeg9zO3S3fDeJl6+34KQZDEf4bIiYnLbUuHS3EKekjqhudESYHcv1r9kLy2O+S7FDr4Otw7tzuP/DT8Xzz1/QZ9YP2XPrS/38CawSTCPcNqBELES8QzA6IDE0HLwHo+s/1U/F57W7q8ukd64ntsu/R8iP35PtE/i7/Dv//ADkBo/+q/Xv9Cv9K/8j+Pf/DAR0DigR/AxIFXQWGBkYH4wZiB3QGiAeoB3YHYwZsBUAEagPaAZIACf6j/B780/tW/iT+bAAYAqAFZQiLCmsMqg2ZDRUMoQmEBHcBPP0M9/rqU+MV6cgCAyL+NC8+h0p/YbBzgHfvbmhiPFasQTUha/1W4YHKZ7LqnAiU3JkEpVussrNbwsnZb+3B+Yz+4gRnDAgQoA10CUQIIgzWDoIMOwmpByAJtQbg/jXyx+W+2qnNe70+r5ynR6fgqd6tsrYayP/gZ/lCDkIhbDNkQvpInEmgRXs+7TIcI5ETsAVM+8Xxz+kN5czkAOfq6Wbswu8I9FD3HvmT+i/+OQMkCTkOORSQHN0l3Sw8MDgxwzAuLY8lKhl1Cx/+9/Az5F3Z1dNU0/TWE93t5ZjwFf0wCUESdRixG3EdcBySGOERagmfAtz8F/g78SftnuvR62nsyu3x79Lz4Pee+qr89f73AdQDLwSOAwsDggOqAloAYP2w/Cn8GPv9+Mz3kfjp+lD9CgCiAy0GewkLCr4LIws3CoAHEAPz/h77QPr/+GL5CPpm/Az/JQOJBScI1AkVC9QL5wlGCYsFuAM7ATH/uf29+yP79vm4+Tb44/M17ovqi+pA8Xv/FxgvNIJMuFikXjhle2wGbdZdSECtHngCBuk1ynurvZeKkuaUEZoEo261JdDj56D6/ApgHSssEDGHLPIk2iF8H7MYoQwvAX/7E/nR8+7qt+EB243VMc67xY6+proyutK8qsJtzTfcfu0D/q8PmSJyNJNAI0O7P5M5RjKDJoQUxwDH78/jK9sH1aPSY9Ty2oPjq+3r9xgB3gf5DFsRvRRaF8sXYhegFhcYAxvGHjcglR6DG+0Y+xVkD2IF2vlh8KXpoOTM4SjidOUV7LD0Sv+0CXISjRe8GRYZQBeKErwLngIp+n70KfE47y3t0Oxq7/zz6/jk+1D/YQKXBFMFhwQkA+wBdAAX/jH8K/vt+p/6Gvol+pb6M/z6+z/8gfyW/lkA8wHeAsoDcAX4Bl0IZwgRCLgFAgRpAUcAnv0Q/DL7BvuQ/Ib9rgBrAxsHDwouC9YKGQrAB8AF3QIlANL9BPtR+Vv2NfQ68e7toOqD51XqKfhaE8svUEK4SbNSxGF/blJsSlqjQGQo8w6679vMPbDDn7CXVJRrluCh/Lb4zHDg+vJyCjkh9y6YMWku9y17LagpLB+yEpwIowH0+h/yjugf4K7YEtHJyFnBDL32urq6xr0ZxprUg+Um9gkGkRcZK308l0WxRdo/9jhuMNwiWw/y+VzoYNtZ0mDMVMrrzBzTHN356U/4tATlDNoSKhj0Hbwh7iFWH6Ycuhu9G4UaQhc3EtQMXQelAUH7bPTR7cjof+bj5yTsQ/Gt9pH9WgZED5kVjhfRFvUUAxBWCI3/AfiY8fXrLOgu6JnrCvGt9Yf6gQG2CGIOfRBVEOAOJgyBCPACnv3Z98fzIPFB8NbwtfJe9aH4ifyMAAcEMwazBwwJTQrZCpkK2AnxCKwHEwb+A8ABzv7P/Kb6Ufmm+DX4ifnt+8D+VwFWA1cFtgbrBzEInAbTBMYB2v+H/K34P/Ta79rswulx5w3s1f7cG04220M0SoNUXmLsaAZeHUenLcMVi/nM2Cu7XqlWoIKbfJqRo664FtFp5P3zJwdQHTktaDEWLgMqESgGI8EZLA/4BmIB4/qk8rXqyOTH3ynZ39CXySHG4cV/xinIa80B2WnpyvloCSkYDCgJNlg+wD/3OrEyzCbSFhwE4PHm4oPXOc9Hy2LN1tXw4ffupPuTCHkU0RwfIM0fBB5QGgQUnQwPB8gEngMvAgIBZgHVApQDwgKvACv+nPvl+K/2TvXx9Tv4mfu9/1UECwlfDEANNQzCCXcGYAH3+nL04++W7ZXt/u568lT3z/1xBE4KHg4BECoQDw9mDCMIwQKJ/f740PVu8/7yy/NE9kL5w/xCAFgD9QWQB8gIeQgOCHsGQgVYA7oBfwCV/3b/f/8TAH0AtADpACsBfwH1AYgBPgF1AIsAKAAiAD3/1f7y/aj92vwc+6f4t/To7+jnJOTr6bP+/hfQKgc2qkC2UfJfr2LmV/1FxTFOGbf6i9tFwiuxG6SlnMSdp6psvg/SY+KQ89QHxRmbJKUmGCXcIkEgTxuNFFAOxAnABf8ApPqf9Hru7Ob83GzS3spxxuPDhsJyxA7N09tV7Xr+tA5LH7AuHTpxPxM+JjhYLbQe+gxu+7/sleBQ14/RbNG211Phe+w5+GUEdRDZGCAd4R1KHQwbRRYAELgKdge0BWQEuQMYBGoEPQOWAPz9c/ua+J/0+vAt75nvXvJV9uT7ewJGCQIPlRJUE4sS0w7OCXkCNvuF9KHvBuz96gLsmu959Ez6ZwCJBZQJBwtSC98J1wfJBFkBU/6S+wf6GPkA+h78pv9IAxkGdwiUCXQK9AmkCPoF+AJsAM/9evwp+7/6UvuF/Iz+ewA/ArAD3AQ0BqgHuQcPB3AEIwNNAb8A8QAy/1P+SvyW+nL4vvSK8FzsDOk76ODttf9tGzE2T0U4SwBRM1rbXSlTHjoTHcUDAusN0Zu6Aa4Tq1yqbK2huKzOGea99Yb+QgjwFNofSiKBHbAYbRauFbQRawwPB2UCX/yy8xPqfuEz2XHQ08c2wzLETMmH0GXZhedm+gIOLR25JnEuUTTpNWowcCQoFgAH1fgt7Mbild3a23fdV+JQ69/3pQRYDtoTuBYfGcQa+hm2FT0Q+QuZCfQHRQYZBTME1AL5/7P8Kvrx9/Tzlu/W7NftNfEr9WH5mf7fBHILTxBUEl4S9hCUDXsHjv+D+MTxtez86O3osOoL72j0ofkp/zEEyAj7Ct8KAwkCBiEDtACz/hH9Ifsc+uv6DP13ALAC7ASVBjwIRgrcCl8K6AiuBosEIQIAAO79Zvxe+0T6xPk0+Y35c/pU/Lb+NwFZA7oF8AYdCIYIGAjaBs8FfQMuAZ/+wfxH+8j4zfEj5uvhrevdAjoZyydRMyVEWVQiXBdZ40+OQocrAgqZ6RLTKsYxuHSpTqRxrgzD0tRj4Xbu8v76DJMTtRWXGPwbeBqkFK0Q9hEnFHoRRwkLAO73z++45LjXsstaw+u+5r03wQHKa9h96cz78ww7HQsqKjI8NFYxlyoBICYSCQMV9ujsZecB5D7jleXg62L0evykAogGCAnNCiYMFg1cDaQNJw6HD8UR8RTzF4wYPhUZDx0IuwEv+0bzWesb5k7lz+fg62LygfoqAywKAw8hEjQT8BB3C+UDHP3c9qnxpO1c7Ubvl/Mg+If9MQOHB6gJBQlJB+UEjwFo/ZL5w/Zj9eb0q/S49Xr3M/oP/Mb9r/8QAmMEFAZQB0kJ+goiDBgMAAunCUMHSQQtAA/8Svik9fnzOPPF81v12fdH+43+zwHzBHsG9gcOCDcIBQiZBuUEbgEJ/xD7+Pfn9FbyaPFf8EL0VABzGLA05EnSU3JWPFirVhpKzTFqEiz0kNe6v1Ov36qfr424ncKk0XHmgPo9CG0MIA00Dj4QEhG/EGIRgxOtFTkXuxZXFTQQeQUb9bbij9L9xai8SLb2tfC8eMs13pry8QYQGZsnTS+GMK4r5SJ8F1oKSv7d9FXvU+0Y7Zvv1fOu+Fz8y/2z/YL8QvsH+qr59/rA/gYFOw0pFqMe+yT3JyAmECB9FncKkf3i8LvmTOA23o/hnOgg87D9lwdTD4AUlRUWE4kNqQa1/yz6bfbP9Sv3GPsh//UCZgXQBnIGGQQWAAj7i/YX8/zwpvBk8qn14PkO/lUBygN3BIUDvwDm/AH5l/b59aj32vqg/88EtAnqDFYOag0yCkUFo/8K+jn2efR89Ev2MPlE/dP/zALZAjUDxAH4/x//l/1C/T79eP4GAQMEUgfGCXoJEQZaAer9A/oc9zL1w/lVClIleD9WUfxZLVunVXlHBDKGFrf48tmdvrateqq6s2q/q8wU2oPpnvcoAa0FbAaPBeUDqgNJBx8QIRrVIB8j+CFcHj0Wswb78mHcyMiruXKxYbAEuI/GI9lG7lUCnhTUIjIphigoItsXvQ0mBCP+N/ux+9396QD5A7gF3gQRAb76FfPj65vm4uRP57bum/iuBBoQMRvJI28o3ihjIwsafg4FA/35gPQa8ZHwjfJe92j8rwBMA/oDuQGU/YH5vves+Kz7ZQD+BbcLUxHZFFsV1RFzC8QC5Pj078HpYeYG5kboY+209Lz89gMaCU0Mugy9CqkHLQQ6AYr9UPtG+en4VfkS+9H84f3g/uP+DP95/s3+A/96AJgBNQPFBPkFGgfIBo8FjgMdALP8vvjb9cDzWfNf9IX3Bvsc/8oDOAdqClcM4A1sDbkLhwj4A9X/4vrg9gj0APbsAegWSTAJSJxVmlUwTkpB5zGfHAUCHuXazUXCf8IXy5TW2OHG6Bbqz+mD6VXqSOph6C7ohe4H/bsPGiKkLv0zHzKrKJEZLQYI8cvc28ofvy278L+Zy+PZOudB8gj67P64AAYAk/5u/er9PQJHCm4VWiEDKu4sZCllII0TggR19LDl4drK1R/Xc94i6jD41QXXEJEX3RnWF84SzgzJBw0FFwW0BnoJAA0lEFYRZA9UCUIAmvQP6lfisN423zbkJ+zi9QgB2AqOEtIWwRcvFf8PFAs+BWwBMP4i/Nr67/l2+d34jvdy9a/y3vB/8F3y+PWQ+of/uQRwCIcK1QoJCYAF6gCx/AP5Zvcx9yr4MvrL/Pf/1wI/BWIGhAagBkEFEwRPAgIAFP5K/Nv6JfpC+Wz52viH+VH7Uf7ZAawEDAhLCLoIywdlBcID3gBT/wz9mPs7ALoLGiGgNvlEG0sMS5BFhDn5KUcX1AO08BPiYdtL3Y7kc+ht6fHkcN/72oPYdNgD27ffq+hb9WYGAhiFJYgqWSYpHSQR2ARo+H7uRefi4u7gWeKt5f7oAOk+5dbewtm/1/HZvd/K6MD0XQFxDv0ZLSIbJv4jSx3aFFIMtgZ7AmEAjP/n/2oA9/+u/kf7e/ak8Lrry+lG7KjyivuRBfEOSRdWHIgeCh0RGMgQfwkjBAcB7QBOAb8BGwJrAJT9D/r29e7wv+yF6u7rPPE4+FoA1wdpDVUQfBDgDgALjgVA/7b5+vUu9RT2qfge+r76kvkN+HP2D/Up9G30fvaZ+Rz+kwJnBiQIuQeCBWYCJv9b/Jr6Dvrn+qn84v7tAAICiQIpAqIB4AAfAR8BfQEDAX7/vf1Z/LX7Lf0I/kgARgFhAR0CbgDw/2/9Tfss+hD7V/78A1YQBiUzPn5RmFf2UBpFoDXXJOYULgUM/Dz2zvQT9lP3XvUk7GzcJMnsuQq2YrqXxdfUDeXd98oImhaSHXMdYhZmC4kD+f9RA7MJ1Q6xEDsNlAZN/MHvUeG80lXHscFDw4XMMNof6N7z8PrL/aD/lADTAucGkQu/EZkZKSLQKaYuSy2iJvIaUQ3PAOT3L/IM8BHwTPG/8iv0I/X89CX0//Fx8Vjz1fhQAYMLaRWRHPMf3B8kHUQY0RBuCXMDyf8G/1UAsAJ+AiP/IfnK8qXsZui95mHobuzi8uT5nQHrByEKGwnlBCoBOv7L/Sf/vQBYAsUCKwJNAZL/9fti98zyovBA8P3xDfVt+BH7/fv++5T8qv31/UT+mv6OALMCtAUjCF8JqwiDBscEsANyArwAW/7u/LD8q/1hACsD8gMlA7oBbwCZ/+L+RP3Y/M/90/+sBJ0M2BunMDVEwE0LSAY79y78J94kVCB8GrgVLxPFEk4Rnwph/VDqxNTmwiS5/bh4vxDG6Muw0bPYUt+b41zlxuRo40zkL+sg+VAJlhZMHoIgvx9tHMUX2xLlCzQEtf3O+eD6Wfwj/LD4I/GH507eWNhx1lbYdNsf4Nfmx+5O9+r/fgYRChkLHgtgDewR6RfjHaoizCTbI1Qhhx2kGD4ShAqZA8n9Q/oo+T/5//ke+Wb3g/Vx9FT0RvUv9ij4ZfkQ/BUAjQQ2CQAJ+QXQAGL8SvoB+rr6Gfv7+sD6L/th/P38qvyC+1D6/Pm8+gb9hP8kAU0BjgCUAKIB5QLmAsMBjQBmAGsB9ALnAxIEMgNsAjMCPQKyAvcCnQNBBBYEigPeAtoCMQMmA3MCrwHQAWgCVAPyA6ADUQPDAjoCzQHBAP7/Qf/8/kD/af/z/44A6wBFAUUB1wB5AOX/jP+E/3//vv80ACMBWgLjA2MFqwbCByAIiwgYCc0Jfgr8CqALWgyADYwOYA/hD2YPTQ6fDIEKigh7BpAEjgJPACv+Ufzs+uP5ofjt9sr0YfIQ8BLuhuw86zrqY+nr6ATpl+m06o/rH+xl7Ljseu1+7pLvt/DW8QPzg/Rg9mL4+Pkk+7r7Evym/Hz9uf4OADYBagL6A8sF4QcZCkoMPQ7CDxgRYRKME08UnRSKFBsUdRNNEvEQGA/fDGQK7Qe9BdcDTALZAMb/Fv+y/lH+4P1w/QH9vfyQ/Hf8Nvzm+0D7i/qq+dr4KvhZ90D2//Tw82Hzg/MX9DP1TfaC9+v4hPpC/JL9Y/7X/oD/QgB+AfgCcwTjBboGHwdLBzQHygbaBXkEKQMWApwBgwHXAWoCvwJPA2QDcgN+A2MDOAM6A0YDtwNdBLsE8QQWBfoEgQT9A0EDiALAAfAAegBJAGUASQBBADEALwAZAKP/ef8s/xT/Kf+p/8oAMwKOA6kEsQWKBh8HTgcnB8sGXAa9BScFrQR7BHQE9gMtAxsCzgB5/8X99vuc+mL5ZPhp9132ifWt9NfztfKA8Ybw6+/l72fwjvEf89r0k/ZY+Ej6B/xL/R3+Y/6C/sb+CP9s/9X/IABkAKUA7gBNAasB3gHQAbsB0AFhAjwDYASZBaYGXAfFB/wHIgjOB+EGagW4A90BPADF/pv9lvyG+5D67fm3+c/59fkh+m768vqZ+2P8QP37/V3+af46/gT+8f2i/Uf9CP0Z/Xb9Fv6+/q7/wgDHAc4C2QPcBMgFjAY/B/QHrQhKCWMJLwnKCIUIPQjmB3AHpgajBcMECgRrA7UC4AEkAQ8AJv/P/pP+9f4B//7+b/72/W792/wd/Eb7O/qc+Wb5lvlS+jH7H/z1/L/9W/4r/7z/LgBiAFAAnAB1AVICOgMTBMcEHgVlBX0FPAX2BI8ENQTXA4MDVwNvA9gDLARWBCoEwgNzAwoDvQJPArYBIAF6AMb/dP8Z/+3+yf7//TH9NfyE+w77svoc+rH5hPlQ+X/54fl/+if7uPsb/Iv8AP14/Wv9/PxT/MD7avs4+1j7lvvZ+3f8Kv2Q/t3/WgGOAkAD0AMpBH4ErARZBOsDSAMBAzoDxAM9BFsE7QMqAzoCKgH2//D+If7I/dL9bP5J/zYAyACjAEAAiv/W/tz93fzX+/T6SPrv+dL5Avpi+nf6n/rV+jH7wfte/CX96f3I/pL/EABYAE8A9/9y/zv/+f8mAcwB3gE2ARkBawFBAi4DYwNvA+kDwAS8BSMGhAVdBF8DywK3Av4CdAPTA64DSgOJApMBkgBr/07+qP2m/ej9af7o/rr/HwFhAswCLALyAGP/Wv41/s/+nf9jAFABiAIIBP4EJwWdBIYDGgLDANT/rf9jAAQCDgTyBSEHxwfUByQHygUPBDICxQBCAOQAEAKzApsCsAEBAYEAgADK/9D9KPvF+DL4Nfm5+of78/rp+Wj58/mO+3P8rvsa+Ub28vSi9af3EfoV/A79K/2M/DX8Fvw3/Fb8yfxu/a/+8P/GAMMB4QE9AlwCgAJgA4oDQASnBEUErQMCBTwKQRAkEJoFlPja8Yr1Qv4JAzICxv1E+hX5Nfsf/Qb9r/qf+Ff5YvyQANUCbANjAQX+i/w0/Lf8g/w//G3+qgFBBG8D7QCY/6L/KQCN/v38SvyB/vQBCgT0BTMHJQZEA6j/kv6IAVUEqQVeAkv/7f1w/7oCyANeAlv//fzb/IX/vQFWAbP9A/kd+Cr6RP0Q/nf8U/sK/RMBnANNA+X/jP7i/9oC+gQCB4ELVRFIFpgXUxbtFB4UYRXwFkUY0Bc7FngWPRdVGK0VkRAoCpQDU/+Q+zX5ufbp8lLvJuzA6XznPuQc4T7eU9wy3AvdCd+94HzimOTr5ofpz+sY7ibxdPUE+l79Jv8+AecDDAdZCS8K2gk4CXUJuQrODAUOsA1pDIwKrwjOBqAEOwKz//r9Zv2z/TH+u/1D/YP83vsR+xr6X/qU+5D+fwH+Ax8FPAbTB6UJGAuNC1wLnwpICosKawt+DJQMKww2DBgO4RDeEKoMxwX0//P87Pzv/CH8o/l/91X3WvhR+GT0Mu/f6i7qGexJ7ibxm/Iw84j01Pau+YP6FvmA+PX60P3B/kf8dfu6/8AEFwcVA/H9t/yG/1YEZgZaBJsBLQCOA0cJHgwfC2MG0APXBEkHAwiXBcUCcwH1AW0CZQLpAVgCFgLtAY4BgQCWAOYAswDe/6v9svya/d/9Sf5M/j/9V/43ApAORSAcLCksZSNWHkwhbCZJJzsjLR0MGjkbqyGyJnQkkxnICl7+9vRm7T7np+FQ21bVqNJm1R3ZKNrb1cfOPcg9xZTIUM+U1U7Z59wO5LTus/lCAX0D5wHi/1UBKQdQDp8TPxXuFXAXlxreHFUbcxVJDKYDXv7X/Ez9ZPyg+R32IvSP9F71AvXN8fzsx+ie57XqKPAz9WP4rfpX/t0D5gkrDvEPug/sDssO0xBRFPQXHRlsGIQXrhcyGE0XXBTwDlUI1gLA/2/+9/uP90DzIfAa77Tv3O8W73/rzujn6YfumvNd9Rv21/fr+wkBlAVzCOsIYwhNCTEMtA7EDuoLFgkwByIGAAayBbkEzwE5/SX68Plo+zP7Dfjn9BT08/RE9nX20PYB96b2Lfct+QP8uf3p/ET8Av1N/7kBrQOoBVEHvQgGCmEL7Au5C+wJtwgDB/sE1APqAVMC8gEgAQoBwv9KAJr/cv4g/g/9u/xz/Lb9nwFDB5APPBuNJ7svpDFWMZkyBDPjLoMmxh5AGkYXkxWDFDoTXA7DBaL8DvWk7B/ictZ1zdvH6MQSxSfHe8oLzM/MkM4a0cjTH9U+1lDY+dtj4vvqQPXo/scGHw0sEpMWMBmUGaAXKBQ0EcMP1g9jEEUQIw99DYYLQgnHBbEAkvpv9ADwnO3p7JbtOO/U8S719Ph+/BD/MgBPAFUA1gB0AvsERgiwC0IP2xJcFtcYoBnlGLkW+xOXEDwNOwpYBwgF9AK/ASABNwDg/ob8v/l59t/yke8Y7cHrh+v463ft7+828+L24Pnk/O7//QNsCPUKZwucCsYK6gupDHkMcwxFDRQOzQ3jC98I5ASOAIT8S/mu9qr0zfK98SbxfPEI8qvyd/PM8zP0AvTe8+PzrvPH8230V/Zz+W/8ff8+AjwFnAenCDAJQQlzCQkJ6wjkCSYLZwyRDH8MLwy1C/YJdAf1A2IArv64/QT+2v11/f/9qf4lACMB5QBVAHP/r/8xACQCyAYuD6UZKSNlKjwvYDQpOP44UjQ4K+0ihhx1F2IRvAocBvYCrf9y+zf2ve/45tnc9NKIy2vFD8D0vAS8qL5Aw0XJKNAo1vHboeB55fLpW+2s8P3z/vgW/y0GyA1vFFIaoR5/IQAjCyLzHvYZWhT6DmIKlQZVA4YAef40/ZX8yfst+rT3rPSj8UDvfO1P7Ovrgezj7qzykfe2/HMBfQXACHYLhQ2FDpoO+Q2UDZQNGg77DqkPZxCvELwQDhB6Dh4M/giVBUACIv93/Ej6TPgU94H2jfY/98L3OviP+NT4Ovm9+dj6LPwC/ocAXwRFCeQN3xD4EWcSNhJ4ES0PYQsSB7YCW/8f/V37tfk5+FL3V/c+93v2ZPS58SnvFO2m63HqIup46rrrAO4Q8YL02PY6+ET5uvq2/NH9qv6e/zYBAQTFBq8JegxqDvwPUhBREL0PSQ5tDPoJowfJBVgEhAPHAtABAgE/AFQAZADgAIsBZAFoAUQBawFJAuoB9AALAN3+i/7W/PP7m/w4/9gE9AqGEQUXmhxkI4op4SsdK+QnoSZbJBMfeRmIE7UQUA4qCyII4QSDApP/6/rp9A/uoOd/4AHZJdLAzUnLhMn/yAXKuM1F0ufWLtvt3lXjDec7637uEvHQ8232n/o7/3sEuwlNDsMS4hbTGp4dfB5lHccaZReTE0EPbApRBcQAff2H+0z6UPmE+Cz4EPjg9/n2U/U28zPxu+/Z7qXuTu/28LbzYfcN/PIAagU+CWgMEQ/YEH4R/xDTD0oOwQxVCzQKLAl1CA0I/wcpCCAI1QeeBtQEdQLf/0L9g/qu92f1//Oy8370y/XX9476ff2HABUD/gQ7BrYGSwZUBWoE+gMOBGgE6QTvBacHtQlDCy8MBgwdC9QJ1QeSBWkCe//4/Bz7APoK+Yz4Wfjz9433Gve99jD2JPUN9CvzHPNF89Hz2PQH9vP32Pnu+8T95P4AACEAjABsALr/Nf9K/rr9ev1p/fT9xf5Q/1YAgAGeAqoDMAS2BGQFtQV2BigHAQgTCSgKkguqDDoNZg0fDVoMegu0CYYIXgdABv4FhAVCBRwFFgQiA4MBW//6/OH5KPdh9KTyvPEn84j3n/15A+kHAA1rEwMZ5RpuGToXRBUaEpgNCAn+BPwB5P6B/Yf9Hv4n//L+Uv6q/Bb6lfes8yLu3udP4lbe0tvH2TvZG9rJ3CvhJuad62/wt/QT+NH6Svz5/JH8afsw+kn5Tvlj+gr8fP5pARkFVAl0DZUQbhJEE0wTZhJeEJwNsgr8B6gFBwRwA+sD8gRlBhoICQrLC7QMowyUC8gJgAesBLQBzv6q/A77RPrp+YL6tftW/d7+QgBWAeIBkQGRAD3/vv0Z/Cf6hfh79zb3lfeQ+N75yPu7/af/kAHyAs4DEwTAAz0D0wKQAhQCcQExAZYBjgJiAwcEnQQRBRIFwgQbBHIDeQJVATsAjf8P/+7+1/76/l//l//5/5n/8v7c/cX8fvvf+WP4+PZF9kf2ovbw98b50fvR/YX/+QCYAa0BIwFJAMD/J/8P/5b/MgAYAbEBXgINA28D0AN6AyUD0QKGAtECaAKJAvUCnAP8BIMFVgZLB04IRQjVB4IH3wZ9BiAFNgPQAiQCOQGDAHD/sQC3AZsCFgOrAiQDogJ7AiQBmf5G/Hv52veo9Sv0kfQi97j7GAGBBdwKARD6FI8YexlYGLwXWRVKEmsOKwq5BykF/gIqAlkA6/5U/nz9/f36+f306PHB7pTrUeVX3xrcrdog2RnY5Njx2sXdsuBm5J3ovezF74jySfTR9Yr3Nfl1+vv69Psv/ocBNwV3CKQLUw+/ErIV0xfXGAUZGxhyFn0UbBKPEKIOHA20CxMLDguDC7YLRwt9CooJzQhSB+gE8gES/8P8Xfoz+H/2svVp9bj1O/ac91X5hfpI+xv7DPs3+3f7BfsD+pX5B/rD+gL7S/t9/Fr+NwDeAb4DHwbxB1AJxQkCCksKKgqZCQkIdwafBWwFYQWkBHAErQTABf8FTwUBBL4CXgG8/rz7+fip9iH1s/O/8lTzG/Q69az2QPhS+lb8qf33/ez9h/2N/Qj+hv0j/e78cf1S/kf/ZADSAHQB0wH2AaUCcgJJAsQC/gLEAisCHwIrAwsE8AP9AucC8wOfBHIEtwMzA8YDywOwAzQD9AIzA7UCkgIyAjQCbQPEA3ED+ALIAkkDMwNcAmQAZv+s/tb9mf3P/Rn/PwENBAkI9AveDxgTDxaoGA4afxl8GCMWwBMMEegNQwuKCMEGogVeBKkCKgB1/Uz7Efgc9Ibugek25XDhet072UPXx9a41xzZzNp73SvggOKu5Ozm+ejH6vfrMe2V7njwLPNi9s/5Pv0EASYFZgkdDSEQWhJ6E/oT2BOEE7cSxBHfEEcQPRDvELQRKRJyEq4SiBKfEWUQ4w74DFcKZQeFBEQCogBX/23+uf1D/QL95fym/Cn8Xfue+sj54PgT+K/3yff391P4JPlo+pr7/Pw//mD/PgDZABEB3QC5AGwAJAAFACwAqwClAdsCNQSUBYIG/wYNB30GiwVpBPQCNwGy/6b+If7k/eP9Bf4b/jP+Kf4S/gz+hv3N/Aj8Tfvk+pj69voA+5H7+fuC/AT9gP3H/Yr9+P3f/Z/90Pu1+X36Bv90BJwFLAKx/ysA7gHz/6H9a/1K/50BmAEtAET/wv6R/10BtQAPAMwAXgLxArEBzv8E/3IAOgK/AiQDsQIzA0gEvQOuArwARgD+/4j/8v8yAREFognmENMXHR7aIuUlnii6KMYmyiMWIKMdrxlbF8kV0xXZFk8UzA/PCWoDJvv78AfnXd591yPSps43ztfOnM/nz4TPR8/lzkTO/c3NzuHQ8NQi2zrjjOwR9bv8IwPYBz4LIQ1/DmgPExChEQwUOhcJGlsc8B0OHjkcjhiME+sNEginAmD+Zvsb+sT5LPpV+jT6gvkD+Ff2ePRC8xDzRPQc9xz7mP8tBCYIHgt/DE8Nvg0ZDScMiAtODDANSQ5ZD2cQAhElDxsMDAm7BZwBJf1O+Rb3Jfdf9z74/vjy+Ab4BPfG9vL2V/dw9/D3/vlf/NP+0gDiAm8EvQRABPoCHAKlARMBvACTAOoA7wB3AJD/0f5r/af7Z/qh+eT59/nu+Y/5D/m3+PD3YfeH9wr42/j++eL6F/vp+gT7iPsY/OP8v/3J/18B3QGTAkoCTwGDANj+e/74/mIA5wKwBFwGaQbzBsoG+wO/AjYBkv/YAZgDlAe9DcMVlyKIMsFBSUlzR2RBYzvJNyIznS+4LmMvOC7iJwAi8Ry5EBL9OOc217jNVscoxGXEFcXJwt+9iLrpueO3qrWstmC8HcYZ0ifg5O1Y9y38QP4TAYAEKQgwDCARoBbkGjceCyCYHvkYahCGBzEAL/vD+Mv31faO9a3yru8x7ILoZeX14ubiruX768jzd/pMAMUDzwUSBykJOA3BEUgWvRrbH8AjaiXiJdYjeR98GvgVOBMSEqQQvA4sCz8Fa/359ervtOkR5R/iBeJ65dfoUuzY73zxJvGP8XzzvPZn+97/nQS8CRoOlxBhEWERjA9HDVQM1Qz3De4NGwzRCIcF+gEt/tT6e/j19kP2YfbN9nv20vRG8mTwie+b79rwgPPw9rb5r/uO/OH8L/wV+5v6PftI/ZoA9gOBBtYGewUiA9gAAv88/Rv8efyi/JP9WP8lAKb/sf/a/5r/3gERAiICNQPoAV8CKwRZBSsJmhGnI3s51kjXT8pO6kmBQ2g6fDY+OZ08hDzLOR43IDHIIn0NfPZE48rUrsuEypvNmczNxgC+v7Urrvmm86SdqSaz1r5qy83alOen7A/v0O+d82b6FQOVELYdVyaJKZIniyMRHPESZwztCDYIKgjbB5kGtwCl9lfrSuEA2jLWgdYg23Hh/+Zo63btbO1t7KjrhO5z9dv/7gtTF74fmCP+I7MhuB6eHfsdHSC4Ig0lXyZoJGIeKRW6CpQArPit9SH13fWQ9fXx4+216ZTlJuP04kflyOix7ffyUvcz+lX68Pmm+wH+HALeB5QMDRG1ExATyRGIEMAO9QwrDAcMzwsLC+gI2QW+Af386vgX9nH0YfOY8gPyafGG8KHvpO+J8PTxdfQA91b5fvvo/Hv94P0i/tn+SAArAikD4QMSBKACvgAf/8j9jf1g/RT9V/0T/Yn8APvo+cD5J/iV9z33Sfj4/HkGoxkzL4k+GUMkPuY4ajUaNFY4b0ErSlhM/0kiRXM8CC4QGl8HxfoJ9EPxPe+h67/h+tDWvjmv/aYZpJCmK65Ot4y/+cR5yHjKqcspzzLWWOMW83cCkxAcGf4aQxn4FXUUTBbRGW4eIiNnJGAh/hnmD2wEVvps87jvVu/+7+nutuzG6KrjI98/3BTc/t/Z5cvtIvbW/NgBvwPbBKoGqgliD6YWUB6QIzEm0Cb6IxkgghwhGQQXeRWHFEkUzhGCCksBnviI8NnqhuiT6Djq2utv7O/rJ+vH6Ynonek57XDyzvj6/gQERwflCMwIuwjGCTgMGQ97EbASwBGaD8sLjgfLBNQC4wFlAc4AKv9t/MX4LvU+89zyO/O79DD27/at95D4avko+qH6kft3/W4ArgLwA4cEFgSvAgwBeP8B/7H/zwBMAl4DWQOiAdf+fvyA+/r7Lvyr/s8AlgAhAegBNgMfAu0DIRDbJPY45UHgQSw/HTmiMWsv/TNdO/I9BDuBN0AxtyXOEnwADPMB5y7gMN6F3rXcy9J3xZK5RrF8rHOrkrI7vkjGbczj0RfXgdv83C3heepI9lICRg0AGAMfQR7EGS4WQxZqFxQYuxlPG4MZ4hIvCgICDvpm8vXs+esm7XDt++uM6bDmSePO4DfiSefA7SD0n/ocAfYFIAhzCasL/A1fEEEUkRqsIIYjuSQ8JI8g1BrkFSsVQBZDFF0Q9gutB2ABLPlc8jDs5OcR5hTmTOgl6STo7+Xq473j3uQ76LTtjPN5+a/9zgBCA/EEqQX4BfcHnAqsDOAOghAzEJYN3wlIB6AFlgQdBPADEQQhAkP/Bv1++2P6Xvnp+IL5Q/rG+5X9eP5A/mL9kf1V/x8BTgITAw4FSgXnAzsDtgLJAuAC5gPbBZMHhwcrBYUEUgT7AjYCwwIdBZMGlgcXCagKJQxuDlwV/CEzLTQyIjGnLbQq9ycGJuglxifxJ6gk9R84GhATlAdP+lvuBeZl4rTfDN5O3BbXEtALyNDC9MCGwb3EO8m/z6XWLtzP4ETkP+cP6jDtdvMj/CUGPQ2LEA0SUhHdD+YNHA2oDfANHA64DaUMmwmjBHT/uPoe91b1+vTM9Tv2CPY/9dbzlfLR8WTyJvTG9k76Dv7oAR0FNwdcCLMIRQmcCvgMIhB1FCMYcBrbGkQZYBVREHILcwcpBUYDggFE/178qPhp9MPwsO1j7GDsa+1/75vxUfPi8//z/fMY9Hb1Pvd0+Rn8wf39/lz/L/8R/3n+5/4fAPABbgSjBbIGwQbyBRgF+QMIBIcEIAU7Bp0GdwcRBv8EggXnBQwFJQMmA+AEsgVMBd0F+wfbB8sCUv71/t4DvwZUBVECU/+x/z8BpgHqAVMBCQLfAqwB+wCeAC0CsQOIAvr/FP4eAA8CpwRwBwIL0A5ME0wZ2x3BHigbkxcLF7YX1RlWHJ0dWR57HJEX4xGiDMUHqgGT/C/5Tfcq9hT0TfBU6/fkpt2Z2KHWs9aD1wnY59m327XcWd0a3vneOuBB4iXl2unT74H11/gd+rH6j/uF/V//ZAETBI8G6ghwCjkLswpRCdAHaQbLBeQFmgaKB/EHeQfLBZEDxAFVAS4CnwPPBHoFHgbkBs4HggfUBr4F5AS3BAAFewVRBY8EuwMnAxYCRQCL/pb9SP0c/S/9yv3X/30BagIqArcBpAHsAJMAsP8p/5z+Uf7y/ST9vvyx+wv7Mvpo+df4qPiv+PT3xvfd96X4pfkf+2X8JP1K/dr9cAB5AsECoAK1ArYDFQSfBBcHAAt2DC8LfgnyCDQKjAsoDLUIGgQ9A4AEKAZcBpkI9QgABPD/k/7HAMkDXgKd/6f/dwGHBAgEXACw/8EAQwHWAD4A0f+o/xMANv/a/0L/Zv/r/tL9Ov3a/Af8Dfwf/WL9zPz7++f7Z/2K/78BrwMuBdYFEQYPB2MHywbcBrcH9Ag/Cu8KcAtHC2oKPgmNB1IGYAVaBCEDfgE0AHD/1f7E/eb7dflG9231D/Qu86fyLfLD8Ujxw/Ci8JzwdfAV8GzvQ++873DwTvEx8gnz5fPw9Pz1V/cO+e76kfzx/Rv/OgBhAVsCegMoBJoE8ARUBd8FdwaJBnwGAQZ0BfgEkAR3BEEESQQyBBAEvQOZA8UDAARjBN4EMQWRBY4FFwYoBmkGrga/BtAGegahBj8G9gQIBP8DtAWtBhwG0wI8/cz5tvgC+//7s/1gAIX/M/z3+Fz3WPef95H3Dfnw+//+QQAv/1H8G/oI+ZX4g/ou/ar/7QIOAz0Av/3X/Kz8c/xs+7P78P7XASUDWgLl/w79dPs3/Ob+cQH8AwoGPQaKBaIEbAYQCKUHZgSPAS4CKQTIB1QL7wyQClwDf/uE+Ur7g/01AN4FTQgaB04Dxv2M+Xf3vvYL99P5rP6BAY8BLwBz/e37Xfs4+oz6K/1LAa0GFAppC8ALdQvCCWoHWASmBFoGWgk0DU4QsBCMDkAL3QUgAVX9/fy3/ab/KgFdAWoB7v6//GL5C/ad86/xnvGF8SXzt/U49rz1efTd8uTwDPB08ADxnfOA9uj4cPqr+3X95P5e/2P+HP2Z/I39Bf/6AP0BxAKAAg0CKwIcAQEAbf/Z/iT+If7D/8gB5gLrAq8C/wJvAtcBJQGVAX4DLAV8Bn8HDAgtCWIJbwemBM4CHQNlBJUF7AX0BZ0FHgTPAVH/Gf7r/Zn9Uv2G/er+UP8U/7z97vrT+F34EfjO9+j4BvoK+zP8Av2l/nkCHgb1BBn+ifQ/8p70Wfde/GwCvgbWBmoDb/68+SH4PfhU+3IBlQagCdwJGgkGBwYFDwMsANL/9QGnBWIH2gg/CdMICwgTBfoA7/6LAGECFANgA1gE5ATTA6YCBgHIADwAb/9t/p/9v/6PAH4BigG3AYYCJQHZ/0f/7f4SAGYBQQSQBwALNQ0RDoENGgw0CpIIHwgvCfIKTwxJDdUMlgvvCasHRQTAAEL93fkb+JD3ffeo9+D2ffUU8/jvLOxu6bDo8elY69PsB+4h78Dvl+9F77Xu9e6K8GfzkvYM+dL6D/wz/e79q/2S/dD9Zf4t/4QAUgLtA2oFAAYNBmgFkQSiAyUDsAIuAtUBygFjAmoCWwIhAowCggOoBMAFZQU1BCkDNgMhA/gCfwPXBDAGhwY+BisF2ANxAkQBggDX/8D/ev/1/tj+Av9A/x//K/5z/Zz89/vt+3H8a/2p/iH/N/+R/o392fxs/G78ef10/wUBMQFAAXYBOQGXAacDZAUPBkcFzwKYAAYA/AADA8YEegZgB4sG8wTFAv3/Bf5u/lIAWQOjBLEEGQTfA8sDxgJwAbQAggDTAFsBLQKbAi4D2wJUAZIAQABU/wD/9v4c//z+ov6G/mT+hv7S/vj/7gDjAsQFiAklDFUNxQ14DTYNhA0JDp4OPg8sEOsQKxGbENYP2Q5+DS0LGAjjBKoBF//R/Lr62vhB96712/Oy8c/vie3p6qnohedv59nnOegN6QzqTeso7Pzs0u3S7vLvLPHw8ln0jPVL9oT3WfkK+1T8mf3S/hkA8QAtATMB1gE6AmYCoALYAgsD9AKnAtcCQAPlA3oEDAV0BS4FvgQ7BE4EyASHBXkGVAe9B6wHTwf5BrwGWwbyBYEF+ARiBHgDgAJvAZwAJwCv/4P/Gv+X/iv+Lf38+9D6Kvof+mf6vfqb+tr6ovod+6H7Afzl/PX8of3m/fv9Gv6i/lT///8nAdAB2AGCASgBOQGXAXcClQPDAyUEiwTwBFQF0wT5AzoD4gL8ArgDZAQFBScFrwSWA5QCNwL7AcQBXAF6AeUBcwKzAlUC5wFtAfgAsQAZAHX/5/60/mn+xP0R/aT8wPzP/R3/vAC5AkAF6QckCvoLTQ0kDmwOlA7DDuYOHQ8iDxgPKA+KD9kPQw8rDrwM5wrWCG8G8wP1AMP9y/r99zP1u/Jq8IjuNO0K7InrXOvC6+7r8euM6/vqiepT6rnqzeto7VXvNfEz8zX12/Zl+KH5iPoz+6T7gPyJ/bL+FABTAVwC8gIjAw0DzAKaAgcDDgTCBPEEHwUoBT0FVwWRBckFKAa+Bm0HXQguCasJxAmTCVwJ4AgWCBQHLwY7BRwEJgNzAu0BcgEjAdwAfgD9/17/p/7B/d38HvyF++j6bPoL+u75BPrr+ez50Pnq+dv5xfn0+Sb6g/rx+l77FPzJ/Cr9bP3K/XX+K//J/zQArQBIAfEBvwKMAxYEwQQZBf8EvwSEBHUEVgRjBJcE5AQ/BVoFPQXyBIEEGASMA9EC6QETAZAAYABUADIA9//E/5n/Xf/l/jD+c/3A/BX8sPvW+7n8Y/6ZAGoDjwbyCT0NExBvEjUUPRWKFUgVixRWE8wRGRA9Dl4M2Aq1CesIOwiHB6IGBwW4AoH/ivsH90PyzO0a6ovnNeYX5r7m2uf66A7q5+pa67jrEOyp7GjtWe6F79jwK/KQ89f0FPZ/9yL5C/sg/UT/QwH1Ai4E4QQTBQEF2ASoBH0EjwTeBHUFGQb7BqgHPgidCIQIIgiXB98GMgasBVsF7gSiBIoEsgTxBAUFCAXbBKYEWAQQBMoDUAOdAskBHAFuAM3/Of/E/nL+OP7r/XT94vxw/C38y/sr+376BPrW+fL5HvpO+n/6pPqj+qL6svrT+ij7hvv++3b8Av2o/UT+nP7f/iv/j/8HAHcAHwHlAYgC4gIEAwsDIANCA34D6AMsBFQEXgSABLME0QS9BFYE0ANGA30CrwHfAEkA5f+k/6L/iP9o/yT/oP4J/kD9cfyj++H6evqM+mv7S/1bAMMEAQqYD74U+BgkHAUeXR5DHQUbKRgqFXASRBDjDi0O4A2rDUINaAzrCqAIfAWyAVr9ofjF8+fuL+oD5rbiSeDi3pDeV9/g4PLicOUZ6JPqfuzV7Yruze7F7qXuo+4S7zDwHfLU9Cz45Puc/zgDMwZUCHoJvgl6CbQIogeVBuEFlwWGBZYFrAXrBTMGlQYLB38H2QcECOgHewemBpgFegRsA2cCwwG4AWcChwPSBDQGpQfgCKoJ0QkbCYMHLwVtAsv/lP3q+wX79Pp/+1v8Kf28/QH+x/3k/IH7yfkl+O72K/bR9Rn22PYe+Kf5Cfv7+4P8zfwb/V79Vv34/Hz8NvxO/ML8Zf02/mT/qgDMAZ8CMgOsAwcEAwSqA+sCAQIFASAAcP8h/0n/zP9hANMADgFMAWwBPwGlAJT/Sf60/PX6SPnR9+X26PZW+Hj7lQCQBxoQqRlFI+Ur0jIxN8Q4eDe4MzsuzSdYIbkbVxdoFGQSuBDVDiUMfwjMAy3+4vdQ8anqD+R73QHX9dCZy0/HhsTEw1fFMckVzzzW5N055XzrEfC+8uDz/vME9If0LvZM+df9aQNMCegOlhPkFqQYuxhhF/MUxBFtDjELLAhkBcYCbABE/mL8+vos+hb6vfoB/JD9CP8LAGIAKwB8/6D+z/1U/V79Bv5v/3YB1QNjBggJwQtzDtoQwBLTE9ATehLXDykMvQf5AlT+S/oo9yP1GvTU8+rzJPRD9Dz01PMb81jy9/Es8gXzN/SK9cj24/fx+An6OfuP/Ar+h//VALsBCwLVASUBAgCp/lr9Lvx/+1n7vPt7/IL9c/4h/zf/rf65/Xb8Pfs7+pf5Yvlt+aT58/k4+kT6IfoH+nH6xfvB/g4EGwwZF14k4jItQYVN11bkWztcuVeTTvpBmTMWJYkYFQ8sCUMG6ATYA54BXP1M9mrsyOBc1D/Iwr3Ctd2wAa8IsIKzE7lHwJrIidG92uDjuezZ9MT7HgHfBC0HaAgMCcsJKAtwDYsQZRRYGNAb9B0NHqkbwxbFD2QHeP7s9Xnu3uin5djkS+ZR6VDtk/GU9eb4YPv5/OH9cf4x/5kA5AJHBp4Kfg9hFMQYCxzrHWQevx2THEAb5xmXGPIWiBQBERMMvQVb/of2FO8A6bTkTeKt4XfiIuQz5hrowuk465LsPO568HTzC/fu+sr+HQJ7BPQFlAbRBhQHbAfrBy0I4QfhBvcEIwKS/nj6WfbU8l7wLO807yPwofE+84X08vSz9Cv0mPOJ8w/0IfXO9rX4r/pr/Nn94/5iALsDKwqrFHQj0TQQR9NXvWSmbJhuEWq3X1BQ6T3KKnkZEwzSAgX9K/lI9Xbw3unB4ejYOtCjyLHCab7Gu4O6pLpOvMy/78X3zg7bb+nS+HsH0xMbHMEfmx6XGVwSwApmBCsA+/00/SX9zvyN++f4vfS874Tq7eVr4iXgCd/k3nXfu+Df4j/mXuuX8tv7KwZ1EHoZbCCQJDEmYiVPI+8gFh+CHuIeESCnIBUgtR1eGdATXw24Bk8ASvph9Zfxyu6h7PTq+ulL6Vrp4+kC66Dsfe6Y8L3yIvV59575gPsy/ar+EgB5AakChQO7AyQD8QE6AE7+Sfx6+tb4s/f09n/2Z/aE9g/35vft+P753vpZ+4H7MvvC+hr6ifli+b758/rV/Eb/LgKKBEYGjAYuBeMCUP+v+2b4r/UH9ev3IACPDmIi1Ti2Tvlg9Wwtcidw7mbfV9dDzi1zGFIFTPVi6H7eu9eB1CnUt9XP2Fbbjtzs2h/Whs9yyRDGR8cazoPa0eol/TAPrx5fKigxLTONML0poR5mEKX/W+7o3RXQnsb5wTzCeMbizNfTytkA3rXg3uI25UjomOyt8dD3HP9PB54QfBoMJaMvkTj0PrRA4T13NpArfR7PEEIDl/fd7iXpwuYM5jrnd+ro7gb03viE/ZoBygR7B8UINAkoCRUJnQlICtoK1gqgCkIJ8gbIAnr9ePfp8eXsCOkj5pLkXOSv5Tro0us+8LH0L/l4/Kz+m/+v/xf/Ef7D/Gn78fpX+xj9ZP9FAuAEwQadB+kGRQXOAiwASf19+vj3b/bv9dr2a/gj+jj7oPv0+kX6Cvlu96z2j/fO/WYLciC2OAZPn1+/avtulG1pZkxZmkjqMn0azAAg6CDUWcerwqzDQ8jIzOrRetbF2s3etuHK5F/noupM7uXyZ/n9Al8P1xyFKPYvujH7LYUkrBbyBITxHd4nzNW8U7G7qiGqk6+PuinJW9gC5wT0N/99COQOfxIsFEUUrxQ9Fn0ZER5dI/Qopi2LMFMvkSkZIHUTcgUI9q7nZdt309jQk9PR2rHlqvFm/uEKZRUfHuYicSSSI+0fKRteFVYPPQoABq8Cs/8U/Xr5uvXi8RfuP+pp5vbinuCk4HniRuY17Hjz7/rJAesGHApDCyAKfgf2A/X/C/yw+AX3sfZb+LX6/P3vAI8DkQXbBQwFtgHt/R35JvVQ8gzxkfF38wn3qPq9/qIBrgP5BI8EewOYADn+PvsP+nj6E/7hCDgZzC5UQ7JSUVvbXS9czVZhS1c51SA4BpDtz9lkzK7FOMa+yubQ/9dT31nn6e8A9gz62/oe+pL6W/18A90KOROJGvEfEyJLIF4aPRFhBD30GeLyz7PAfbYlssyziLqexVfTa+I28Vj+NwnqECUVuhWMEzEQ3w2MDeMOzRGaFKgXpxmKGj8ZthTODMoBNfUs6Q7f49gt1yDa6+Da6yf58AdXFngi5iq+LWwsKyZNHYkT7woIBJ//bfxI+jX6w/oL/Mr7R/ry9ivyBu2t6L7lN+W15oXqgu8q9gH90QNeCU0NTw6TDGMI+gJC/Wv43vTq8rnyxPP49eP4PPwR/xUBLgEzAGv+cvxY+ZH2OfM08U/wB/Et89H1hvnE/XgCFgdnCpMLGAucCFIE0P+O+3P4z/cn+h8C3xGFKBtBUFTzXmthTF4oVrJH1jJiGOX8MOTb0B7FesNTyO/S1ty25czt0vNS+UT7w/o5+GL2WffH+80D3g0LGUgi6CeMJz4h+RX7BVzzqt4ey0K60q9frCCwHbpdyGnZWOuF+loHOxDkFAQWBhMbDqAJbQegCLUMRRIRGLgc5R4GHr0ZnhGYBtf4/ert3SvVL9F505nbIehz908ICBghJTMuQDJgMV8sHiThGSsQ0QdiAXr9uPsq+6z6DfpF+I71KPH/68jmhOPM4sDkR+nA7zz4KQFKCYoPWhO0E5cRkwyRBc/9P/Yl8PTrl+pX64vuM/Nd+KD8CAD/ATgCwwGJ/5v9hvum+pn6tfpa+1H7+fvF+4X8ffxv/AT9mf04AOEBcATpBAQELAF7/UT5HPbx9NX0rfouBXEY3C8NR/tXpGHkZA5hilZnREksRhFK9rLejc21xEbFHssf00DcROQH7FnwGfJY8bvwM/HK8wj6CgOgDzUcTShFL8QwqiorHoYMoPYI4N7Kabrsrz6snq+YubjID9oS6rT37AG3COgL3wu4CWcHgwY+CPwM5xNMG5khOyUrJfMgsxjWDMD+ZvDB48za79YK2A/fFupc+KgHSRXwH+IlDyhDJmIhlhqeEt4LNQZnA6YCqAPtBNcEGAOs/iL5DfI36wLlFeGB4Evj3+mJ8o782gUqDVERwRFvDkgIjQBP+Frx/OtH6fjobOsP8Mv1vftPAHYDIQQ7A8EAMf61+4/6P/qn+w3++QCeA1EEeQPDAFX9+vkX98f0qvOD8xD2wfjp/dsB4gVgB4EGqgSbAN39HPvk+k8ASg0kIPo1y0hJVnVelF/dWONKkTZCH6AFnu6+2+7QKs4X0V3XXt7+5Q/rG+7q7XXsHOu96jPtW/LT+4IIHBbZIqkroS9vLHciAhKe/S3oXNQJxbe6hrZMuF2/NMpY1tDhHuug8fz0L/Zt9hj34Pny/hQHJBG6G8slUixDLyYtcCZCHPkO2wCN8xnpGeO/4bDkKOtu84P8yQSbC+MP8xFTEZYPgw2EDEYNkQ+3ExYY2htsHbUczRgSErQIgf0o8nXnst/u2oLa3t1H5N7r4fN++rH/+QJmBDsE1ALsAMD+av20/ND8Cf1G/ev8xfvp+dD3lPVI9EfzyfMz9SP4+/stAFcEQQdFCUIJFQgkBXsBev3/+an3SPb09rL3YPqd/AD/jQGhAiMDKALX/7H8dvlR9v307PRt+RUCDhH0IuY0JEMvTFBRRlCBSQo+ri0UHJwKXftS8Jjpf+eR5wHoqOc/5bDiud9O3QHded655MTtgvmXBiET2B2DJK0lkyEVGB0Lmvy27g3jwNqF1ebTlNTX1jPZctve3FXdUt1g3QDfuOJ06Vfyjv2aCagVox+8JtopvyjqI58cShR3DL0FuQBx/eb71fvT/D3+I//p/kv9LftM+Vv5pPtsABAHBA77FOcZaB18Hv8cJxn8Eg8MDAVm/8L6t/f+9QT1GvRj8jjwWO2l6kHox+bW5mPodevF79/0ZPpl/2kDpQU8BlgFvQP9AZgAfP/Z/p7+4/6c/1MAkgCb/wr+tvsH+tb44PjY+c/7Sf6jAMwCqwP0AyMDTwJ+AdwAWADu/+D/igBQAXcCyALlAbT/KPw6+dn10PTo9KP3mf7UCr4cry5lPfxEaUYzQ088DjJAJSoYXgy6AuX7tvcb9jr0j/Ge63vkb90K2IHVrNY/3ELlyfGA/scKVBQoGtEbsxgYEu4Iov4Q9VPt+Ogu593mAOde5sDkCOJL3sfa59dd1nPXX9sH40LtFvnCBP8OfBb4GrEcyRtFGZYVOhLpD8UOiw5WDmcNgAuyBxsDrv1K+D/zSu+A7cLuMPP4+ZUCrwpnEYEV7BaIFtUUBxIlDzwM2wm3CE0IFgl8CXEIvQSn/in3f+8X6YvkcuJ64qTk9ueR7F7x3/Wf+UP8g/0O/jb+Xv/sAXEFign3DEUPbQ/EDTMK1gUPAXL8ePis9VP0c/Ta9bP3cfnS+kT7ePtC+xr7zfvi/Ln+8wAyA5YFVQf5B44H0gUWAx0AoP1b+yf6vfjl9/r30/dO+Rb9ZQQvD9kZCCImJ0EpzCrVK84r0ypQJ2Ei+Bx7GB0V3RF7DY8H9gDi+sr1r/HR7qrspevh6zLtCO/K8LTx8vGT8b/wg+/67XvsNOvo6ujrku3n77zx9/JH9Dr1NvbD9kr2JPWV8xHynvEH8uryjPMl9Or0KPY++HP6yvz9/ocA8QGVA08FBQdaCJYJ0QpDDAMNcw10DZgNFQ53Dr4OPQ7YDGQL0go+C08MyAwIDJkKBwm8B30G1QT4AS7+f/r+91337/eF+KX4efjJ+GX58PkY+mX5G/jT9hD2P/Ym9+/3gfgw+RT6z/rr+uT6Kvvd+4P8AP1Z/Zj91v0s/r3+//6l/qD9wfx4/KL8vPy3/Mr8Tv12/kcA6AGuAqgC3gFZAXoB4wGIAvoCYAPdA3QEPAVEBccEqwO1AdP/qP0P/GP73ftA/gcC8wVwCWsMyA+cFDcZuxykHgIfKB9WIHoifCSBJM4h9B3fGvYYiBc4FUYRPwxhByMExgI0AaH9Hvjo8aPsqejd5Wbjn+Cu3Xfbedth3bTfQOFZ4l/jd+SM5QTngOjC6YfqTOvk7Kvuy+9p8DPxYPKM86D0zfVc94b52ft8/mcBogPxBPwFRwe0CLUJsAlqCb4J2QqKDL4OzhDzESESHBKXEpUTCBQ4E7IRQhAbDy4Oaw1SDIQKBQh1BZoDyAJfAr0B6gAFAGP/wf4G/iH9nfto+bT2/fPz8Y3wXe9Q7o/tXu3d7bjuIvAT8gP0rPUG91P4tvkv+zP8Df2P/X/9N/0f/Wj9Af5c/kT+Wf6o/mL/kgDZAeQCnwMKBIUEIgW2Bf4F7AWSBRYF9AQUBTMFewWQBYwFGwZOBmsGuwYgBh0FAgS6AokBogDlAMcCtAWPCBAKXAwJEMsTgxcdGvsbOB0AHc4cyRzQHOQb5RgpFuUT2xE1EG4NSArTBrcCEv/x+4H5tvZt85rwoO0j6/roc+Yr5AXiAuDg3mjest5n33jgueGt4s/jveSd5QHnROjC6X/r4ezk7nHxHfS49qT4QPrm+4X9X/9MARUDsATWBSIHpgjYCWkKfgqtChsLpQtTDPYMrA1DDp8Obg9YEL0QghDNDwEPXw6xDQENiAw6DNsLSwvBChUKDQmJB6kFtgO+Acz/1P0P/IP67/gj9x/1BvMi8dTvIO8I71zv9O/I8NzxJfOE9Mr1qfYq96H3Ofge+S36DPuc+/37YvzX/Hz9fP5+/0UAzQAQAZsBeQIrA8cDKwRbBIIEdQSRBPoEWwW8Bf4FSwbNBjAHrQfpB+sH0gfbBmQG7wW+BNMDFgLAALr/9f2y/cv/QgToCUINrA+HERIT8hUwGMAasRyNG0saEhoCGz4c8hqyF3ITOA8yDCMKxQn5CFoGtgNMAcv/If63+i327fDy68znv+R84zzituCM38reEt9e3+bept7e3oPfpeD54cHj0eUZ6HHqc+zy7Yvu2e4Y8IvyqPUe+R/8sv4qAXwDyQXbBxwJTgngCJEI7wgKCqQLFg1cDhwPHg/pDuYOJA+eDyQQnhAuEcQRPBJzEmwShBGYDzEN2QoPCdoH2wbEBTcESQJvAO7+nf3n+4T5yvaO9G/zXvPc8yn0y/Pa8vHxePGO8QTyl/Iy89rzqPTU9S73VfjK+LD4zPh1+bD6Kfyc/fP+2f8fADgAuACnAZ4CTQOrAwIEQQR2BAgF6QXeBnYHcgdwB7IH4wcNCOsHYQd4BnwF1gRSBQsGDga9Be0EvgQkBRYFFgVjBIUC+f85/dn7aPxM/2sF1Qz5EW4SoxB+EUUVmxibGZYZtBu9HzUjxyXiJRghKhfkC0gGmgcKCpkJEAb0Ad/+i/vL+JD1Re8J5mndvdqm3eHgqOAF3TvYwtMs0TLS6tUe2bLa3Nxz4mrqxfBi85bypPCB7ynxK/ZJ/JgA7wHYAeQBJgLNAQUBggC2ADgCiAUzChYOSg/HDe0KfQhoB2sIeAtfDzASShMuE+ESNBJnEb0QlRAoEfARPRMuFJ0TsRBjC5oF1AAc/q792f0l/X/69fbo8+nxwfCG79ruqe407+DwqfKz8/ny6/B070/v5vC184/2EPlP+sj6H/tQ+8z7kfxF/s8A4QJnBNwEmASoA/8B8wC6AN0B/QLpA5wEMQUzBX8EPAM4Aj4CpgN0BYcHgQj6ByAGIAO5AZgCFAWFB5AHvAa8BXkEzAWeBfoF2QbVBTkHWQbIBAMD+wAvAfUG3xVwK4Y61zeGJnAYDRo8JqQuWS3+KDok5B+FGUEQfgIF7y7c69RL2qzkDeft4CfXUM19yMnKfNOO3PHffuAN5Djr2fBE8MXsj+pM623xkvvVBVcJhgOC+qr0Z/Oi9PH2PPmB+sD5RfcI9fzwy+uN6DfqwPFu+ucBjwb9B2cHzwYkCT8OzBP1GLgdLyIhIzcfMhnqEw4SDhLuEqYTShLQDqoJuQPA/cr3JvRX9E33X/qK+nX3xvLm7jTuA/FJ9kj77f7BAMcAVf8W/SL7EvsY/Mz9Hf/v/uP8Qvnd9XD0+fST9ov4BPsl/SL+V/35+4L7TPyg/oIBIwTvBKQDeQEGAOf/dgCpAVcDBQVxBfQDmQE3/wr+vP2h/ikAVwF8Abr/mP2J+4D74vyN/2sBtwE6AsIAfQFbAEf/af4j/aL+PwBhBJEPBSHzN5FDfTvMK2Mh/Cm/O/pEckWZPnc1EynbF0IKLP7U9CHrPeXe5Ezk+NsbzTvAVb1axM7Qg9wY47Xjd9/n2+PdC+Xd7Qv3f/11AbkB7v2P+UT2o/W4+H79JALpAZX7I/J56cTknuQ45+vr1+8H8fvv4+237FLuEvRw/pEKqRTOGfsZmRd3FesWEhztIqUnQSmeJYUebRUeDtcKbAu+DBYM5we+ABP4d/AA7Bvs4e5i8ib1K/YA9mv0YPN89fD6SgEBBnMHyQYvBKMAI/7P/QP/iP9W/qr7evjS9AzySfHA8p/1hfhr+sz6x/kF+ef5Zfwy/yYB7wHNAcEAXP+K/rv+u//2AL8BUwEeAAr+WPz1+k778fxy/jv/bv1Z+9/5HfkO+8/8CAH6AwEFjwM6/479z/zC/lUCAATdA6j/xwDdDDIisjRXOQE1Wy3pK2kwNDr9RShLCUMvM5Qk1xz3F5EOIAQ5+wj2Lu8U5HHZj9DHzXPOQ9I618LZ+ti31eLTete+3nPnJe2L75DwZfF28qfzK/Z6+Wf+ogAqAGb8dPfU8xTx5e/T7/vvk+/d7Dzp7uYL6D3sM/L99/f8RAAsAtEErwh4DzsWIBt3HXMdexw4HYAesCAaIQsfhhoKFlQSThAnD3ANNgkUA0X8OffX9KTzCfS/9MX0aPPC8AzwcfHi9Av5+/sU/qb90/t6+sv6WPxf/Sb9/fvX+mH4tPXS8zf0jvUx95n41fnI+Sj49vYF+Bn7R/7C//H/7f74/XH9SP41AB4C6QITArwA8f9VAGwB7gGwAZwA6f+q/6b/tP/o/pQA+wBvAwkDHQOPAikCtgIhAc8A+/6u/yAADADOAJAClwiMEdseYDDdO8462iy9IMUmYTpVScpI1zoqK8gdgxEXCpYIgAk+A4Xzz+V63g7eRNoY1UrU3the3n/dO9iA0wjS39RV3JvmQO9h8Ibsq+gk6tvvtvhBANMDxwB5+SP03vEg8jryQvKh8hvxR+356ADnCelb7Zjz/fn9/rgAqQAAAvEGqQ2+ExwYhxpAG54aPhrUGmcchR6/IJIhGB/UGV8UAxGNDoMMRAnfBSYBFfvW9j31XfUF9bvyF/Jf8gjzwPIW8nHzd/XY9zz5qPkx+VH34PUc9vj3D/kM+FH1f/NR8/b0kPfP+Zb6W/kL+Pn3ffk/+3z8lv1C/sL+P/4k/pH+o/+oACUBfgEfASsAN/+S/7QBeAMPBI8CngBBAK//tALzA54G5QXzAl8A6P0sABkBFf8g+Rv1wPpYCPwUTxkrFCsRhRKCH00wvT8cQ2g3Eyl8IwArVjTvNqIuFCBzDRsAAv4kBY4LpwUP+P/pl+O94qXkN+cK58jip9pM1FPTFNZ92WTcYt8h4SbhkuBo4gLnz+vN8EX0+fW683XvFO5F74HyLvS29Irz0PAo7vDtjfEw92P8ef/P/xD/yf54AWYGowyCEfgSPxKzEKsQcxTEGZgfUSJBITMeqBogGVwZDxvPGyoY1hFKCt8EHgOJAREBAv/G+lz1I/BM7hLvePBF8d3vZ+1R68/poerY7DTvR/Bb8I7wf/Hj8q30h/bM+L35L/pf+oH7Z/zF/Nz8cf1G/ob+V/5p/gr/vP86AKcAeQE7An8C6wFIAcsARAH2ASUD3AMJBOoDLQT+BNoGlgeuCAsI/QeXBxUHaAcsBkkGFQPC/y/83/0TBrARlxiKFyUSuBGaGTgmmzF7Nrcz3SnEH5IcLiI4KW8onh35DbABnf2kAdMHTgn9AMHz1+dz5DbnD+vi6oPkztoF0gnPftPG2t7e0d0v2sfY59pm4JznPu387grt0upq7MXvmfNp9WD1kvQt8+jzDPZX+cP7DP2T/WD+nP+zAfIDRgYlCFAJNwpICw0Ncg8NElkUcRaxF94YHhqvG6wcZRwbGx8ZPRddFRkURhLlD/wL9wf7A28Avv0n+2L4gPRT8ALtW+tI6qXpbuhC5yXml+Xm5svoJOvV62vsUu1I75HxoPPf9Kf1IPY590z55vsP/s3+2f7E/q//IgHoAlIECwUuBdcE5gRyBS4GoAYjBsEFVQXDBSEGkQYhByAHQgdQB5MHtwj/CIAJxAjxBywHDQZpBikGgQbxBD0DRwR1CYIRzhd1GcEZnRp0HkAkECoBLt4sgCUIHbAXyBfJGUUZshTQDEME7/6s/owB8gLU/vX1rOyM5kzllub65knk7N0T18TTg9Xv2iHfG+BK3sjbdNtj3ozkteoJ7VDr1Oiw6Jzrk+/V85j2UfbE9Cv0HPe3+9H/KgKEAs4BSQHaArkG5QpeDdUNQg1sDfQOYBL/FeAYqhkxGYkYnRizGaUawhpxGfwWhhTEEmURSBDbDYgKrwYYA4kAMf7t+6X4b/T07xnsr+mb6Cjoq+d45lTlqeSa5LnlZOc96VXq/OoR7CbusfDd8nL0u/X99nr4q/pb/c//cQF5AmwDxARxBkcIuQl3CsUKyArrCiMLOAsNCy4KRgngCO8IPAklCdQIVQirByoHuQYpBi8FfwO+ATMAWP9e/0gBYwXUCmEPnhJ6FQwZPR1UIQMldSdiJ+ckAyIwIOgf/B65HEoZbRVkEt4QfhDiD7kMpwbk/w76KPZa8z3wnetl5TDf49og2cDYFtih1qPUGdMH05TU49Zw2KPYS9jj2DDbft7U4XrkOOaD507pqewZ8dX1pPlP/I7+4gDOA0gH4wrtDegPQRFxEq4TRxUEF58YHhoEG6UbQhzUHEsdWR0SHYQcghseGpoYCBc5FfwSaRCrDfwKjghDBo8DXgDA/Mr43fRj8XXu+euB6dTmC+TY4YjgBOAs4JbgRuHR4XTid+MN5RjnF+nq6trsKe+U8e/zaPZR+Wn8f/+HApMFhQggC20NnQ+yEY8T7hSsFZ4V9RTXE8MS+BFfEf8QUhB5D3IORA0qDNMKQQl1B4sFyQMOArMAvgCjAmMG+gq2DkoRcRM4FjgafB44IW0hbx9/HF4azxlFGtsZNxcWE1MPBg56DqMO0gxzCJcCIP0q+c/2M/Rp79PobuIT3ivcMNub2dLWQ9Oy0FrQT9Ih1dzWS9cJ14zXzNkT3WDg8+KG5D/mFukZ7cHx7/UU+aT7av4dAlAGhAriDfIPWhGDEuwTwhWCF+8YthkOGoEaWhu9HP0dfx49Hi4d3Bu4GrcZphjgFicU4hBsDWwK8Qe6BXADqABc/fP59fZm9Ovx++6h637o1+Wx4yXi7+Do3/beP94i3sLeBuCo4YjjquUR6JDqHu2675bysPW3+IP7Mf7oALUDggZoCUwMAg9ZERYTbhR4FTwWoRaaFkMWvBUYFWMUjROEEk4R+Q+qDlcN+QuCCtMIEweLBUsFMAeuCl8O9xBOEoUT0BU1GcQcqx7+HVsbfxgVFycXbReEFmcTbw+ZDM8LqAySDCEKwwVvAD78gflv96X0fu8E6Tfjbt/Z3X7cWtoi147TjdHB0YzTntV+1pXWytb614fac93h327hYOIK5OHmserr7p/ysfXD+Hv8PwFlBkYLVA95EhsVfBe8GbsbAR2hHegdPR7WHk8fRx+3HsMdzxwRHHAbjRoxGVgXIhW8EjYQWQ0kCsUGdgNdAHb9c/o59wT0E/GP7rXsWOsc6pPozuZX5ZXkdeSB5G7kcOSM5NrkquX45qPoVerb657t2e+R8oD1TPgD+5b9BgB4AvMElAf6Cc4LEw3nDbUOrg+2EMIRdxLBEpoSNBIXEjgSSBL7EcoQHA9sDRoMlwvHC6UMiw0NDq4ODBDBEhEWqBgJGhkadBkHGfQYLxmZGGsWKRPXD/INkA1/DcUMiApiB3EEbAJNAeD/yfzw9zXyTe3a6TvnXuSB4OTb3Ndw1fPUgtXS1V7VptSf1ATWcNgx203dbt4/35PgF+OD5v3pG+2+74HyIfah+ov/RARJCMYLIA+/EqEWKhrfHHUeOR+wHxQgkCD5IA4hiCBxHzUeDh0PHB4bvhnfF48VzhLsDxsNQAoyB8EDBgBZ/BL5Tfa98zDxp+5K7GjqG+lo6Pjnk+cH51Lm4eXX5UDm+eav52Ho7uij6e7qtOzF7ubwFfON9Qb4f/og/cH/RAJ8BHkGfwiOCpoMcw7uDwURsxE9ErcSKBOaE74TlhMoE2kSwhE1EasQHhBhD4AOLg2GCxYK8AhhCFUISwg3CAkIAgiJCKAJRwuYDCENJg3EDK4M8AwXDd0MpwvDCQ8I9gasBnEGeAW+A3kBmP+V/ub96/zU+s33jPS+8eXve+6h7PPpneat48bh8eDZ4MHgTeDR39Hf0+Cu4qbkP+Zf51Poo+l5673t8u+v8Svz5fRE9zz6av15ACkDjQUkCCgLdQ6bESMU/xVTF3IYqhnSGr8bAhy5GzIboRotGo8ZmBhZF7oV7RMrElgQaA4sDKIJ9wY8BJIBDf+Z/DX6wvc/9c7yg/Bx7qfsIevk6fLoXegS6ADoFuiF6DvpEOoJ6xrsZ+3m7nTwJ/Lk86P1b/dE+TP7Mv03/0MBJwPsBKYGaQhDCv0Lcw2sDq8PhxA+EdgRWBKdEqESWxLtEYgR7xAoEFsPZw5oDVsMVAtYClMJUAgZB8IFkAR7A4cCdAFJADr/Z/7b/W79EP3y/Mv8uPz3/Eb9vP0L/if+Zf6R/t7+Tf+N/7n/qP+R/5n/q//i/wMA3P9///j+hv4n/rj9Nf17/JT7rPrM+RT5ePjc90H3sfYl9q71UvUf9Sv1RfVS9Vz1g/XL9Rv2cPbM9h73dPfe93f4OfkU+ub6pvt2/HH9kf63/84AyAGdAkQD6wPCBKMFZQbtBlQHtAcKCG0IwQjhCNsIrwiCCFEIFQjMB0EHhgbIBQQFTASOA8QC1AHCAKn/tf7+/Wv90Pww/JL7+PqJ+kT6Bvq4+Vn5Gvn3+O74/vgi+Vf5j/nS+UP65/q9+5r8Y/04/iX/NgBrAY4CkQN1BEQFCAa3Bk8H7Ad6CN8IHQlICXQJjwmUCaEJrQmmCYcJOAnRCEIIlAf9BlcGkQW3BMgD1wLiAfgAJABK/4b+0/0c/YD8A/yj+2v7E/vD+oL6OPrq+Zf5XPlR+Vz5Y/l3+an5E/qA+iH7z/tn/Br9vv1g/hT/hf+9/+L/DQBjANEAPAGWAdwBIAJrAqwC2AL2AuICpQJdAiMCJgIpAgkCtwE7AboAQwD4/83/kf84/9b+d/5R/jD+FP4V/gn+6/3a/eD99P30/eX96P3+/Q/+Bv4T/hj+Af7k/bj9kf12/WP9fv2q/d39E/40/kv+Zf6S/tb+If9l/5H/l/+P/4L/gf+e/7j/uf+g/4b/jf+e/8r/5P/o//P/8P8OADsAaACWAJoAkACPAKwA4QD/APsA9AD2AB0BXAGrAe4BFwJDAmkCiAK2AtsC7QLuAtoCvgKvApsCgwJsAlICOwIgAgAC1QGjAWUBMgEJAeMArQBlABwA0v+r/5v/if9p/0T/JP8d/yr/Rv9d/3f/jP+T/7P/6f8UACIAHQASAA4AEAATAA8ADgAhACoAPQBSAF8ATgBBAE0AZgBzAGEAPQATAN3/rf+Z/4f/Wv8d/9v+qv6Q/n3+cP5g/lL+Rf5L/mz+mf7E/uD+8v4H/zX/cv+4//P/LwBhAJAAzQAQAVYBkAG6Ad0B6wHsAewB4wHZAcMBqgGMAVQBIwH9ANYAwAC1AKwAmgBwAD8AAwDM/6r/hv9V/xf/yf6G/kD+A/7U/Z39Y/0p/e78yfy3/Mj85fzd/Mz8wPzB/ND83/z6/BH9J/1P/Y39zf0P/lT+n/4C/3X/4P9KAKQA/ABGAXwBrwHsARwCMQIwAikCNAJdAosCpQK9AtEC2wLWAtoC6gLsAuECwwKlAnACLwL6Ac0BrQGBAUgBEAHaALQAnQCOAHkAVAAfAPj/2f/M/6j/e/9F/w//5v6v/ob+bP5J/jT+If4T/hH+//3v/eD9zv3N/d399P31/fb9+v0G/hz+QP53/qb+v/7Q/u7+I/9l/7T/AABLAJEA0QAbAXUBzQEQAkkChgLAAvICIwNKA1YDUQNAAycDAwPTAqoCeQIxAvABmwFgAUABIQHfAIQAKQDl/73/kP9Z/x3/1f6J/kj+Hv4E/uX9uP2M/X39ef1y/Vr9L/0E/e38Bf0i/TP9Fv3d/Lv8vPzw/Eb9kv27/cP95f0o/oH+6f5P/7v///8zAGwAuAADAS4BQQFYAYcBkwGfAckB/AEbAjsCWQJqAocCkwKkAuUCBwMDA/gC1wKoAo4CcQJXAkcCEwLTAYYBVwE3ARgB/ADRAKMAaQA8AAsA5P+0/37/NP8B/+b+1/65/n3+Rf4H/tj9yf2p/X/9Pf0V/Rf9Gv0w/TT9K/0k/Sb9Rv19/bX96f0X/k3+lv7W/h3/YP+l/+j/SACyAB8BcAGbAdIBEQJfArIC+QI5A1EDYwOCA7ID2wPLA6sDgwNSAy4D9wK0AnICPgLwAaoBbQEgAc4AhwA1AP//6//T/47/Sf8T//D+tP6O/nv+Yf4m/tH9lv1w/VT9H/0L/fL85vze/O38Bf0T/Rb9I/1V/YD9xv3x/RX+Pf5r/qf+3v4L/zb/Wv+G/5z/q//D/9H/FABKAIgAtgDKAAwBPgFkAY4BwAHrAf0BCwI2AmoCiAKkAqcCqQKsAsYC5QLoAtoCygKuAncCUgIpAhMC5AGtAU0BAgGsAF4AOgDt/8//jP8o//H+pf5X/g7+zv2O/WT9I/33/NT8tvyg/Jn8jvyf/KH8ovy+/NH8//wY/UL9nP3N/R/+af6t/vf+QP+h//L/TQCcANwAJwFwAcYB/wFBAnUCugL0AkUDdwOkA78DywPnAw0EJQQTBO4D0QObA3IDTQMhA9gChwI7AtoBfwEwAdsAiQAuANf/hf9A//X+k/44/u/9n/1Z/R392vyi/If8R/wG/PT77fv3+wb8Gvw9/FX8ZPya/OH8M/10/cj9DP5B/mz+mP7d/g7/JP9h/6P/6v82ADsAZwCFAM8ACAE1AV8BegGWAagB1QHnAQEC/wEUAj4CQwJdAlwCRwJDAkMCMwIrAhcCAwL+AQQC2gHRAb8BqwGTAXsBXQFKASUB/ADKAK8AkABVACcA6//A/5T/T/8V/9n+qf6k/n/+X/41/iD+6v3X/ar9kP1B/VL9Wf15/XT9g/2Y/af9s/3O/dr91v3p/QT+Nf5c/pX+8P5n/7v/5P8gAEYAsgARAXIBsgG3AcIB8wEyAnoCxQL0AjQDWANrA6oDogOnA7UDpwOSA4gDigOSA2EDIAPZAnkCKwKxAUkByABxABoAxf+c/1L/7/5y/iP+8v2r/Un9CP24/G78Q/we/Cr8Xfwx/Fz8Dfz4+8n7ufue+2T7cPun+w78jfwK/XT9uv3N/dr9Kf58/s7+OP+i//j/+f/I/wEA6v87AH4AAAHCAcMBuwG4ATUCeQLFAvkCGQPKA08EDAVGBfsE3QSmBDAEVQOyAhYC6wHvAd8BzAGTAWsBhwH4ARkCuQGyAAEAo/+H/2v/0v73/l3/9v/2/5r/Y//M/oH+BP6z/Zz9YP0j/Sb9Sv2D/RH+TP7g/NX72/vx/IX9af3k/G78gv1e/jb/wP89AAUBHgEjAWgBagHUARcC1gEFAsECJAMiA04DfAKAAusCIQLUATACEANfA4MCngHZAbECeQNfA8gBRQBAAMkAAQEvAQgBwP+u/tf9y/2B/QX9p/2k/bz9hf1N/C/8pfyU/Lr8Svwd/Jz8xf0y/9j+8vwa/E/8q/2U/sX/QgD4/zn/Uv5F/2wAPAHZAAECCAHW/wP/qf/EAJUBFwHt/9T/UwDAAs8CQgEi/1v/2v/ZADQB+/wU/if/qgBiAdX+Xv0g/PH8A/07/5YB8v70/lb+w/6N/8D/hP/VAP0BSgTNBrQG6gM9/R74s/ogASsICgvZB2gEcP9l/j/+FvzX/HT9pf7QAdkFtQeeCB8HAgZ8AiX/bf3M/VP/HgGdBSAJ1wsNC8YIpgRtAZD/nP3F/Qr+nf6R/7sAeQOPBLUFggNPABH9Yfzu/Oj8nfu9+mT7t/rl+677jv3U/pUAxv8R/Zr7Gvyc/Pf8qP77AU4E3wU/BTEDawL2/uL8ZPkA9hD1EfWG9lj2xPds+Mz7f/+NBO0H8Qc5BU7/EvpK9531NPUQ90b6fP1vAW4HYQ0yEg8RHAouAaj3VfJT8HfwXvSk+PX+GQUgB94GnATZAqIApvut9pjzdfKy9C738/ks/bX/QQNMCGYOlxJUEgkMbANA/In5vPkH+737M/yj/hoCmQWOCBYJ5wiiBYsDpQF9/xf/Iv+AAacCMgL7AIX/yP8SA9EGbwpwDAoLrQchBBwBf/3m+wr7I/vQ/Dr9sP1N/jgBKQS0BWsGUgaCBS4DBAAI+8n22vRP9Dn2Hvma/PwBwQbiCqQLkwmvBVACev+L/Rj8//mi+Bn3Lviu+1ABAAYaCNkHVAVQA7MB1wAaAcwAvgGyAnkC4/+6+v33Q/eY+O37Wv4kAUQDggScBJkB8fwl99X0SfV7+ML7wP1b/7n/8v72/LX6J/nN9+v3jfoJ/lMApv+t/o79sP0m/i/+Nf+LAO0BCwI8ASL/pv0d/FP7dvs4+yj8Mfy7/ab/bQEeA7QDDgIkAMn+a/7x/18BXgK0AZwAJf8t/ln9N/2Z/T79mfxV+1v7P/z1/t4CDgbiCPII8gczBZEAofu9+QX6P/0TAc0EUQfuBsoGCQcgCyISBBq6JDov0zf4O/46PTZfL+wnXCK6HVoZlRUfEc0L+gRk/pH5hfUP82Hviuqa5CfeNNg308fQktAC0+bWadtY39jhT+Nc5HTlBefX6FTriO5/8Qb00/Wn9zr6xP3OAX4FXAh/CqwKwggLBYQAtPs1+Hj0MPE87hbsh+lj50Lmrub252vrMO+e84n34foa/vQA4QNYBtoIsAq/C7kL8AoBCiEI6wbKBQQFZASWAysE2wNhA4cChAEmAM3+f/3I/Gf8evzy+0P7tfvW+yf8ovso++36mvs2/SwA/gROCTcP3RL/FHcWOhUQFBkQ2QufB00IGRD2Hzc2k0xFYENtYXICcLFjJlKAPJgp+h7ZGJcYPxmUGEcV6QvBAOn0O+l139jWKs/Wx+fA3bsnugu8L8I2yi7TfNr43d3dM9oW1ijTAtMG13Xe7+fu8Tj6DwBQAuwBHwB8/fr69vg795P0z/ET7rjrwOoN7J3vmvPo+Pv8XgBpAoIDZQRXBj4JmQwMEMMRthGRD0gL4Qc6BKQCiwLhA0kGgAdzCF4HdgX6AmgA3P6F/dX8A/wZ+2n5NPeK9efzjPJC8SnwZu967pXtMu3W7dLvJfK19Kz34PkS/AD9m/z5/A39IP19/Uz+UP/PAPgANgIqAwoEqgXRBXoFFwRHAoP/RvsV+AH3+ftNCQEftzqMVc1qOHfjejt2UmmbVIU+fS13JaElFistMjg0gy+gIT4NM/WO3b/JBrxbtT+0J7cEu0C/AsPpxX3I3cp6zfPPx9EG04jUTtcj3ezk9u/3+1AIhhJBGEkZ6hQ2DTYEVfz89zD3Qvrf/tgDLgdbB0QEbv7e97jxbu1h64nsDvAE9rD8GQP3CEkN+xAUE8MTZhPTEeAP0w1BDK0MdQ4BEiwWXRmXGskXyRF+CCv9SfIo6Y7jOuG54ULkh+Y55+vls+Iv33Pcmtu73UfiaunE8HH3m/zf/88BSQJFArcBkQF+AFr/ov3a+6D7pfvZ/W8AQgPMBeoEwAKj/Y73tPJv7l7tYO7R8OL3fQKAFBIq10AQV5lngnL0cyNtgl/5TE07zS4UKy4vGze9Peg+iDcYJyUP3vNb2pHGc7prtem1grlBvpvBCMPcwmzCg8I5w2vF0chQzhvVB97r6E/1TwJ9DiEYER4dH10bFBSkCxgF4gGkAkAGQAtJDw0QZgxEBHD5y+3a4w3ddNr326PgJufM7QH0Qfmx/asBEwW0CMsLiA4DESQT+RX+GIccMiDQIhMkTSJjHakVBAycAkH6HfRW8Pbu5u5C7kbsregH5ETfwNtk2qrbUt+C5IPqdPDV9VD6nv0HAPUBWQOlBHoFCQZGBh8GFwauBQkF+wMmAgIAjP17+vT3GfVd81fyG/HV8J/vee+z7vPtC+607pzyIvlDBb0W+CuTQo9Vd2OTaqtpPWGZUoxCuzUuLgIu7jFmN0o6IDbHKv4Ws/4x5abO2r4TtrC0lbftvEjCxMUkx/vFfsSFw3PEu8ckzR3Vad8C66f3GgT4D/QZhCAtI3khTRwYFawNcwh8Bu4HbQu9DgMQkw3NBjD8dO9q46rZKdQH02zWJt005bDtgPWr/PYChQiyDfwRZxX6F0YZghrYG7UdWiBaIuIjxyKKHkYXLQ2jAp/4QPGM7JDqeOri6s7qBuks5ufiWuDB38Dg6eMS6Aft8fEL9uX5Ev2qAAEEQAftCV4Lowt5CiYJAQiJB2oHWgcEBykFxgHa/Bv3fvEe7TzqIepp69juZ/Ks9SP42PgV+S34Bfgd+Jv5Mf32A0UPNR4ZMC1Cv1FXXK9gkF7zVTdJHTsjMPgpSyhqKWYqICk7ImMV9QOk8MrdJM4fw6i9fLxOvkzCkcbYyrDNys+O0cbSyNQz157bBuKM6hb1OQAmC0sUmRpPHd8bGBcyEEUJewMmAFX/ZAAvAiIDeAJX//D55fJP63/khN/13Grd1OCV5gPu5fWv/XAEzgkYDlgR6RR4GFIc+x/AIp8kZyRZImQe1BhvEkYLOgS2/dP3q/L57Uzq4Od75jfmXeZp54foqOnA6tHrsu0s8IDzUPcQ+9j+iAFeA+wDCwTvA+8DvASeBckGBQcFB+4FKARDAmIAJv/3/Rj9dvzu+nz5bffn9SH1HfXk9uv4B/wD/w4CbwTgBb4G3QalBhwGoAWsBNcDGgPGA9kG7AxPFushuC11NzE9wj2POUwx+iejH3kaEBlWGnYcTR2RG+MVxAzXAbL2JO3g5XjhpN9j3/jfjuBR4ZzhluF94X/hTOEo4T/hSeJr5BDoJO0f8z35dv7gARwDHQKo/8H8rfoc+i/70v0uATkEUgbLBrMFYQN8ALH9A/sC+Zv3BPcj9wj4hvmo+zP+xAAnA9kE7gUfBpIF5wRkBBYEJgQTBGEELASAA1QCgQD5/oz9jvwk/Dz8ev3X/jEADwFJATkBJQC2/ib9b/sY+vT4Wvg3+A34KfgP+Cz4Y/j5+Nn55voc/Ev9NP4E/7D/kQAKAoUDNAWbBjEH7AZ7BYoD2AFSAOT/SgCNAewC4QNLBKED5QK9AaQA/P92/0n/yv5p/gP+i/2q/RL+6/7F/1UAXQASAKP/iP/UALcDMgnBEP4YJiEgKActHC9ILnsrgycHI6we4xp/FxsU3RBYDZkJawW9ALD7Rfa68Djrh+YN47bgzd8t4Fvh5OKy5FrmBeiV6TnrHu0s75HxhvOL9T33Afmv+kr87/0N/+n/FwCQ/7b+a/1O/EX7o/p1+jv69PmA+db4JPhi9xn3Hfdd98/3CPha+Jv4D/ky+sz7VP5nAagEoQfNCfYKIQu2CroJpAiJB4gGxQU0Bc4EYASRAx8D2wKZAlICCgISAtcBQgETAYwAJgEIAScBGAHCAFcA6P4x/qv8Mfz7+0H8YP1A/jT/R//s/gb/gv4O/vT9V/4y/2QAOAGWAWICPQI4Al8CKwKhAkYDKQR1BNEEyQT8BCkFWgTYBFYEMwRbBC0EOQSCAz8DmAJyAqoCxgGuAVQB/wD0AWQCKwMrA/sCdgLAARABgAHBAZ8BHAJ+ApADHQP8A1MD7QLeAkQCRAIXAlwClAKPAmQCAAKrAQcCiwLTAoMCawGVAMj+Rf3z/Ln86vwX/o3+wQC7AcoBpAF5AVgBgv8f/2H9Pf0D/Xv8Zf2j/er+XP8s/wv/dv6J/A78GfvM+Wz5p/jB+HX5+/iJ+Jn34PYG9zT2zvWv9Rn2p/dF+E75r/mT+Ub6sPq0+0D8Jv0D/s/+W//k/0cA/f8JABIACwDz/+kAVgGZAT8BGQEcAJf+Z/1P/RT9wP2q/tT+VP9L/xkA9f97ADUA6v/F/67//f9xAIAB9gFPAosCMgO1AzIE2wRMBW0FfwV9BSgFdARJBNECVwJjAksCSgJhAjQC4gGoAVwBDgHsAJEACgDHAJ4BBgKOAoYC3wKnA4YDsgQABMkD/ALzAm0DxANtBJcEfwUlBIoDZgIlAUACaAHDAMf/CQBQ/4T/SgBb/2L/3P4H/uf9zf3t/X/+af78/u3+DACL/zn/mf66/gn/cP9IAIUAPgFOANwAAAFHAJsAXABNAPEAyACeABP/lv+WAIoAuwAEAN7/8f8LAHj/3P6c/jP+bP+cAA8BYQBpAWYB7wD0AA7/of4P/pf+Uv8D/5L/vP+Y/+P/mgBdAND/Wf+H/1D/a/8K/wL/VgAOAaIAGwBUAG0AfwDQ/wX/p/58/s7+b/5I/jT/ef8bAGv/Sv+Y/4f/FwB9/x7/Of7U/tf+DwBQAN7/P/8e/+T+Hf6g/ez8mP6N/sf+Sv9c/1j/v/7u/df+NwDb/3oCBwJFAWP/PP4u/i/+GABT/0D/Zv+V/sz+sP2u/Tf+Uv2m/d/90f6x/Q3/k/2E/vP+Qf9RALf/R/9SAPT+IQHe/1wBUgLmAIYBmACrAXwBzgE0AhEBKwIQARkCKgPVAaoBhgDKAUAAhAFf/yQB0f+r/5wBBAAgAdT/Lf/I/4T/Uv8c/8D+ff9aAIT/JQC5/74BsgDq/47/Pv/w/xAAT/+2/3L/7f+kAbsA2wINAKoCGQKW/2v/Xf6X/3X/JwLKAZEAfgEwAEgBkQD5ANT/tQBYAJr/DQEqAUkB4gEwAAcAwQAg/67+9P6//sP/if8Z/1H/z//k/kIANf/w/9z+tv+d/vn/n////nv/KP/nABkAGgBbAMgAXAJAAnoBCQA2AJEAjAA/AA8BSgDz/1IAFQIIAP0AFP9l/U7+V/2m/qn+0P5Z/6f/pwB0AGsAPP+w/mX/9AB9AKgBp/5k/63+Wv/SALgAtQEEAF3/c//Z/nYBjwATAQgALwDTAAsA/gG2AJIBJf88/9/+xP8QAVIACwEsAKD+0P5M/hcAKgAaAAgB//9GALH/FgFJ/73+q/2O/uT+2/6h/+n+Nv/8/Zf+kf5U/jn/fP5I/qv+wv/+/y8B3gAvAHz/vgBMAE8BgQE4AXABcgEyAQsAqgGHAIgB6wDxAEEABABlAMn/0/5V/9v+/P4v//D+Pv+x/uv+Xv/i/mH/B/5U/6r+7P5H/0z/+P+oAMgBKgHWAGwAkwHiAGMBGwEcAbQAcwBc/wn/8//mAFMAoABZAEgA0/8zAN3+v/9N/3P+jv4r/Lv85f1d/aj/Zf/n/rn/DgAkAO4AxP89/4D/9/+LAMkB6wLoAXMCZgEXAUkCkQGzAdIBfgEdAWcBTwDVADUAgwJwAYUBiwB3/+P/Dv+4/6H+Lf86/2MAigGmAfsBlADmAJcAWwCJANv/8f9hAIUAuABLAc//qgCd/6r/AgBu/z7/B/5M/wL/Hf5d/7n+kf8DAAP+of/i/ur+ff/1/Wr+/P3D/98A3gBTAYcAJAG7AWABRQF/ALEASQBCAVUBggKjAl8AKQDk/rMARQD0AHAAv/89ABz/hf+o/vT/3v6b/yH/Kv8JADIAYP/F/qD/H/8M/4kAtf8B/6P/Pv9RAF4A2wGNAC7/0P+1/k3/jwA7/lT+pP7C/Vf+T/21/ZL+/v0h/nD+IP9N/4//VP5R/0n+nv5BACEAdAC9AXwBLwHnAMr/pAH0ABABLgEGAJAAEQEYAFMAjv+nAGoB6QBd/5v/AgAjAAAA7f8KAFT/df+0/lj/x/8pACcAJgDA/2EA1P/gAMMACgGgAF//ogB2APcAf/8MAHwAkAA//7j/1P9w/x3/AP+uABAA//8L/zb+sf9F/qUAcf4rAMwA4wF7ARcAEwAPAHEBNQHMAOoBnAGCA/0BKwFQAQEASQLW/38BGgCFAEcC8v/vAaj/0P+M/8H/iv/w/mD+7f9tACIBKQBv/7T/Rv9VAAX/bP5+/6L/ZwGnAKIAzwDPAA4CXABz/yn95/2B/qn/RwBNAAv/5f7G/1r+qP1X/Yz99v0H/nD9zf3J/dP+e//E/7T+wf0Z/w8B2QHzAS4Aif/v/k0AgACxADIAmQAeACwBOwHqAQwBfQD7/3j/dQC+/tP/8/6M/j8Auf/0AqECHgP+AHQAiv+L/0QAkwC6AEoA3v8hAF0AiwCN/5X/Gv/L/lj/4P6Y/wf+v/6c/s/+BQCe/qf99f2h/iH/4P/M/+L/UP4J/7v/UgDCADoA8ADa/3QA7f97/78AlQDyAbABiQDH/gcAlACk/68AKv+H/qIAPAB6ASYCbAC/AB0BD//UAGoAHAHDAOb/WAEfAo8BkAGh/y0AlQCf/6cB+f+2AUgAcf/PAM7/twDy/mMAtf3n/mL+2QB7AMn/Af+i/cj+R/75/hwA6/9+/+j++/6s/xD/Kf9V/sL/bQAwAGkBRwBDAM//ff8WAe0Adv9XAOD+d/85/0P+kAAMArABDQJxAf//1v80/wz/KAH3AI0AQwKUACQAmP9g/w0AoP+wACf/EAF0ACIBNwC2/3X/KQDO/x8ACP+R/zX/jv2KAHYAXgH4/sj/L/9Y/4P/vP8rAe7/1QDg/vP+tP54/0H/+QCHACz+A/+I/gAAwACgAMf/zf+j/xsA7QDXAaEAAgCO/yr/ZwEbAVUCQgB+/2H+Uf+H/gABIgBQAS4COwAhATEAggClAPD+IAA3/j4AKQD2AV8B3AHlANkAz//E/mYAHP+gAEb/ngCa/+4ANQEyAYAAY/57/4X+3QCR/+j/rP5P/fD/+f9a/yMA/f7K/0z+wf8OACgAJQEC/mD9+/47/7MA0/5V/pn+i/9kAYsB8gHJAB8CuQCwAEb/5QCCAscCiAJ1ACT/hf9V/xYCuAETAoQBLAEbAjAAnQDOADsAqP9T/lMAaP81/5f+Ef4i/5L9uP0W/aL+nP/K/rb9avxX/fH9rv98AI8ASgB7/6v/uQCtALoBWf/O/xz/vf8+//n+6gDPAP0BYv9qALcA5QBHAIf+U/0X/vD/wQGeAuEBYAJ4/w/+gQAUAE8BcP+Y/03+Uv83ADkChwJJARD+ev6N/rT/1ADb/7H/t/5V/aIAOwCcADX/7P4VAAYALgGp//7/YwCz/mP/q/8NAKYBgQMKAzsBewFB/qsAyv5DAIH90v3s/hIA1gDB/+X9CP+B/lz+lP52/5IAAgFoATMAZgGrAYkA4gGWAC8CfwJLANv/2f9x/3kAhwC6ASgC0AE1AB0DUQDT/17/Sf0OAVP+WAHQAEMBgP99/rT/pv8lAMT8Ifvs+1D96P66AmcDPAJ9/rD7j/wc/S3+uP9BAFoALgKQAfMC6wHOAAMAfP7x/1z/5QEBBBMDtwJn/yv/Fv4mAbT/cQDm/k7/eP6S/5UBWQEqALz+n/2I/Rr/TABWADkBXP/J/o3+7P2BAIgBgAL0AIIAKf4dAOX/mf+TALb/4wDg/zj/w/wwAIoAaQL9AosBeP9Z/JD8S/5c/5D+Wv3J/W3/lAFfBKoEDAHb+1f6VfszAJEDIgS6AQcA3gA5AWAAyf7k/qb/B/+M//j+ygFRAjYBEQFRAIIBLgAcAIj/agAsAdsA9ADZADb/9v2z/l4C7QUzBO0A9v0+/jD/Sv8wADf/9f+H/hH/S/8VAHAApv9GAJf94P0e/x0C7APGANUA2v4O/hj+lv3V/0sCUwBwADf+vf0BAIoA5wEnATv/DP5P/xL/KgBjABoAdP8eAMD+zf4b/7f+OAAQAL7+h/6o/hkAqwB+/27+Sv2T/V799P53ADIAG/+M/br9jf/+//YAaQF5APP/dv/f/5QBtgP4ARQD5QDQ/TL/RQH2A0QDCQL9AHf+oP0pAKj+OAISAToByP64/r7/1ADrAukBpwJYAeQAk/9QANIA4P+4AEAAaQGYAcMBlQF+AAv/jf/r/g//Bf8Q/9H+EP9q/3b/pP3h/e3/KQE8Ag0C0QHvAFv/pP/IAFD/fP8n/vv+HP7J/yn//P8bAh8AvwBI/xH/Xf8kALgBawJXAT8Bov/S/w7/c//k/6T9rf3z/dj+3f+zAC8C0ALXAfP/c/3v/Cf/VwBuA4cCVgBg/qX9Qv6NAQkDqQH6/1L9QP2N/jEAoP+3//v+HP5+/nf+of+c/7b9/vsu+xf8rP6/AHABnAHm/yX+Qv1P/E/8yPxX/kX/7f+KAYkCzQM1BD0D3QGU//T+7f/PASMDpQIGA/UBWwDB/h7+e/6t/6MBnAIRAxICBACV/sD9Jv6D/oP/bQCuAM4BJAIhAwEDRAKsAPn+zP/dAboE6wYyCAUIaQUyAlz/Cf2b/Ff9zP6yAN8CHQQuBJYDqgLhASQC+wKlBNoG/QgCCuAI2gXdAUH+qfwN/cf+KQAyAaUA1v7Z+wT5FPcB9pH1GfYX9/T3n/gW+T74rfUl85nwse9E8B3zg/cW/AH/1v7l/RH9lv3l/4UCTwTmBXkF5wQaBWIF7gRABIcBUv7U+3v6EfsM/Tf+bf0F/C35rfdt+P/56Pzl/loAoQGyAlAEWgX7BuAGWwZNBv4F9Ad2CHgIdQaoAhX/Y/sb+p/5ffpn+yL6SfkT99X1wPVr9F7zbvLG8b7yGfWJ+aYBDg+RIik7tlJKYbli5lkfS6g8mjL/L8k0lDkxN8cscRlHA1rto9f1xPu3RLBHrzCzNblrwAzDqcGyuwO1JLN3ua7IEt9w9X0H7xJiF58XBRahFhUaGB9eI+cloidxJoQgcRaOCTH7ve2R4kDdQd3v35DibuFy3X3XgNH2zrTRKdta6L31GgGjCGYNgRCdE6EXJh3IIwcr4jDYNSg30TU5MF0n7B2ZFPAPbQ6nDvoNbQqoAmr44u6Y527klOQA5vXo5Ory6xjt0O308Qr2ufgs/asB6QZKC3gOIxD3DmsMxAjOBssGiAjKCf8HHAR2/lz4VPS58mjzpfS+9eX0kvKf8AXvC+9C74TwdvLm8631nfcN+Wn5D/o7+tf5W/uK/SwAgwJ6BCwF4APmAVoAWABdAoIFuAn9C0UMDAsrBzkEAgGXAP0A9QHpBO4FMgfcB1YHWwUHAmn9ZPwS/On+MANwBB8FTwF8AOkFGxf/M01OPlmHUDg9ziwXJNsnoTLrPZ5ElD3pKqoSvP1z8N/lAdppzT3Gz8Qixp7GP8NOu3WxWaaioUGoOrqW0R3kKe317XDsg+wB82sAOxFcH0QnmygbJ3klHCPMH0MaKBLmC+4FywLOAQT/5vnB7ivhzdUK0rzWWN6E5u3qduv56FvlQ+YT7T/4QQPzC7IRtBQJGAYa/RtfHaAdKx5/HA0dlh2yHa8cNhf4D48HtgE8AI0A9gA0/zr7OfRD7c7pDek47J3wvvM19qz2vfex+UD7zP2L/u7+PgAIAmIGsQsTEBESFRAoC6sE1wAqAdID7wfXCT0KTQc7Am393PnH+Bf6ZP2f/7L/c/4b/OT3JPTa8nX0ffd4+Rb7z/oY+Ln0yfHo8Z30GvkJ/vMAXwIdAh4AYf0v/JD+4QK1BtUJXgv5C9YLPwr/CTMKHQyBDTcMcwlDBk8DBAHCARAEOQU9BQICdf0T+en25PcH+4b+dP/J/qf5dPIZ7wvyywGLGnUxSz3gNnglUhOlCxwT/SRROU9EMUEEMFoXkQOV+oD77QFiBl8Ey/ru7DzfI9VPzw7NH82wztXQIdOw0/PRR843yv3I/cyR1hTjcO6Z9RD32/Pv78DvTvbXAUsOcRdVGiAXwxBUC5cJ6wvdEHsVLhchFc4PEwnMAkH+dPyg/dD/dQEcAd39H/nL85TwVfDT8vv2z/or/V/9ivxF+x379fsC/sEALgT7B58KywvYCtwIGAecBlYIcgt5DuMPpg7dC5MHvwOdAcYBXwOFBD0EigLZ/4/88fmF+LT49fmN+9f8gP24/Tj95/yd/K38zv3r/sAAUQJvAwcEmwMqA4gCxQKtA4wEagVNBXIECwM3AUkA/f8QAHMAhwBZAA7/nf0v/DH7/fpV+4X8dP2V/WH94fxb/F386vwD/mX/kQA0AT0BPgFxARIClwIaA1oDWAOPA70DzgOgA0YDdwJoAaUAkQAVAVsBEgGwABgAbf9N/1X/l/8KAFIAaQCCAI0AmQC3AAIBFwFaAbYB+QEjAn8BDAHkAFYBMwK8AgMDWQI1AVoADgCAAEQB9QFZAukBFAH9/z3/F/9W/63/tf90//f+Pf6Q/fX80vy//O38Tv2E/bj95v0K/iL+Dv4J/lj+z/58/wUAVQBCANr/nf9K/wf/+v6y/mP+6v1i/bT84PtN++T6gvqk+cX4Pfgz+G34gvif+JD4nvjr+Cb5vvkZ+rf6Y/st/BX9EP4D/8L/jQBCAeYBcQIKA6oDGARvBMMEDgU/BWwFoAXqBRsGCQboBaoFZwVBBQgFCgXfBH8E8wOIA18DLwNAA+UCnQINAogBLAH+AMwAugC9AMsA2ABpACcAyP+q/3L/ev+c/63/hf8o/9P+uv7P/iL/f/+T/4z/Of/o/pD+SP5s/pT+z/6f/v39j/1x/cT9Fv4w/hX+FP7s/b393P0G/lT+J/4C/gv+L/5Y/kf+mP4T/0//Yf83/zP/cv+O/9f/BgAtAFMATAAqAAIA9P/t/wQA9f8bACUAPQBiAH4AgQBrAKAAxwAUAW4B5AF5AusCPgNuA3ADVQNPA1ADgQO7A/8DGAT5A6YDLQOzAkUC8gGxAWIBHQHTAIsAQwAMAPb/3/+7/4P/SP85/0D/gv+k/8X/2v/b/wwADgAyAEMAUgBeAD4APAAUAPn/+P/u/8D/kf9W/xH/tv5x/lP+Wv5a/ib+5f2b/ZP9u/0A/lj+tP4W/3v/zP8eAH4A4AAgAUkBgAGJAW0BXAFkAWsBeAFvAUkB5wB4AA4A9//X/8z/6v/3//j/x/+h/4D/fP+W/7H/qv+R/4n/ev90/4n/s//k//r/+f/1//D/4v/W/+H/CgAzAFcAaABNADMACgD5/97/xf/C/7//vP/F/+T/KgBYAFwAKwDi/7f/qP+o/87/4P/f/6H/J/+Q/hb+6/3s/RX+T/5h/jX+6P2F/T79J/0x/WT9mP3Q/Qv+Jv4m/h3+Dv4E/gD+Mf6X/gf/cf+1/7L/iP9W/zf/R/+E/+D/PgB/AJoAjABwAFMALwARAB0AUQCPAOAAJQFZAV8BSgE9ATwBYQGaAeQBLwJdAnACeQJWAgsCxQF/AVoBbwGUAbcBwQGFATAB1gBxACoADwAUACMAPwBiAFIAMgAYAPT/7P/7/y4AWQCBAJgAlABKAAwA1/+2/6j/l/+J/0X/9v7H/nv+R/4n/g7+8v3H/bz9yf3x/Sv+U/5v/nr+h/7H/iv/rf8wAKQA+gA/AXoBoQHFAeABBwIeAhcCFgL+AdMBvQGLAT0B8QC0AKAAggCNAJQAdwBAABUA3/+Q/0X/J/9s/5v/xv8BABYAKwDi/4v/cf9u/6T/3/9LAKoAxwCnAIsAaAAwAB8AMwA9AIYA1gD0APQAswB2AP7/k/94/5X/v//s/93/fP8e/9v+v/6z/vH+Pf9l/1b/Pv8V/w3/9/7y/uj+4f7i/un+9P7P/uX+6P7F/sT+w/7p/jH/V/9w/43/iv+V/7D/v//Q/9z/8f8mADwAegDJAOkA+wAQAREBEgH7AAQBBQEQARgBKQEPAe8AzQCgAIgAkACdAH4AVgAyAPb/uf9+/23/iP+o/7//p/+Q/4X/cP97/5T/1v8dAE0AewCtAKQAtwCqAJoAdQBsAIIAhQCYAJcAZQAhAMr/ff9i/4z/k/9+/2H/Vf8z/yD/Bf8F//z+4f7k/r/+pf7K/vb+Jv8y/1f/W/9T/1f/gv+p/9f/EQA/AEIARABcAF4AUgAJAPH/BQA9AFgARAA9AA4A8P+X/2n/bP+X/+3/HgBhAH0AUQD//+v/EwAiAFkAmADxAB8BKgEKAfgA8QDjAN8ACQE9AUEBDgGwAI8AtADMALMAZABEACgARwAwAC4AVQBGAEkA5P/M/wAAJABMAGwAWAAfAA8A9/8KADEAZwBXAHEARgDb/6D/kf+f/8r/y//B/43/eP91/3L/ZP89/y3/Iv/1/s/+x/7v/iT/B/8+/y3/OP82/5f/rf/I/83/wP/t/xUAQgBYAK8AwQCaADUAGQB0ALEAuACCALAA9QDsAKMAAgDN/zgAOQANAAEAKAC7APwA3ACmAFgAVABXAPH/WP9+/5oAygGUAbwAxv+X/wkA3gBeAXcBJAG9AOj/4P5m/ob+SP/t/xEACQDm/7P/ZP8a//3+Cv80/0X/iv/O//7/DADZ/7D/fv9T/0b/X/+k/5n/l/9//03/u//w//f/tv/I/yUA0QBOATMBjQB8/9L+nv6g/+cACwLFAf//O/4k/W/9OP6P/sL+xf4S/5v/9//M/xX/h/4S/qD+vf+sAA4BkQASAFYAngBBAVABEAEJAcwA6wABAVcBUwGPAYABKAHeAPQAIQGDAMz/Sv+q/4YAvQAvAMT/k/98/0X/Kf+U/7v/JABcAHgA2v9x/woATgCl//T+Ov/0/0UAEgB4/xv/Cf8s/33/DQBAACMAk//9/uv+Vv+c/4L/i//t/xoAvv9P/yT/Sf9f/2z/w////yYAPwAkACIATQBcAKcAzQDdAO8A+gD8ANEAtQCNAOsAxADiAJ0AfACLALX/EADa/ov/5v6G/43/B/+T/mz+MwHR/5//Qv5XA8YOaRMtBtLz6OpW9VsB9AXRBXYCmf+i/ggAxv+NAf0BmwosCtcEBP01+ab7Afz8+5P9MgFoBhoD0Pzt+iP7ef2/+pr3qvjW/64FOQT8AJz80v0Z/rD+Qv/i/akC1AJzAvb8+P9YBkUJiwRS+3v7cvxc/88BEAGC/nj6dPks+/D/w/9M+zL85P6z/yv+Ovoz/Hn/oQJiBZ0ApP7TAuIJ7QsCBDD85fmc/6UBUQAj/n3/DQeVCusIoP2z/GkFPAWEAhIHlhE/Eav+YOzd7Pf5S/2i+6ICBQa/BsD7Xv3+/Av8APdJ9t/5ZgOwC/cE4AJPAHn/4vhx9Yz94wPkBSwAJgKsAhkCvgEo+6z8av3C/uQB5AQqA9j/sPis+Jj4uAH8A9AGaQAA/J4BzwGy/Wr7Ev7Y/sD/6QNpAqn4afpP/00FPf4E+m79WAZS/8L5y/h8BTwMggBo+VH4Iwr7DFEKdP4b+mIBe/6pAP8BGBRdDBUFq/XN94MBKQPOBuL/hAAG+rH+/v3YA2r7k/wD9Bb+awB6BcYAdwBR/tT7UAGTASQC2f84ABoDuvxnARP+cv8c/c79lArbB0EBz/Zb+UAJI/9l9sT1SAdSEIQGivqT9uj3mfXF9E79nAWSCIwL0QPPBTn6jvjC9s/22vzB+Qb9EAU1CIEHwvx8/Af5gv4dAXT/1wfnBLEFU//T/k79ifuG/bX7If9WAToDaQr8BU8AF/RI9nX/jAcBBLn6APvN/fED5QRP/Ub6TP+bAU4FIQfwCPoJqv04+AX7/gSuCB8CjQJJCToGIgRwBVIDH/xj+0z8ywPFCtUBhful9oP3Dv1Q/Fv9MwBBBTwED/3j/HMDDAclABP3gAI+BpkEYfhr+qABtArMBBP33PmrBOMIKwO4+qb9WP55+zL9bAKuBar/d/mQ82T2dvn+BIMBa/rA97/2SfgyANIDYgO6BIb6nfy7+74GlwkXBKL+K/jTAFAINgYj+wT4pgASAWL8D/9JBncIRQIR/CT6BwD3APH/sP0mC7kImgA99On/FA34CGkBofMwAr4DKgMz/E0AsAewBFIGq/tL/6UB5Psk+g/3Bv3JAg8BQgPZAtYEJgIX/jT5Rf4nAK4Ar/8x/j7+Df66Avb/TP+U+uj5NPTa9dT+MwJYBWb9if+wA7wGaQTQ/UMCaABZBPL8EPzZ/3UF7AWbBaL9jvsb+87+UvsQ+ZT+vQIMCKf/gfgk+o0DJgndAF715vY1AE4D+wMnAw0CGgBV+Fb77QH6BcQH5gLcApv/Gf7FA1UFNgQA//j5Yv/pAVACMgM8/Q0Bjv0h/+j89vvr//L9UAJa/FECfwEYBc3+Y/w6ADAAFAK+/Bv84P+TBKEI+gQeA1IBUgCsAXv8mv5k/rT+JQQBAcwDsP+k/l7/lf7+A2MA7AA4/QH/ovou/XQEgwYDAS77yfxdAdUAnvlv9iD6yAEdBKkH9QQDCLMAVv1D+CL8AwTeAtf82fglAdgGkAkUAhH+G/6//9AC+wAXAgT9dvm49rD9dQF/BzUEiP7i+cL6DwKyA7sAA/pl9iP8EQFCA+cCpQFaAD8BngNYBEYAyf3m+rv/hwf7CesG2P54/Mz9Bv3d/hD/R/+y/PD5E/nY+QYA4wFeAc/8jPv6Ae0HuQVW/p/5ofphAEgBLgOHAHgCbQI9BJQE5QEF/Qj4/PYN+tf/8ADuAfQCdAOfASn+ZvwE/dz9+P1D/n3+hP/NAhkF6ATQAmz/XfxA/C7+qAGRA9QBOAAm/xQBcAOyBQMFpgIL/hP96/wr/TD+XgDDAfv95/pK/EcBIQRtAcP/5v7T/hj/WAGdA6ABZv12++z7av35/6UCtgAC/Q79C/90AM//wwDGAbMCvwB/AQYEzATzAA7/I/+EANkB9wE/A3UBPP6S+039uQFLBTUBfPuy+Cr7yf+tAHMAhwAyAPz+/vuq++n9ngH9AvIA+QCDATgE/wXfBH0DLgOWAHAAVgJkAv8DpAOiAowB3v4J/y7+uPxD/Pf4Hvur/bL/0f6C/OL/fv98//n7+/pPAQgHnAXe/Ez3lPdqACQD/QFi+bz1Dvqv/2oCtfw5/PwBEgTdAoL9tPsAASoHMwUc/eH5uPz2A6UFWwNH/z79/gA6BLMEyQF8/mX/iP9s/wsAcwFjBGoDewICAvn/Vv9l/L3/iwIVApj/fP6SAmoElAJI//b/FwI6ASj9TPvQ/1gCrwAZ+0v6r/7//6P+Yfmi+nb9FwEwADP8XPrn+zcARQIMAM/9Z/w7//oBSgOTAeb8kvxWAc0D1QEh/Zr9DQMJBwAGPwBn/xEBpAKpAj7/1/ys/UL+dv4P/Rj/OQAtAVgBTAF2AlUCnQHQAO4AyQHxAiMF3gTdBKYEQgXtBfwElQWuBYsE8QHs/u79Jf4H/jv+Mf6d/2YD1wZLB6AGtwXpBfoE5AJ2Aen/IQD6/8wAGQKVAeIB2ALhBO8E9QIrAQsAkP4x+8/33vU/9qH19PNA8o7yvPPJ9HT1kvWt9Ur2k/eV+PL3NfYk9fr1KPiB+fH5B/qR+jr7c/tU+wr7JPon+ZX40Ph4+jz74Psb/F39fQDwA+EHEgn2CA4J2wmQC0ML9QmMCREKigtLC0cKSAtADRAN/AqzBwoHIwZyBEECJACf/1EA8wGpAcwBgQH8AbwCkgFcAGv/vP6N/bT7IPqp+TP7h/yD/NX8O/2o/bP9n/z3+3n6Q/n3+Kr5yPsA/1YFphB+IGwwgDoyPdI9SkBoQSw9ajGrI7sYYhLGDQ4LFAVI/7n6sfhi+CXyAeeo2+TRBspGwbG5NrWsslqzN7elviXHvc9p113fWeZV7MvxAvYn+cH77v+DBpoNKhRlGfUetyNJJz0pnShUJWQfnRjnEdMLUgZ0AZD9Xvrs+Iv4QPlK+eX3FPbt8+fyNfKN8aXwAvBg8Wb0v/ht/VYCFQepCi8OeBGpE9ET1xFiDz0NDAtwCJsFRgLp/xr+OP2G/NL6Gfmv9rv0r/JR8PTtRewI66brQe3a76fz8vZE+x7+TAJNBb8HLAnpCVALhgy8DaMOyg9hEO4QQBHqEewRoBC8DrsLKQl2BmkEVQLW/4P+jf3D/Uv96fyj+z367vi193D2+/TG8wXzQvN08/H0z/XQ99L3R/nQ+Zz6zvvF+tj6Y/lh+SP6Kv5CCkkbLywqN9A930UsTq5S0E48RVs6rDDfJwIgFRj4EfELxgesBc4BIvxY8grmKNqJzUnCdLgSsC+qYqd1qSOvI7bBvVrFWM161ObZvd5I4r/lm+mw7iz2r/4RCPkRFxvnI04qKC9CMVAwWSy2JqMg0Rp0FT8QNwxyCNYFNQQVAxsBaf3n+Cn09e/X60DoKuUW44jilOSN6NHtPPPo+PD+QwQCCEcKqAulDLcMCQxpDDEOZxFoFOgWeRlRG9cbYRoyF4ASawxzBukAfPx6+Hb1efM/8jfxVPBw73TuJ+2t6/jq7+px60vsJu598QH2j/qd/rkCdQZvCW4LlQtJC3EKXwo/CdgIjghICRcL7QrhCggKegnzB4MENAFP/oD8EvuV+dn4zPhl+Ub60fn5+Ur6SPt3/DD8UPzX/KT9I/+k/3cA2QBCAAgA7/4S/xT+J/0D/If86/1WAFwEKQvUFWAfsyalKakrsi7oMEEwOysvJeAh8SGkIZwgzB5LHmUcNBd6EEsJIgFI9u7p/d8v2RfUKNCezVTNQs3rzPzMHc18zJLKhMioyDPKas0x0r3Y6eAd6Y/xrPmyAD4FQAdXCIoJAAs1DMcNKRBzE9gW1xlsHOUd8x0yHOUYMxV4EckNKwo7B9cF3wVUBrcG4gYQBtoDWwAx/X/6OPjP9cL0X/UU9275Lfwg/9YACAGxALcAdAAh/3b9Wv0M/mv/TQC4AY8DKgSvAy4C4gAi//b8xfqG+Sb5O/ny+Vv7Rv33/lgAVAHKAacB6QDJAAAB5AE6AuYC2gMHBR0GRAVlBagFlgbKBW0DSwKVAp0D0wKTAfoBGAP4AlwAWv6a/l3/2f3O+oX64vy//tD8efnE+IX7/vwa/Dz7W/ux/Qz+Fv0/+z77vPz6/fX9RP1//Rf/VQBy/6X+Cf4SALYA1QB5AuAEYgkWDqcV1h9ZJu0oSSeZJ5QohyapIqUezhzPHJccwxy1HJka2RbZEPAI6P4C9brsweXq3urYpNaH12TYJ9e51AXTptChzXvLvss5zr/QvNSF2ynkRewp8jv37fr4/MH9qv+aA2wHlAoIDgoTMxiRGmYatxgIFikSkA0SCvMHwwYkBhEG1gY8B3sGEAR9AO386vnG96L2Evf3+BL7G/1T/mz/1v8g/4T+9f0w/lr/dgKbB5UL+AyIDJwMrw4gDx0NJgrnBuUEWgL+/zj/8/6y/wj/0P2W+7b4cfUf8qjwjPD78tv1x/is+0n9v/50/gD+Mf3U/OL9vP9WA5wGRwgECZgIZAhMB2gFSwTfA5YD3gLzAd0BsgGkAKD/nf7N/b78B/yV/P/8Yvy++zb84v2w/cH77vg094b3AfgI+ev4Dfe89Rr09/RW9gn3x/jW+FH6evzu/fb+tvyn+ur7//vy+7P/vA0KJuY4nUCDQW9AQj5NNywzJjYkOyY81TpuPQA/XjXaIQ8NB/2g7gbkF+FJ47jhZth7z0rK/sNaupayyrK/uCy+18WG0c/a2d3r2zPd3OK46IjwY/tjCIQRoBW2GJEZlhZQEdUNGQ9YEssUeRaSFbYQegi5/4f45/IX8HnvLfEy87bzz/L57oXqyOfX53vqhe4L9XP8ngIjBoAHXQgZCOUH8wlCD/gV8BqjHXoeFx1qGpQWHxTiEsURCxGlD5ANSAlnAjr7sPRH8F/uDu5q7zvwRu+p7HvqTuly6V3r1O5I9DT6hf59AaoDSgVnBpcHkwkmDIsO1Q8aELcPLw6LCwkJNAfpBQAFygOuAb7+ePs/+Lj1PPTo80301fSz9Cz0mvOk8u7xavL780z2i/hy+qT7JPz5+0j8Pv1S/p7/9gAVAhwCwQAN//j9IP81APUBpAOEA0QCt/8e/pb9uP4GAO//agGfBb8QDyM1MFwyKiwfJDslCCvhMQ48A0KtQms6SDARK4YlByDXF+YR3g+3CYQBO/ay6MTbxNB0zITNJ8/xywTE4LsRtZqy3rXUvD/Fkcs2zmjQttMa2E3eEeYT7474VgFiCLkMqg53Dz4RzBWKG/QgIyRgIjce7RlcFrYVcxV8FEsTGhDbC04H7QHO/BH5APeD9qX2Lfb487Pwk+1/7FbulPEj9cn3PPkW+X74E/pl/VsCIQfkCXQMCg1eDVgO5Q1zDocOmg5LD7sO9Qw9CawFhwMcA4kEDAQiApT/N/vP9xT2Afa693b5JvoE+o/5+Pfk9vn3CPpR/T4APQLtAzEEoAPHA9oFnwjrCiUMEAwlC94ISwbXBFUE7APvAi8B7f4x/D/57vbE9TT1wPRO9H3zTvLt8N7vfvC98kv1r/bW96n4XvnW+av5m/oQ/Sr/9QADAo8CYQKsAZwCUAMzBiAIIAmrCngH+gS4AyEF9AYACM4MQBUZJJQpuijIJJ8c6B2AI4IujjlPOuM0JSqDIsocGxuPH20fhBpKDj8BU/qU8o7rZOdA5c/iNNvm0lDNBcj2wsu/6sI2yaLKN8gnxgLGDMi3yzLTQt5k5RnoFOli64bxEPjO/3YJDxBhE2sTEBSWF/EaXR57IUwktCRJIeIdchtOGlAZFBi/F64VbxC6CecDQwB1/SD8O/vD+OP0z++m7InrbOs77aDv3PCo73nuWe4N71PxAPUJ+43/EAAC/5b+5P+rAbkGVQ7tEikSzwuNB/YHbgprDmYQBBGfDrEJbAcWBzgJMAq2CIMHlQXKBFQDPAIeA0IDOgPBAjkCQgH6/gz9Lv0c/24ALAB6/wb+mvsO+mn6D/yu/Bn7EPle96T1f/TC9E32UfeF9kD1DfRY8y/zdfMZ9Uv2APeT99X35vj4+bD7D/0Y/Rz9XPzH/V7/bgCLAWcAgAA4ADMB3QJxA6UE6ANBBMsEQAVZBVYFoAVQBrIHOAmWDXEWuR9EId4csBauF9IfZiejLGEv2C1YJt4eTR3xIZomUCP/GyoUjgyeBaQAvP8b/Zj36u4y5w3j9ty61zPU39IV0knOdcvfyc3IRMdKxz3Mo9GO1MDUPdW42OTcSOJE6nnzfvlN+yj9dgE1CKYOOxQDGlodrx30HCYebiHbIwwlKSXHIx8hnxwMGQoX1hTyEgUQjQxpCP0CZP6B+jz4yPZz9M/xhu6964rpZegQ6XDqH+wf7J7rZOuE61TtyfBR9V/4H/k4+R77j/8zBGgI2gsUDVwMTwsdDJQPQhMFFlcW2BRJE5QR2BH0EnMTGhMKEXUOGAxTCm0I2AZXBqMFsgP4AFv+3vtE+o34PPfs9m31n/Nn8tHxm/Gp8ZvxN/GZ8AXwXvDi8YzzzPSC9av1BPaj9u73avm3+qv7Hvx4/O385f0b/7n/FwB2AHgAEQGNADYAGwDZ/00AbQAZAc4A//+j/wb/7f8WAGYAeQHMAeUBSAFlAUYCXAOuBD0GNgg6C2MP+RS1GrQa2RYMFO8W9R7NJRIpwCjEJOEdKRqZHB0j7iV2ITMYWA80CTgGMAdNBw0DL/oX78TmQeOW4bngr95w2TLTqc0xygrKhssczRrODc6XzTXOfNDa00fZat/a5LfpmO2s8WP2ffvSAQgJDQ8uE0YVThdJGeEbaR8vI8glTyXIIicgfx4cHjYevx1zG+8WPBE5DGcJ/gffBpUEbwBH+272OfMo8hbya/EZ7+brTOkX6NboSeoX7EPtge047bDtTO828sT1GPnL+wz+xP+DAe4DkgaLCdkMfA9MEekRShJYEyUVOhd8GG8YihYvFI0TGBSIFNAThBEwDqwKyAd8BkEG/QQ/ApP+cvq894L2avY49o30x/Gq7gLtAO3s7Rbv2O4L7jztKu1y7o/wyfIV9Jz0vfSD9Wn3hfnJ+1v9ZP7p/nH/pwBmAmEEHAUDBfkEsgQ9BQMGTQZ1BkkF9wPZAxsEkQT3Ax4DzAEeAR8BLgEXAhQCSwHCAPT/mv/9/hf/yP78/Wj+Gf8SBugN0hExEfUKDQk6DRoW3h9eJcMlER67GLIXgR3zJ7Uq2SjfH5MUaw/7D/MUhBbaEbgHZPwE9OTvpO/i8L7stuXv3L3VpdLp0KnRadKb0cPOcctSymLLRs5S0h/X3Nql3CbePOBS5U3rQvKx+Qj/VQKuA1UGVQsbEe0W9RpNHUod4xsyHEMeRyHTIvkhNx/fGvoWjRQuFEMU1RJBD/YJcQSBAJP+2/3n/Mr6QvcR87LvPu7w7inwVfCS7w7u5uxm7LHtnfCf82315vWN9gT4//km/cQAGQRuBqMH6gixCuAMkg9oEmYUdRSBE1ISERLFE8sV/BbYFaESqg75CysLOQuSC5AJfgUqAXf91PuZ+3L78vnd9ifzNfBP73nv6O/A7+juhe0e7W3t3e3s7nTv+e998BvxqPKW9Bf2Qfeh+BH6xftb/aH+YP9EAIsBFAOTBEgFSgX4BJQE1wR7BcQFrgVWBWoEjwN9A+0DKQSuA9QCWQLNAbQBAgI8AjIChwHcAVoCUgJpAvEBuwI9A4oDtgMVA5QDRwPCA+gEkQbpCtsOqxKCFIMSFhC1DyAUsRrZHzshgx5QGt4VDBVvGX8dXh4jGYcQggl0BUIF9QVBBVYAJPjj7xbp8+ac5lTlXeJb3ZzYRtTF0YrR/NJL1KrTadOJ0wbUo9XN1/3bRODH4xDnMOqe7ZnwfPSt+RP/cwTwB5EK1wz0DqAR8hQbGTwcZh2eHDwb3Br7GssbpBx4HFkaphYjE+kQzQ8ZD+cNsQswCBcEkQCP/pj92/yr+8v5ePc19YTz8PJP89fzz/Nt897ygPKc8qvzWPUp94D4i/mI+lD7Y/zs/UwAsQKhBE0GMQcDCI0ItAnjC7kNLg+vDzUPZA5hDSwNkA3hDXYNyAuoCYUHwwXtBNsDiwLzAI7+W/xW+sf46PcU9wH2xfRv8zLyv/HS8SLyGfIY8k/y3/KG8w70sPRY9eD1rfbq9xT5Cfr1+qP7mPyY/bv+0v+hAJcBWQIoA6kDgASsBTYGYQZBBosG3gZkB74HCwgBCHkHBAeQBqYG9AaEB5QH2wYxBq0EhwNxAzEErAU0BpcFSgSZAlUBNQFfAvkCbwJDAZD/Hv8z/9X/fALwBSAKigy9DBIMFgs+DJQODhOLFxQaCRojF3oUshKhEuwT6RT+Ez4QagsZB0EDFgBA/dn6tffc8i7u0+lL5QThHt3R2inZu9dI1tHUY9N40eXQ2dES1ADXydlc3AXe/d+i4rrmDeyJ8YH2efrQ/Q0BnQR6CFoMKxB/E0EWrhh7Gmwb+BsqHFYcsBwKHRAdQRxRGnkXqxRcEscQ2A95DiIMswgABdABa//d/cn8lPvi+d/3ffa/9Vv1JvX39OD08/S59f32efjQ+Y/67Pqv+yH9I/9rAR0D3APNA3sDzgNBBbMGpweaB68GzwUiBd0ErQQ/BG8DIALVAKP/7f4s/pz9rvx1+5/6H/pH+iD64fmJ+TT5GPkk+cD5Zfqd+uH6pft0/F/9gf78/hH/yv4f/wMA0QDxAWkCHAM4A+kC+wJsAn8CfwLAAjkDkQO4AzcDxAIsAu8B5QEcAi0D/QNZBAkEUANRAy8DnwOuBIUFrAYhB/4GGAfIBqsGCgdnB80HzQjHCEkIDgibB/wGRgYMBu0FXQYHBk4FigT7AmwBGAC8/+P/IQD3/9z+j/3X+0b6kfkM+Sz5ufhO+Nz3/vZS9vf18PXn9Rf2j/b19gP3ivcG+HT4Mvkh+qr6Nvuf+w78MP0a/gH/m//e/47/av/e/10A+wC2AX8CIQMVA5ACMwK6Ad4B8wGtAcQB6QJ6BNYFDQeXB7QH7gYJBm4GmAfpCOkJxAlZCWUIMQdKBmIFjQSrAy4C3wDR/+f+x/11/L/6+vhT92z29PU89Xj0UfM88rTwoe8473TvHvCC8Mnw+vBj8RryR/M69Pr0r/Wl9vT3yPkZ/Pr9A/+c/2gA/QAaAjEDrwSgBdQG8AclCNMHIQfGBkYGggZSB4YItgm8CYcIyAbKBIsDPwMmBIkFdgaQBrsFdAQZA0wC2AHNAZcBZQFWABcASwAvAA8Ak//m/nP+1P2W/WD+dP+c//D/VwB/ADEAq/+N/3v/of8rADYBIwKrArkC2QJ7AoICBwPkA8YEjwUaBskFlQWCBYwFBQYzB7QHQgeCBpMFBARaA+sDmwTdBbEFIgXnA2UCCgG9/6f/v/8OAHAARADm/7j+tfs1+nj5IPmX+VT6Mfp0+q35Rfjk98b3Hfha+Gn5QPu4+yz79/kF+aT57/uc/g4BqgG9AacB3gDRAKIAaAFXAvYDaAXCBcMF3AVGBvkFlwVABQsFfQQ/BJQE6APMA3cDAgMJA+QCAAIzAVEBqgC3/6v+2f2A/Vn9Gv3W/N388PxL/Uj9XPwz/Df8Evyp+8L7yPva+wL9ify5/B78J/z4/Nf9IP5P/f78cvz8/FX9Fv59/j0ATQCl/8f/vP+S/9n/o/++AMwB2QANAV0ADgC9/+4A7AEJA3EDnQFP/4L8Rft6/Jr+LAEiAlwAbP42/aP8Cfwh/Y79R/6M/m3+xf4Q/sP9I/4t/sL+pf7N/9sABAAS/y7/f/8IAGkBSQKfArwCoAKaApgCDwG8/0EAogEAA1oCmAEyAo0BfgGEAeD/if+I/jT/6f9mAGQAJv+C/97/hAA8/7f/wQHBAov/x/zP++f74/zc/g0ANgJSApoBUgGj/+X+kvw6/rb+b/1y/q8AuQFhA+wENgKi/8z+qf0b/lQAbgKmApAEQwKSACQASv8CAML/k/9HAL8CvAJMA64C4AGyASoBewDoAJ4AiwCcAU0CgQMIA7QC/QCxADwA/f/p/2v/JgE7AVABJQGRAE4Ax/9V/63/+P/l/pP+w/3O/+r+Uv+MAckBu/9u/zD+ff5pAAMAcAHnAPQAswBCAEIBvAAoAUgAjv8CAacBPwFt/xP/ev8RANEAlACEAAsBPQAa/8f+Dv49/wwAIv8E/oT+R/13/F39Nf4M/eD72fyL/Vf++f2y/a383Pwm/f/9QQAPASoBYwAXAEz/GP4Z/lQBSQFSANT/9gCuAVkBcAHfAPoA2gCwAZABqwAHASYAkAAwAYABQgFrAekA7v54/p7/vv86AJf/Wv40/pH+4/48/4D/dP5q/vr+BP4J/ZD8nP5//yj+ef+H/sL/rf9c/04BuQAdARgC7QB/APT/PwFNAjYDuQKZAvcCIQIfA+8BWwBFAaIC2QLvA9oDEAMRAnwA7f9jAZ8CqQNXAm8ByQAO/7D+Y//W/6L/MP4s/d/9Wf1q/x8A0v4/AEb+Xvxu/Kr9D/3a/tv++v1m/vT9uP4q/2T/kP4B/3b+DP8+AP7/jACWAVMAjgCHACsCLQM1AtMCSAH2AIkAswAJApUCRgMXA4sDeQPxAnECJgL9AEsAxwBjAV8B7AGlAcgAbQARAAP/n/+9/rn/p/6B/tb+Lf7I/f38B/4i/sf9i/7O/Zz+DP7G/CT+0/0D/rz++P2G/sH+LADJALIAlgD+/v3/rf8HAB8AQADhAEEAnAHpAFQBrAAu/7n+Mf6bAGUB+AGkAAMAAf98/n7/5/+kAP7+Xv7H/TP+Qv+h/47++f2A/gL+fP6y/zL/k/1R/Uz9xv3j/hIA3P46/u/9l/4n/0YBv/9F/7L/e/+SAAgAtQCTAVMCuwLsApsCqQGeAVAByAH6AaIBCgLwAQkCVQN2A/sBTQB5/0UAq/88AHQArv8cAIYA9QCEACX/4/6y/mL+A/2c/oz/aQCh/6H+qf7//cf+Rv5i/t/+SP+K/97/SwD+/53/dwCcAMIA+/+R/l3/n/98AIEAMAFvAWoBSwB8AKIAtgBuAH4AdgBIAKP/Sf+//1gAWAD8AFAABAD5AKsAXP/G/sH90v3x/n//AQD+AJ0AUQEeADr/zP///54BfgCBAUgAXgC2AXsALwICAXIARwDJAH0BkQAFAEAA2ABoAdUA2QDDACIBHwEyAP//5//Y/8EAxQCZAKQAGgB1Afb/x/7Q/YH+oP8rAPv/dP9M/ir++P7j/sT+ef9D/4n/QP7v/Wz9nP7b/6P/mv8S/8P+aP/WABEBagAq/73+2/53/2sApP8lADQAJwASAfsAcAFUAQkBvQDpAMwA3P/q/2r/dwBFAZEArAF0AiICHQF4AIX/CP/9/z7/8f93/3L/WAD//6n/IP7A/hj/Zv+J/7D/pf9j/w4AKwCN/1b/6P59/uP+2/9/AJ0AEwEKASAA8f90ABcAmQChAKIAr/95/4v/sv+yAK4A8wAlAWEA3P4r/0L/O//I/0v/Yv4b/wz/pP8YAKv/rP98/5X+5P7U/jf/3f/Z/j7/Vf/Y/sH/Jv/F/yAAj//a/1r/WQDJ//v/fgBSAM3/hP8yAHL/8f8yAOMAFgGjAPEAjgCzAHcA/P82AIcACwHbAFAA7P8eAAkBNAEuAeEAEQGSADEA0/9iAEMAsQBAAJb/lADv/wAALv+I/8T/Nf+O/6L/s/9s/4j/3v/R//MACABWAKQAPABbACYAlgAXAGkAwQBcAJ8ACQBzAMgAaAFYANUAt//B/1gA9AD9/6r+Xv++/2IA6f/p/ygAJwByALT/Nf8U/wX/kP8U/5r/KP9S/24Ak/8EAL/+//7y/vD/RQC+/8r/ZgDwAPoAcwD9/7f/rf+PACsACABmAPsAiQEfAW8APgAlAdUAgQDp//z/yQDNABkBugAUAsEAgQD8AKwA9v/J/5P/GgA+AOr/lv/v/sj+8P4U/23/5f4B/0T/pv9i//D+Fv7b/RL+Mv5L/17/AQB6/x//Af81/4D/HgDI/zT/6P+7/wAA4/8u/7v///9UAQMBBQGyABkAJwAVAFsA+wCxALYAMgHHALkA5AC+AC4BBgFbAToBgABTAHr/3/+j/yIA1QDP/0H/3f7g/qT+8v5d/7T+Yf5i/rT+8/4lAHf/q//5/mb/1P+f/yr/BAAiALIAMABj/7r/df+l/5cABAATAJQAKwDTAOwANADTAP4A0f9iAF0BVwADANH/GgB+AKcAGgC4/1//kv9p/6r/cv/D/6P//v9ZAHwAkQAhACYAoP5S/6v+TgDb/6X/6v/+/uP/OwDnAI8Amf9m//3/jwAoAU8AY//E/pr/GwAhAN8A4gDHABIB3/8ZAYQAdP9FACv/zv9J/4H/LwFBAggCvgFsAFH/J//D/mb/agCNAJ4AMQGTAMoAPAAQAJf/sf9s/4T+Sv/d/6oATADo/yX/zf8xAPH/k//h/yAAvf5jAFMAWQA9AC0AQwBaAJ//QwAtAGgAxQCOAG3/g/+0/3P/lgDr/3f/d/9h/1b//P8WAU8AsgBO/wv/8P8/Ac8AEQC1/m7+bQB9AM0BiwCr/8X/j/+N/+AA+P/O/+3/iP/t/4X/iQD9//P/+/8c/zP/KP94AEgAfwCXAMgAYQAKAP0A4AADAQAAv/8M/zsAvAAnAfT/Cv9I/8P/AQEiAbYA1v8Z/4gAvv+P/3wADgBDAIn/bP+9/1cAyQBp/2L+nv6l/2X/Yf4U/p/+af9IAIgA7f8RABUAPv94/xL/I//b/+n/tP8N/w3/nf9T/2YAigB3AWsAkgAyAPD/OACxANQAegBRACABTAAnACUADgDu/9P/AP+6/xAA1QAhAQMAZP4l/wv/E//c/2IAIwAMAKn/BgCBABsBHACl/1L/LQBG/87/AgCdAPYAxAB6AKMAmgDu/7r/iv/P//H/if8wAPz/BgHh/77+DABt/ycAW/8AAGT/Uv82/xIAvgEeAWX/7P7S/40AiADc/x0BtwAYAPD/3v8QACkAmv8QAPj/6f8IAMT/fgAp/w//5f/Y/sEAHwGTAFcA0QAKAHkAdf/D/7X/tP+P/wAA6v9IABH/lf82/3j+8v78/3YACwG4AJf/Lv/V/+T++P+s/+X/dgB5/0j/Yf+P/9wAagDNAN//SACi/x8BZv/+/6f/eADSATkA6gA1ANX/8v8IANEA2AAyAVsA8P6MAFYAUACoAfgAkQA5/y7/S//s/4b/0P97/nf/eP/BAP8B9f/y/7/+p/+1/6//wv5KAKMAJQF7/yf/vP+o/ysAnv/G/13//f9JAO//sQBo/1f/7v8m/2r/1P9t/o4Abf8V/6cA8P6VAPj/PQH5AIH/2P05/6sALwCRAI7/NAHEAcABZABtACUAMADFAI8ABgFOAGj/uf/8AB0A5v8aAAIBTACy/0AApwDX/w4Ab/7m/5X/WgGXAX3/4v4k/5L/Nf8r/x7/Ef+zAOcAtQG//wj/vf/FADQB6/6w/vr/gwAaAPL9ggCT/53/bv+tAPkCKQGHADb/ZwAkAVYAewB+/0oAMwBcAVUBNwBVAJz/zP8AAAf/OADa/jkAFwA1/qP+lP2CATcD5gIaART/Uv+S/UH/hv1y/Tj+vQAmAAMBLgG2ALr/Ev+mAJz+O/5n/mT+3/8NACUAoADg/lX+hf6A/hf/kv6H/xP/5/6gAKgApAEp/0//7v/pAfEC0gK8Ak4AmP90/7wA0QEOAN7/5gAkAfECQwBlAIj/zgB4AAv+Ef9aAAQBev/J/3D/0P+SARYAoPxy/sb+9/8sAFr/NP+uAMr/Ev7B/lcAfADG/7/9m/6tABMAuv/7/pL/4P+J/zcAOwHWATUBvQAz/wsAuP8UAasBEgJfARf/of/6A8MBhAAzAM8AOwDm/0MCjwHhAvT/D/9/AP7/9AB7AZEBz//8/4j/qv+mAIsAW//6/nj9Uf0CAH7/bwDWAdUADf8H/Zn96fx8/sn+zADy/03/eQD/AOIBAAEH/+L95/2y/hkAhQGbAYkBzv+9/2cBTwIVAp//JP59/bH+jQCMA4MDdQHl/0//2f75/qn/ZP+BAXwA1P8j//D92f4v/v38Of0//L77TP6X/kUBqQBf/uD9f/3z/REAwgDJ//n/BwHFAtoBFAF+AJz/Zv/k/2MA8v6t/2z+sP09/Vv8Ev+uALsBZwB9APUA2QDzAAEB/f/H//z/UAFiA8QDlgNSA2cDGwLwAOwA2f9L//7+UwDVAMkAuwC7AMAAgf/3/jj/Ev+u/4T/pv9D/4P+5P3P/eP+mv53/vL8k/yR/bD+Fv9K/13/jf+Q//f/0P/X/8j/3v7D/icA9f/I/23/B/8hAK3/6P8KADEAfABsALAAMgFXAcAAcABBAbsBBQGNACMAnP+Y/07/cgAPAqcCoQLiARsCiAEkAYoBOwGqAKD/PgCeAHUBdgF1AG3/4P4c/7T/sQAnAZYAO/+x/XL8j/zh/NT8c/xn/SL+RAA8Ag8DWQJiAA7/h/53/6EAvAH8AboBxgC2AK8AWwGIAfIAiwCrAI0ABwC2AOkAJ/85/U/8n/zR/rsAZQEJASwA8/+eAPwAdwH0ASACqgGBAbsBOwLYAoMCWgGBAB8AdQDQAJAAAgAaAHsA/wBzAXcBNAFjAJf/V/9pAJwBXwLfAtgCwAJAAloBagBO/579w/sm+lz53fn2+gL8afxU/J78/Pxy/aL9If38+2D77PqW+y78z/uy+uP41vbo9SX2WvZ/9qT3Sfh3+DH5svqm/Nf+kP/7/00AdwGOAw0FiwXwBPsDiQJUAWAAJwBcAFYANP8t/n/+AABLASwC2wL9Av8C6QIPA/wDdQSPBPMDxwI4AvUBFwHrAFoAof4z/DL6ovjF9kv1A/T18jvwee4X7JHozuUR5o/wTwjQKeZKjmR9dPF8/39tfhB5Zm14WM06xBmZ+iHhwM5wwY+3ZrB5q3Cr6q97t4K/1MQ/x/3H7cox0BjZz+NW8MX+Yw+/IBAwYTyDRB9H60IyNxUlFg4P9Xbc6MXUs3enS6CnnrehfqqQuabLAN557379qwhsEv8aUiNuKgUvJjCXL5wvXTE9NNk1RzPFKtEdRw73/070Wupy4CfW7s5izQfSC9wC6cn1BgFGCgcR5xczHqchmiEPHWEW7Q/3Ct0H9QSzASL++vkg9zL3RPil+Av4rPSi8U/v3e4D8JjyffVz9yz66/yXAPcE2gdJCHUHeAZ+BmwHIghgCG8HqQVCA3EBYQJDA/cDLQPnAIz+j/z1+vv5Z/g89nr0jPId85H1ivhJ/OL/KgJMBW0I+glLDFoNYAxKCqEIRQa+BvcHHQh9B3YGQQR+Aej+ePnV8gjuGOwN87YJ4yrfS1hiI2uSbKpr3mcuXhhMWzDfDd/rws/avKm0ObXcuNm7CL+bxuvS9+De6trsaukC5Sjkuuev7476vAUxEI8ZhSJGLNM06zcGMacg9AjK77bZ/MZrtxmrLKNAodiltbEMxCjad+9NACoMsxQqGyQfqR9VHT4Z2RSeETIRZBTBGesdwx3QGHcR2Ajz/rXzauiD3njXetP90xbbjuf+9tYFPxJAHEUkeykAK+0onSPtG+wSPQqjA77/pf0H+x74EvUH8/Pxk/GM8THxsPCL7zXvbvH/9Yr7YQDzA08GswcwCFwH3AVaAyH/3/mh9QDzcfIQ9DT25Ph4/H4AwQQeCRoMAw0bDAUJeAVVAhoAXP4n/ab8t/yb/jUBigSOB14JiAnGCE4H8QWWBXkEbwN+ARwA7v65/gH/wP+g/+L+2v7z/uH/GwIfA0oCNwFT//383fuD+jb4xvbN96X/nRHBK/RGkluDZvdoNWWQXJFObTlOHFL6Mdj7vAettKe7qQmwSbgqwpvOpdyl6UXzuff/9qD19PZm/HgFlhBbG2IkVCuFMDMz2TGhKXwYDABy5APL5bYJqTihr54mopmrY7tW0PvngP6yEMwcmCMIJ6ooeCj5JekhVx33GbsY+RiJGTYYkRM0C1kAwPT96Fzd1NKrylXGMsd0zqHbgexT/k0P/x38KfAyzjerN10yRih/G90ONgTk+9T1uPB37CXqqukh62zuBPJi9I71e/b89xr7kf8PBJAHEQpyC9oLsgtXCt4H2QNu/qX4GvS98X7x4/I79Q34EPwRAVQG1wo2Dq8P4g6IDAoJ8gTjAKX8JvhL9J3yXPMO9hL6gv7RAoEGNwqCDCYOlw64DfsKvQeYBOwBHwDz/qz9ofxL/Dj8oPxW/YP9Nf0B/fX8uP02/50AFQJIAnMCqAKDAkQCWgBR/OP33vZr/PML3SEFOJpKXVbVWrdaWlZ0S9M3Thtc+ZXZVcExstGq1ak+rty2CMOc0tvjafNX/QcB2wD+AA8E+wioDqcT3RidHQciwiSEJIwfvhMTAUjq99OcwW20AaxMqHiq07Pqw8TYnO+kBWsYiCW/LEIvuy6iK94lXh2qFEYOzQriCK0GaQM2/wD6n/O27Pjl+N8W263Xxddj3RnoFfYxBeMTFiJVLsA20TnHNiQuaiGIEp4Dy/Zc7f/mXuOf4nDkMOkW8Db3Sv18AcUD7QQhBUEFMwWGBFED9QEnAZkB9AGcAQ8AaP2Q+p/4/PbE9g/4Z/mH+3f+AwL6BngLCw4NDj8MggkXBqMCv/7Q+sf3mPVI9e72l/qJ/0sEJwhAC3gNYQ4eDq8LuAd5A3L/J/zf+VT4D/h7+NX5v/tw/jYBPwNeBHgEkAPLA8EDnwM2A3cC6wBRAOkA0QEnA44D0QFV/q/6Kffl9Wb1zfMu87z3vAVsHPw1bks2Wcte8VuqUt5DzS8YFYv0QtOhuZ6rYahSrLe0KcB3zojcl+oo908BUAZXBcECkwFeBZMLhBJmGHkcfR75HCkYFhAhA87xcNwVyG+4JrC5rkSz8bzcy/beQPRuCQ4c1imtMCgweSroIkkbGxQTDe8GOAKX/5f+1f7E/vb8gPi48bbq5+Rs4ZDgq+Ks58fvivs+Clka7ig4M8Q3dDYSMLElgxiECTH67+uk4Drar9kn3vXlye7x91AAIQc3DLoO3A7ODKUI9wOTAJ/+u/5N/xkANwCM/xz+VvyD+sv4Sffg9cr1o/dS+ygAXwViCcgLfwyUC1YJFwbuAXH9hfmX9s71NfcH+w4A5wQICWIMrA6ZD2wORQu7Bn8BLfzH98n0w/O187z0qvYt+SX8zf5UAS8DQQXZBbUGvQbXB74I1wlgCloJoAcwBe0BOf9X/SX7Kvp4+Y743vmU/KH+CgAY/3P7l/bi8c7wzvpsEA8pnD31S/5VDV/wYbJZK0fdLfEO4O1kzi65V6+trLysnK/MukzN6eDH7zT57f7rAbcD9gQeCB0N5hGOFL0VwBd7GZgYJRE6A2Xwat1pzFq+dLRAsBOy6LloxibYQe4fBagYUyXFK9ItdyylJ4wfLha4DI4EKP+4/MT8wv3c/dT7sfhV9Tvyge9T7KjpBOkX7GDzP/68ClIX0SGhKGEr9ymRJckdqxK8BBj3Vuxh5rTkreZM68TxJflTALIGfQsnDgAOdgtWB4MD2AAbAGcApgBdAJ3/6f5r/jz9Avvt92X0s/EN8TXzzPfr/VgE8AkoDoARFxPXEocQBAwiBvv/IPqz9anyW/H98ILy6PSG+Kf8agBtA0kF/AXsBbgFiQURBVUEEQMjAXX/Ov7J/fz9Ff4I/vb9Pv4c/2MAyQJVBAoGCQdsB+IGTQawBB8D4QFFANT+p/2U/Jn8mv3h/o4AuQGQAhcEeQWTB/oIxAcdBPL/l/vy9/D1V/Wn9sT6SwKkDy4nGUNgWF9esVYUSZk6uybbC5TskNHqvWuwVKofsDHBStWc4zPrmfOl/i8IRwomB8cDegO2BDAH2QwAFW8bZRp4Eh8HJPvY7Yfez83kv5G3uLWaujjGV9j/7FYApg8qG6Ij3yeBJi4gYBYfDAID/vyq+l38yf+yAVwBxv/7/aH7KviU8zzur+kG6BDrGvPx/l0MHhkjI0ApxitpKl4lwBsQDn/+SPCn5Vvg9t+f45npjPD09/7+HAVwCdgLRAsnCFUEKQIAAyoGOwpGDhARARLvEBgOMAqmBFT9+/Sl7onrruwj8ZL4KQHkCLgOOxKREwYTDQ+1B+P+PvZu8Hrtk+3n7xv0VPlI/egASAP/BCsFsAPXAE/+jfwt/DL8s/xS/Wb+CP9+/kP9Yvyv+9P6ivkK+Zf5jftM/sQAdQNQBe8FkgS2AiYBHgAZ/zH+7/x3/Vr+uAAMAwcFVAZoBhMGJwX5A34COQB+/m780Ps+/An9dP/YAdIE2AbbB+IHZQZ1BEICzv1I+hv3bPUL93b/rhQBMa5KAFj/WTlXCFAnQqsqOw078H7UuLxvrVCr2bU3xBXQQdnU4/Luc/da+kj61/lc+ZD6b/5kCN0Udx+QI1YioxzuEjUEjfHt3ObJCbs3sVSvgrUWxMzXnet0/bMMoBirIG0iOB9nGIoQSQltBBgELgifDqYS/hLaD6wL9gWW/WnzWelJ4eDcN90p5F7wF/+HDWMZaSK3J6gpWicCIIgUwAdm/Gb05+8m78nx2fUG+Qf7qvw1/kL+pPtO97/zf/I59BL5dQEWDJ4WvB6+IyAlHSQpH8QWaQuA/9n0Ee0x6EPnVOr070j2F/wiAX4FKgifB+QEcgEz/p/7gfo2+yv+WAILBr4IYwkKCZUGfAJI/dn3ofNw8Hbux+7V8Bj1oPmL/iUDRgcKCqcKJQmVBpcDfQCx/V/7g/rT+nn87f64AagEfgbTBuYFgAMbAWT+DPy3+jX6fvrd+5r98/9mAkcEhAReA44AW/3V+tT4gPjt+bD7gP8rAzMHhwr2DGoMrgrJBhcCtP0T+rL4pPgv+3/+IAN2BhUJuAgOBqYAmfnd8WTr9+dG7o4DnSSWRLJXql1vWnNSokLjKZUMAvDE1ybCULUktszEYdgk5z3vZ/S4+Ir6F/p7+DL5z/pd/gQEKA/VHcwpji7qKOcaFAdR78DW2cFksoCqV6kbr/y8HtPm670CHxNQG5AcQxhaERAKaASOAKH9v/vn/FkB0Qc3DBEL8QNc+Yzu++VC4c3gV+SL7Kj3pAUxFNAhWSzIMQAwuicAHHcP+AMi+iHzSfD08Y31u/nK/a4CRge5CbIIBAaaA7QCDwK7AnkEfgj0DDIQRhHHEI0OuQnYAUj4Me/R6K/k+OIT5G3oSu9Y9gf9qgLOB7cLEA7YDmwOZA0nC78IAgYHBDUCQgB5/i/8sPpM+bD43/gm+VD6afoQ/Oz9KgGyAyAGbQfwCAgKGwqCCY4HyQT/AMv8bvlj9+D2YPeD+M75CPwG/rD/EAEqATMB5/8W/wH+Jf4y/9gAMwNJBVIHZQjWCMYIvQdlBiwEPAEE/0v9sfwS/k//cAAQAlECUAKDAkwChgHRACEAK/97/zsAjwFgAmECVQKxAAEBVQBUADgADgCoAJUAEAJgAnED8gPbA6cD1QKJARcBAAAOANz/6v/f/7D/4P9NACwB4gHPAR4BxACBAD4BUQKyAlUC0gDR///92/01/b38DPxt+tD5Nfmp+cH6dPuU+zT7efnV92z2iPV/9R/2n/Xa9Vf0EfPG8f7vmu9A7xDvW+++9ncIryQCQSVSn1NoSUI4aCKyCqTx9t0t0J/G9cPOyC3W0uYn8pX11vI87zfsxetN7zD3rgMREsgebCnJLycxDyt8HR8KEfRb4K7S/cx3zybXAeJf7WP3zP4VAroCSACp/MX4yvU79q77lAVBEZsaMh9pHpgaUxO9CosA9vZ572LrYOsa76v2/P42BvQJ3QkhCIEF/wIHAcoAtAOiCI0OWBPJFooYAxjwE6kMvwJU+XrxF+1V7PHubPR0+vX/6ANkBpwH+wZOBXwCygBvADACiQV3CSwNkg+yDzUN6Qc6AVn6a/RB8DnuWO7y8K/1MPusAJ0EyQYlB50FBAS3AWYBqAGkA4gFyAdwCWUKEApjBzgDZv0N9z3x++zU65Dt3PEe92z8ygB1BHEGwwZ2BWIDzwEkAEMAiwANAiADAgMWAuL/VP0o+v72NPTk8snyd/RB9yT64f1iALoC2wMiA3oCcwCc/yD/DQATAZECBQSzBLYFlgU/BWwEtgKsAfb/rwA0Ae8CmgPpA3MEhQSABT4FUQWPBD4EowOrA18D/QP8A9cEKAXKBfkFvAVBBUkEjwMzAoMB1P8l/5r+6v6OAGABCwJcALP+dPtV+kr5iflQ+0b7dv1c/dr96P0h/R/8J/uU+dj4fvmg+mX9UP+SAKf/Y/3W+fT2/fWV9UT3efcJ9lj1Ffj0AgoW2irIOaY+GjnAKhMbMQvq/7n4hfL/7W/qnulP6oXq5OgX5FfeK9nn2J3fhuw6/LsKFBYrHNIc+xd9D68GYP4F+HLyWe+X7szvGfFD8OHsred24mver91Q4UDoWPIK/LYDYgnIDDcPHBBcD9cNfgz/C5IMDg1TDYULkgc/Ad/5PPTg8AvxefNf98n8UgKUB3MLdQ22DoQOfQ7BDWMNhw20Df0MvAqkBogChf55+0v53fdy90z3gfep9+D3vfjc+Xb8Lv8oA/gGbQoyDa0NzQxJChkHNwQUAt8AggCTAJ3/Y/7X+0r5K/fQ9UP2yfcZ+/j+IQMxB9wJiQwrDUENogsvCv4IpggRCGwGVAR4AY7/sf3c+yz6GPj49p/11vVd9r74QvuI/df/DQFmA8EEdQbSBl0GIQXaAsQAT/6q/Af7s/m0+LP3Qveg9n/2Mfa/9mr3B/nv+vj8m/+NAYQDpwQ3BeIEpgTmA0wDggI/AaT/U/5p/Xv9Xv6GAEoC3wPTA3ACxADt/vv93P0K/xwB6gNrBnEIiAhZCA8HiQbNBRUGJwbVBlQH4QaEBucELgR4AkcBTQCb/wkAxP+LALj/oADJ/9n/0f+F//AAjgCRAfMA2QDw/wz/Rv02/FX7p/r4+4n8Rf9DAOkAOP/G+2H4TvQX85ryBPTn9LH0P/SL+cQEOhXkIlAoVCUcHeIRqQl/BdMGfArVCRgFt/xF9GLspeSy3prbZN1C4tvpM/PR+00BuQGF/jj7NvoZ/Pf/mAUOCjcM5wgLAvn5ovII7tDqoumj6X7qTuso63Hruerv6jTr3Oy48cr53AM8DGcRfhLuENMOtAxTDF0Nsw7yDhQNQglmBRgBbP1C+l74rvjk+jj+OQJ8Bf8HugirCMcH9QcSCUQLvg3zDo8OgQxiCeoFIAOvABf/3v0k/Mr6tviE90v2Evb39bv2aPiP+sf9DQBwAnoDKgR+BCYFBAbKBkMH9AWKBJUBgf8B/gP98fxs/Jr86/yW/bb+P/8GAQ0CCgRNBb0G1wcrCbEJGArwCkQLlQzcCwQKeQZxAvv+7/3dAGQFvwoGClgESPyc9Enz+fOH+MD8/P84AjwBKwGQ/+b+wv3a/Hn+VAGcBKQFagNB/if5M/QH86b0QvgV/P38/fvs+Eb3IPaJ90b6tf2yAeoDxgSEBCoDBgKyAMAAywHMA5IFtQVMBEsBvv28+mT50Pm/+5T9EP/3/rb+OP7J/v//kgIRBbMHHgnlCFUHCAS+Af7+Lv8HAFECGgTmA6EC1f8X/wj+SP/C//EASAFrAIb/bv7w/tH/hAAfAOD/Df8P/wEAw/8AAmUCSQLhAvz/KAGS/3MAq/8A/1X/LP6U/uT7e/qr9xb2svQH9Sf3JvmW/D4BXApJFQYdSRxZFxYR9A+kEQcUdhbKFiESAQhH+mnw6+tT6wrsWeuf7NDsGe3t60/rXe1D8Oj04/jB/Pv/6gC9/4T9evvN+9P8g/6J/nr9W/qP9W7wF+wl6mzq+eqW60HrbuoK6xLrYu788Ub3fP0YApQHsgosDeYOFA9eEHQRpBIkFNYSVhDHC6QH5AS+A+gDqgMWA8cBtf/Z/mL+vf95ARID4QTvBfAH/giyCdgJuAj0CDgISgj1B+QGfwWbAqL/1vxb++X6zfrF+gH6X/lZ+Ab46ves+PD5Y/tV/fD+PQEdAxIFYAZSBzcITwihCKgHIAeRBXkE0wKJAUAACf83/l79ufxr/JP83P1Q/9sBdQRXCGcLogsrCZYDhAAs/5wBlARkB7wICgjEBWQBUP7w+9X95wDaA/oDqgCE/Lz5QfuR/j8DFgboBbwDrP70+ib6t/1VAfkCvwDq+xz4R/WA9aD3yPpL/X39q/wr+gP5ZfhV+QT74/y4/sP+cf6//Mr7RfuO+3X8o/0G/1X/3P6x/bv8hfwr/UP+l//FAJIARACg/7cASAI3BKQFSgb8BqQGUAZtBV4FgAW1BaQF/QSBBLoDQgPQAr0CFAOJA5YDhgM7AusBHwFcAQECRwOgBEoFcgVpAz4CO//h/r3+1gEPA/MD8QEt/cH6A/jT98/4z/lc+hr63vlN+KT30Pix+LH7T/1O/7D/agAP/oX8YvzM+oH+5v3q/8f+Lv2G+4n8pwTiDzcYLxeiD6kJmgdRC+EOIhJjE+YOeQYK/FP2KfbM91z4rvWO9NDyPvKL8Jvv1/CK8sz0ofZA+BX6K/ox+Ij2Y/Y5+fz8Wf+k/jH8Svjk9HnySvLw82j1l/Vn8orvdu0f7hjx0fTS+MT7uv1p/m7/HwHDBL4IPgzoDTIOCg6iDaQN2wztDFMMJAxIC8YJDggfBokEAQPXAVIBawADAOr+M/6f/dL9wv6JAF4CtAPeBC8FWAXRBHoE4wQ5BQIGHgX8A54BVAAf/xr/Cv8K/9j+tf1m/KH6fvq0+r/7S/1E/Zf+z/6X/4oBrQKyBUgG1QjYCHAKyguCC8EM7QoGChoI3AV8A50CHABr/0T+DP08/sT9jf2d/KH8If10/Qz/TP/cBCMInAm0B1EBAv9i/kIDfAjSCzMLWQSm/aX3VvdZ+qD9J/8t/Rf5lPTC8gHzUPZ7+Iz69/tk/CX9gPwQ/UH+OADtAV4BMwGP/lD8ZPpb+QD7gfx4/RD90fub+sj6Jvwh/o7/nv8C/5v9pvxQ/Jn92//3AV8C3QHOAE8A2ADNAXsD9ARSBmcGgwWmA+MBPwDM/+D/ugCLAQ4BoP8J/vL9sf5hAQcDqgMqAwUCSAFeAewBhwPKBJEETAQPA4QC9wJXAscCPAN2Aq4DGAH+AJL+Mv68/hMAXgJkAsgCOP4B/k78yP0d/4f/LP/o/HT6jPiv+cD6tPz4+lr6O/g7+PX4Pfrd/Hv93P1m/qH8Ev4q/0kAcQHNAFsELAq+D7IPDgzlCMgItgznEFkTdRLPDXMGvAA5/Tv9qf7L/Qr6ufSO8DXva/BD82P0zPRJ9G70KvUx9az1Tfam90L4Tvid+WH6U/sH+m74Qvju+L36GPvk+Sj4Wfa49WD1JvaL9xn5rPl8+LH3kfgA+xf+UgBYAt4DQgSFBBAF1gYCCVoKewsdC7gK6QnDCV4KjQqvClEKDgkpCKEGCwZaBZAE/QNBA64CjgHlAGEA3P/w/10AFwHTAbABdAHGABABfgFwAkcD/AKbAnwBvACnAB4B2wEBAjkBjADP/1r/JP+I/8D/uf9V/2P/cv9i/1L/8f93AHkBggKAAw4E/wP7A44ELAVNBuUGFgdCBh0G7AX+BZ4GXQbwBREFRAOQAmcBbwGEAE4AAv/w/av96ftd/PX6hfxD/N38kf0VAMcEXwdJBkUBov2h/B0AhgNlBZAD2v2W9rTyzPWF/D4CogE2/WL4DfZC+KX9dASMB8QERv8t+jX6ovzw/20BegAJ/rb6zfjN95r4UflD+m/6e/o2+oj5M/mY+Uf7hf2K/3YASQCf//j+Cv86ABUCGQPuAikBAf+p/VD9eP7k/0gBXgHuAEYAiwBOAusE6wZWB3sG0ATIAxgEzQVOB4AHqAaPBbIEDwTIBN4FvAZbBhEGLwYEBkUGdAXbBEoDZgJqAZwAlv7V/L77qfv3+3/7Ovxj+1j77voX+zL83P3M/Mb74PsN+tn8hP3S/IX91/ot+8n6L/yb/YD/6v/O/GH+7fsz/X78xfsd/JH7HPsJ+2r6Vvr0+lz9Tf7q/Rz9u/xF/ykADgLDACIAKwCo/+D/3P48ADsEVwn/C/oLLAk6CRgKuA2OENES4BJeDxIKXAXnA/QE7ATnAjL+Gfpt92H2Ivcy94X3iPbX9PHzTvO28xD03vMJ9PnzIfWc9l/3kPfk9hP3sveN+JX5sPmD+SD4t/aF9vX23PeI+K/4pviJ+KT4oPmD+xr+7P8eAZsBKgJdAyEFlwYDCRwKTQtICx0Lvwt/DM8N0g12DYUMrwuxCl8Jxwj1B2cHOAaMBCwDZAIGAqMBIgFxAPH/L/+O/in+PP6p/uv+Tv///hz/Kf9z/9f/l//5/x4AYQCUAIEA0wCUACYAEQBYAO8AagGfAd0BwgFeAd8BRAIQA4cD7wLtAkUCOgLcAjcDDAQCBOADJQQlBPgEHAQgBAMD6AGjAaAAdABHANf+q/5P/tf9vv6H/nD+hP7S/Wr+af6I/1wBzAOnBAoC1/5b+6H7//20/4sAmv64+1f6nPp9/YwBwQOjAon/Ovzs+379Mv9EAO3+Mfw/+cP3V/if+Xz5M/n++GT6M/wT/Rv9gPuK+ln6dfvL/Q3/Qf6A+2D43vYV+GT7a/7t/6L+qfzk+0H9XgC1A4MFKAVBA3QB3AAsAXICZgO5A4EDSwNrA6IDFwSwBEQFrAXiBQkGKgaZBeYEXAQiBEMEBwWoBbcFMwVEBH8DFwMfA5kDEATcA0ADmgIeAi8BCgDf/ob+yP6y/+n/ZP9i/if9aPyw+y/8A/3W/bj9aP18/U3+6/8JAckAS/+J/Xz8qvzy/Gj9Pv2Z/O37OvtU+4X7uvtJ/OP7wvsn/HT8Mv2A/Tv99fzx/Lz8Av0A/fX8HP3e/D/9sP3N/dL+rf5m/lH+kP3j/Rj+O/5u/iD+qP0z/cD8Lv10/Uv+5P6g/34ANQGdArkD8gQmBngGuQbwBlwHwAcmCCkI8AcICM8HpAdqBwUH3AZvBg8GqgWUBK8DiQJ2AY8AQf/E/RT8wvoR+oD5evn2+DT4m/cN9+b26vYj9yb31PZF9tj16vUr9oH2wfbT9u32KPeu92n4Efne+Yr6QfsP/Nf82f3M/sP/wgC9AccC1wPJBOoF/QYFCNEIgQkkCskKoAtRDN4MDg3pDL8MqQxwDEoM7gtDC1YKPwkvCFQHmgbWBQEFQQSPA/oCcgKzAbUAoP+k/tn9OP3O/Gn8+/uD+yL7yvqr+rv6xfra+vv6Ffs5+2H7lfuH+1z7aPub+9z7PvzA/ED95v2Z/kb/AwDsANgBsQJUA9ADAgQ+BJgEvQTfBNgEwwS0BKQE0wQyBYIF0AXFBcsFAgZuBjQHQQdtBiEFbAP4AaYAW/8O/kL8cvr2+AH4u/e397H3lPdG9/D2pvZY9h/29fWc9UX1G/VI9cj1Ufbf9or3aviU+c76Cfw6/Tv+Hf/I/3QAJAHdAX0CHQPBA2YE/QSKBQkGlgYfB3QHpgefB7IHrAfEB+8HCAgXCO8H1genB1sH8wZ1BtoFQgWZBOwDQAOGAvgBVAHOAGoAJQDV/3D/Hf/D/p7+cf5B/t/9df0n/cT8e/w4/Pb78fvj+yf8fPyC/I/8WPxL/FP8Qfw+/NT7f/tb+4r7RPzp/I/91P2b/Y39zP0V/oj+u/6H/i/+Cv4x/mT+XP75/Z79Uv2d/WP+Pf+s/6X/O//J/qn+2/7z/tD+jf5A/kv+qf4Z/1r/WP8n/xr/W//Q/zUAeQCRAHkAgABzAE8AFgDQ/73/5f8WAEkAOgABAOL/6f8aAD0AIwC0/w//tv7l/lT/rf91/wT/6f58/+4A0QJUBDAFfgW7BT4GIQf1BwwIuwf0Bj4GFAYPBgkG6wWrBXUFKQWtBBkENAMhArYAXf/w/X38Gfup+YX4v/fv9nv2LvbO9f71RfaD9pL2qfar9uf2bPft9134vfgn+dD5nfqK+0n82fx5/UH+Wf96AIIBMgKdAlADLQQoBVcGKAe0BzsI9gjlCc0KgAvXC+kL6gsvDJMMrgxGDJMLmAq/CUcJ4gh0CNUHxwamBYsEiAPJAsgBkQBh/yb+1vzn+zX7jPrE+fz4TPi191H3G/dK93X3fPea9533sfdM+P74pPlW+vz6gPsk/Af97/2i/iz/iP/k/5YATgH2AXUCowKgAsMCHAOeA0cExQT0BPAE1gTUBPQEDAUyBUoFQQUvBe0EigQIBGQDtQLYARkBjADQ/yP/av6N/cb8GPyj+3b7UPvk+i36bfmU+N/3e/co9+32y/a/9uz2Vffi93b4CPmg+Vn6Q/tK/FX9Qv7w/p3/UAAJARICJgPxA6gEOQWwBSsGlgbUBugG9Ab8BugGzAatBqAGhgZCBh0GDAb7Bf0F7wWvBVUF2AQxBJQDFAOPAgYCgAHFACMAxP9K//z+vf5s/lX+If4L/hj+Df5G/jT+1f2q/TT97Pzd/LL8rvxS/On7gPvO+qD6i/pn+oP6R/o8+oX6zvqL+yL8VfxV/E/8r/wb/bT9OP4R/uX9hv17/Tf+n/5F/8r/8P9PADwAWAB+AJ4ADgGXAL4AuQCd/8n/jv+O/4YA6//R/87/NP86AKUALAHRAacAoQDRACQBqwLFAtkCpwK8AWQCjgISA4kDewJTAo4B8ABSAeQA9ACUAIj/Wf+K/nf+mf4v/oT+8P1E/Tv9wfwp/YX9av1O/Wv8JPyu/Oj9FgCIAU8CxALrAu4DWQWCBhEHiwajBe4E3wSDBc4FagXHBPADpwMFBH4EZgTFA6ACWQFBAHD/u/7v/fL8+fst+3j6EPrJ+bX5lPlx+WH5TvlI+VD5bPll+UT57/i5+Mr4S/kD+q76HvtN+6P7Yfyi/d/+6/+xABkBlgF0ApwDygSFBdgFAQY/BuQG0geYCDEJSQkVCUQJpQkvCrIKkQrlCT8JdAjjB7IHSgetBsQFnASiA/ACawL1AWYBnAC+/xb/0v6g/jD+Y/1//Mz7Yftr+5T7hPtZ+/D6rfoH+3/7+vtM/C/8FPzO+5r7ofuS+4L7c/tI+x77EPsu+3T7FPzu/JP9Df5P/pj+Hv94/5z/h/8d/67+df5r/rP+Mv+f//7/lgBYAQcCkgL9AioDSgNzA1ED8wKaAh0CsQGGAYgBkwGXAaABrgHGAeIB4AHOAa8BggFqAUUBEwHcAJ8AmwDBAPoAJwFIAVgBWAFlAUUBsQAEAF//1/65/pv+Vv7v/Uz9M/2o/X7+mv8MAA8A9P/a/1sA5AD9AJ8ABgDP//X/pACaAbkBXgH+AMAANgESAn4CIAJHAX8A8/+X/6f/QP+U/vf9iP2F/Zv9zP3F/U39B/2w/EH8Cvyp+4H7g/ta+zL72/qH+lz6R/qv+tT6qPq/+tT6U/v/+1H8Wvy0+zb7Xfvo+6r8Av0v/fb8z/zU/Q3/WABLAS8BVwF9Af8BjwMzBFkETQTcA7wD2gN5BBoFrASCBE8E5QNEBFcEdwQ1BBUDJgKmAH//bv+N/wsAFQDv/9f/yv8TAcACUARzBXkFaAVGBaIFMwYYBqEFjgSwA3ADfQMkBF8EDQSFA7UCPwKrATMBlwBQ/xH+fvwH++35p/jy93z3A/fr9oL2KPZF9j72XfZ/9jb25PW19f71sfZs9xz4PPg9+I74Jfmo+mP83P3d/gX/af/y/6sA7QH+AvsDfwRMBaQGkgffCLwJ8QmqCi4LpAuCDOkMOQ0kDREN1QzlC4ALPQsVC0ULHAuUCk0JpweLBkkFOgRgA9QB/f+H/m79hPy5+//64/ms+AH4jfdT9133QfcX9xT3LPdU92f3zvdu+DT5dvp++x78xfx2/Wb+Vv9KAA8BYAHHAVICuQJMA90DcATpBB4F7gRRBL0DzgMHBCQE3QMmA0UC0wEfAocCfALqAQUBzABiATMCpgItAgkBIgDB/yIAtACZABIAV/9S/xIAsgAFAWYAKv+D/kD+oP45/+j+qf5p/oP+jv+p/9f/VQBNAFEB1AHkARQCmwH6AW4ClgKhApkB2QCvAA8BugFvAZUATP8v/nD+3v5O/+7+Xv3++6f6WfqF+uH59/i/97L2gfbT9nn34ve896/3xfc/+Bv58vl9+qr6XPr++Qz6OPqQ+vX6EPvc+pz6Afvj+9b8qf1k/sf+C/+n/7IArAGgAhsDbwN3A9cDlQQrBc8FSQaMBnwGRQZWBlMG7QV4BcwE1gMtA8oC2wLBAocCDQIiAV4Az/+i/6D/mP9a/67+F/62/Z/9uP0B/g3+xv2W/d79Y/7s/k//bf9a/2D/1f+bAJUBgAL1AhwDKQOFAwEEJARGBDoESARWBB4E4gNZA+wC0wIVA2UDvgPSA+4DJwRJBFAEqQPrAhQCHgGrABgAzP93/8j+qf67/qP+wP4+/iD+9f2Q/Xf9p/y2+7H6cfm3+JX4C/nG+U/6A/tz+5r76vto/B/9nP3G/fT9DP56/kf////VAIEBCwLNAvEDWAWZBjEHjweZB5sHlAdJBwwHpAYIBpwFZAUxBdgEVATsA4gDOwPwAmcC8gFgAeMApwA0ALn/HP9G/tz9m/08/Zn8Cfx3+wL79/oe+x37S/s9+zj7nfvw+6H8Pv1t/Qb+Qf5o/s7+nP6Z/nL+eP7H/vX+Jf8x/1r/tP/p/wAALwAzAFwAigC+ALgAagDR/yf/tv6U/ub+7v7g/sj+pf7p/hj/Nf82/9D+pP6Y/q3+Ef9A/3r/kv+T/+H/AABAAKAA/ACiAR4ClgLhAvcCOQNIA1IDagNLA0MDcwO7AwoETQQqBOED2gO9A6YDpQNNA9wCXgLLAUwB2QBTAKP/xv77/XT9m/26/f79MP7F/ej8H/wH/DH8Nvxj/Eb8pfsU+z/7ifu++/r79vt6+zX7hfuo/Fv9Lv6A/gX+yP33/ez+BwABAdoBOAJ7Ag8DcwPJA+ED1gP0A68DUwPrAuYC2QKfArsBlQB8/6X+uf6k/1sAhgASAFP/o/4//kv+xf5M/3r/XP/U/qz+Hv+l/4YA1QANACL/ZP75/mMAeQFfAvkBdgA//w7/BACqAakCyQIHA/ICLwOBBHIFUgVYBH4DNgOyA54EcgW0Bc0EwANsAxsDRAO6Az4E5gSuBEcE6wMIA1QCjwHoACkAfP9r/xL/xP74/jf+Gf35+2/7hPtT+737TPzl+377rPv++xb82ft1+xj7FPuK+2/8TP2D/Rv9bvw3/CT8Qvy0/Er9Ff7H/i7/Sv84/2r/7/+XAA4B7QC9AFABSwJVA5IDPANQAjwBHwGAAUIC6ALsAjwDGgPpAosCCAIfApoCIANpAzkD1gKBAs4BFQFHACL/9v04/SP9W/0m/XL8oft2+tf5tvmf+R36E/rb+RL6HPpj+jv6Mfqo+rf65fpI+5v7I/xF/J78yfxP/Cr8Y/wb/Tr+0P5r/3v/0v95ADYB5QEBAiMCIgKBAgIDdAPPA5IDUAMtA00DoAMQBHYEugTRBOAEyASGBCoE4gODAxkD7AKiAl4C0wEcAaMAjv/N/iz+/v0t/uT98/1+/cP81vx4/av+9P6o/i3+cf2x/ZD+Mf9C/2P+KP5D/ln+Cv8//5b/2v9KACMBUQGlAVoBewB0/yL+iv0Y/QH9Tv1K/af9/P2m/mL/+P8MAUQCaAM8BDUELAR7A6UCMALBAaYBawHyAfMCJgOxAqwBtgASAJAAvQGzAjUD1wJ8AhACVgFMAUsBrAEcAoMCzAJ6AgACcgHgACcA3v+SAOYANwEsASoB6wAIAB3/cv4g/i/+bv58/m/+EP7r/ZP9CP3U/Gr8qPyG/Xr+V/9p/zT/yf7Z/Tj9//yR/Yj+W/+y/13/mf4p/vX9lP6l/6QAaAH0AZoCYQOPA1ADGAPwAoUDUwRABdQFaQXEBCEEtQNyAwQD1ALeAsUC0wKsAnECcwISAgcC5QGmAekB4QHsAaABqwC//7b+A/6p/Xr9m/2//CX8MfuB+uv6TfuJ/Nf8jfzN/Hz8yfz2/OD8zvwT/Lz7zfsO/G/8ifzB/Ov8Bv2C/SD+vv6O/x0A8QCCAR0CjQKEAn4CagKtAu4CJgM9A80COwLuARICTAJGAhIClQHlAIUApwDzAMcAQQD8/wAAIwArAMj/YP/R/rH+y/6+/qL+Xv4e/tj9kv1y/bL9Z/4a/8P/m/8L/5f+D/5H/rb+FP9J/8L+lv6B/ir+xf15/YL9Uf1u/RX+4P6q/yEAAAD9/iL+PP50/3kAEAE6AY4ABABc/xz/Mv87/4z/Sv8w/9L+zP7t/pz+uP2m/Jv89P2h/5kAdQD3/+j/VAB2AVcCQgPSAxcEQASCA3kCuAGeAdwBagFbANP/x//p/wkA1f9A/5v+k/6A/50A+gDIAN4AAQEYAewAtwC6AOkA+gBNAWQBGgE8AQQBowAPAAP/z/5x/hj+Cf7R/fH9xP3R/Sf+W/6s/t3+af/e/00AmgDeADEBmgEKAmECmgJ8AuQBGQE7ACoAswBFAaUBNgGVAPn/l//1/3cACQGMAdIB4wGiAWwBswHlAScCOAJIAlYCSAJeAiECZQGaABkAMQCnAAUBZAE2AZcA5P89/wj/Y/8zAPgAUAEPAZIAJADy/x0AQwBfAHAAhwDPAPgA0wBKAJr/Jv8r/7z/yQCZAboBFwECADD/nP6H/iz/1P98AJ4AUADU/xj/pP6Q/tX+Sf/r/8MAcQFWAWsAMv8P/nH9W/3+/ef+dv+Y/1//6P5E/r392P18/mT/LgDeAPIAbgC//yv/I/9h/83/QQCCAJkAQQC9/zL/tv55/qz+Z/85ALAAwwBgAO//oP/X/5AAUgHSAbgBMQElAAn/U/7k/b/9t/3c/dH9uf2c/XT9af1q/Z39/f15/hj/Yf87/9P+Pv7r/fr9cf4q/27/Y//X/j7+4P3t/Y3+GP9Y/5T/2v8TAC0AUACSAP4ArAFPAmUCPAIQAv0BtwH6ABwAVf/9/n//LACQAHgASABWAJUAAgFcAZUBhgFYAfYAHgA8/1H+0/2x/aP9of2R/bz9HP5U/nf+av62/kf/3f9MACAAsP9T/1L/0/9IAHQANwDs/6b/k////40AIwGkAcsB+QHfAaEBcwFHAVwBlwHEAfEB8wHjAdUBjgEGAWgA+/8lAKAAYgG1AZEBLAGkAFcA/f/g/9r/9/8kADoAQgDc/1n/1f5y/m/+yv6H/08A1wD1AJEAAACG/4T/4P+ZAC4BfgFRAbAA0v/r/kD+9/1H/hn/0P8uACAA1P97/xT/Af9I/9L/kABAAY4BUgGxAAIAnP96/7r/PQC4AB0BDQGsABsAcv9J/4L/JQDbAC8BXQEmAdEAeABmABgBlwErAksC3gFHAV8A5/+O/2n/uv/s/08AjACIAHEACgDl/xMAfgDmAA0BCwHMAFwAyf8m/5D+V/5v/tb+Rf+O/5f/ZP89/zT/WP+J/9D/IwA/ABcAy/9q/wD/w/7U/hT/Wv+Q/7X/x/+p/1D/D//0/hT/fP/U//3/wP9L/83+bf56/uj+Rf9W/y7/4P6i/oz+pf7e/g7/U//K/ygAkAC7AM4A4QDQAOcA+gAJAewAugBqAPL/gv9Q/1r/rP8mAHgAjwCVALwADwFHAWwBVQEKAd8ArgBmAPz/m/9Y/xf/+f7d/un+D/81/0v/Qf9B/2L/g/+n/8r/1/+b/0D/4v6W/qn+B/+P/9f/nv81/wX/Xf8BAHEAhQBrAF4AeAC0AMoAhAApAOr//P9WAJ4AqACOAF0AMgDl/6T/fP+L/7T/yf+u/17/EP/1/hT/gf8GAJcA+gAiAVEBcAGAAUABCwEQASEBMgEFAbQAOQDA/0//Ev8D/xf/Yv/f/28A6wAdASIBCQECATMBfAHAAcsBpwFgAeoAZADQ/1v/B//a/s7+xP62/pn+d/5z/qH+6/47/5X/4f///+f/vv+b/43/jf+S/6L/rP+j/4f/W/8x/yj/SP97/8D/EAB/APAAMQEpAdoAhQBpAIoA7gBHAXoBbAEuAeUAmgBnAFwAhgDOAAYBHAEUAeQAtACJAGgAVgA0ACYALAAwABQAxv8//6T+Nv4e/lP+lf7D/sj+qf57/kv+L/47/m7+wf4g/3T/o/+j/3v/Qf8Y/x7/Y//M/zUAcQB9AFkAKgAOACYAcQDTADABZwFyAWkBOgEUAQwBNwF6Ab8B+AH4Ac0BcQENAbUAhgCHALYA/AAhAREBzgBoAAQAuf+H/3P/dv+D/3P/Qf8D/7n+fv5f/l3+dP6X/sr+8P7y/tP+pP5+/m7+ff6o/tz+/v4L/wr/AP8P/zn/fv/B/wQANQBWAG8AeQBmAEcAOABJAGEAagBaAEUAOQBGAGIAeQCPAKsAwgDOAMwArACEAHcAggCoAMQAvACQAFoAKQDy/8P/t//K//X/FgAgAA8A7//X/9r/6P8GACIAQQBRAGAAXAA7ABoADAAAAPL/6f/e/9T/yv+6/7//zv/e//T/9v/r/9//wv+8/7v/vf/O/87/0f+8/57/c/89/xH/8f7i/uf+//4p/1P/a/90/3X/gf+i/9L/AAArAE8AVQA9ACAAAgDz//b/EQA5AGoAkwCkAJUAgQB1AJIA4wBDAZIBrwGQAUkB9QC9AKkAmgCbAKMAqQCkAJUAdQBHAA8A5v/L/8j/1//q/+//3v+x/3r/Sf8z/0D/ZP+D/4n/cP9O/zT/LP8x/zH/KP8i/xn/Gv8i/zD/Sf9n/4v/r//Y//j/CwASABEADgAQABoAIwAxADsARgBQAFcAZAB3AJMAtQDUAOsA6wDiANcAygDAALQAngCCAGsAXABWAFoAWgBPAEIANAApACIAFwAIAAAA+v/u/+r/5v/e/+P/3//Q/7r/m/+F/3n/eP96/27/Xf9T/07/WP94/5r/tP/J/+T///8OABkAGAAOAP3/8//m/+D/2P/a/9L/v/+3/7X/z//p/w8ALQA9AD0ANgAvACsAKAAjABwAEwAFAAIAAAABAPv/8f/q/+3//v8UADMARgBMAEsANwAuACMAKwAxADAAKwAhABAABgAAAPr/+/8AAAMADAAOAAQA+v/7//n/8f/l/+L/6P/o/93/yP+q/4r/fP99/4v/mf+p/6z/rf+z/7f/uv/B/8z/2P/o//L/9v/w/9//1v/L/8T/0f/l//3/DgAbAB8AIQAxADsAUABkAHgAggCDAH8AagBYAEcAQAA8AEEASABIAEUANwAmACUAJQAsADYAOAA4ADIAHwD//9P/sP+M/3L/Y/9S/0b/O/8x/yj/Jf8x/z//Uf9v/5H/rv/K/9//7v/5//3///8CAAcABAD8//L/6P/m/+T/7f/3/wMADgAYAB0AIgAuAEcAaAB8AIUAjACJAIUAgQB+AHQAaABhAFcASwBDADkALgAnABoAEgARABUAGwAdACQAHgAeACQAKAAmACQAFQD5/9n/wf+3/8D/y//U/9//4P/d/9n/1v/b/+//+f8RAB0AGwAUAAEA6v/T/8X/wf/K/9P/3f/k/+b/5f/m/+z/8v/8/wcACwAQABEADAD9//L/5//b/9D/yf/L/9D/0//U/9T/2P/a/9//4v/q//P//v8HAA8AFQAYABUAEwAUABcAGQAcABsAGQAYAB8AGAAUAA8ADgAQABUAHQAnAC0AMgAwAC0AJQAgABcAEwANAAoABgAHAAgABwADAP//+//3//T/8//x/+7/6P/n/+b/4v/j/+T/5//m/+L/4v/X/9H/y//L/8v/zP/T/9b/1//c/+L/5//p/+z/8//8/wIABwAIAAgABgAFAAAA+//z//T/8v/4//7/AAAAAAAA///9//z//P8AAAgACAALAAkAAAD6//X/8v/4//X////8//n/+v/v/+3/7v/w//f//f8BAAQABwAFAAAA/f8AAAAAAgAFAAgACQAJAAYABAAAAAQABgAKAAwAEAARAA4ADQALAAgACwALAA0ACgAHAAQAAQD9//r/+v8AAAIACAALAAwACgALAAwADAAIAAcACQAKAAYAAwD+//v/9v/z//L/8//z//b/8//w/+v/6f/l/+X/6P/u//D/8//y//P/8P/p/+z/7v/y//X/9//2//D/8P/p/+v/7f/y//b/+f///wQABgAKAA0ADgAOAA4AEAAWABoAHAAZABYAFQAVABcAFwAaAB8AJAAnACUAJgAnACgAJgAnACcAJgAoACcAJQAkACIAHAAdAB0AGQAaABoAFwAWABcAFgATAA4ADAAGAAAA+f/3//X/9v/0//b/9v/0//L/7//t/+//7f/t/+v/5v/l/+H/3P/Z/9f/0v/L/9T/z//Q/9T/2f/g/+P/5//s//D/9f/9/wEAAgAIAAsADgANAA0ADQAOAA4ACwALAAoACAAKAAgACgALAAoADgAMAAsADgALAAwACwANAAoACQAGAAUABAADAAAAAAAAAAEAAAACAAMAAwACAAIAAwAEAAQABAABAP//+//6//X/9v/4//v/+f/2//f/9//0//b/9f/4//z/AAAAAAMABQADAAAAAQAFAAgADwAOAA8ADgANAAwABQADAAAAAAD///z/+f/2//L/8P/v//D/7v/x//P/9f/0//P/8//2//X/9v/1//X/9f/1//f/9//1//H/7f/v/+//7v/w//D/7f/v/+//9f/0//b/+//+/wEABAAHAAsACwALAAsADAALAAwACQAHAAcACgAMAA0ADwAQABAADwANAAsABgAEAAEAAAAAAAAAAAAAAAAAAAAAAP//AAD9//z/+//7//z/+f/8//n/+v/6//r/9//4//j/+f/4//n//P/8//v/+v/5//v//f8BAP7/AgAGAAAAAgABAAAAAgAFAAUABgAGAAUABQABAAAA/v/9//3///8AAAAAAAABAAEAAgAFAAcABgAEAAUABgAGAAYABAAEAAQAAwAAAAAAAAACAAIAAgAAAAEAAAAAAAEABQAGAAYABwALAAoACgAKAAgACAAOAAsADwAQAA4ADwARABAADwAOAA8AEAAQAA8ADAAJAAcABAABAP7//f/7//n/+P/2//T/9f/0//P/8P/u/+3/7f/v/+7/7//v//D/8v/y//n/9//5//v//v/8//v//P/8//n/9//4//v/+//6//r//P/6//n/+f/5//n//P/9/wAAAAACAAEAAQACAAEAAQABAAMABQAGAAYABAADAAAA//8AAAAAAAD////////4//n/9f/1//b/8//z//L/8v/z//P/8//z//P/9P/3//f/+v/6//v/+v/7//r/+//8//z/+v/7//v//P/7//v/+//8//3//////wAAAAACAAMAAwAFAAcABwAIAAkACQAIAAgACAAGAAYABgAHAAcABgAFAAYABwAIAAcACAAJAAgABgAFAAUAAwABAAEAAQABAAEAAQABAAAAAAAAAAAA/v///wAA//////7//f/8//3//f/+/wAAAAAAAAAAAAAAAP////8AAP7///8AAAAAAAAAAP/////+//z//P/7//3/AAAAAAEAAAAAAAAAAAAAAAAAAwAEAAUABwAJAAkACgAIAAgACAAIAAcABwAGAAYABgAHAAYABgAFAAUABAABAAIAAwAFAAQABQAFAAUABAADAAQABAADAAIAAgACAAIAAQABAAAAAAAAAP////8AAP//+/8AAP////////3//v/9//7//f/9//z//f/8//r/+//9//7//v/+/wAAAQACAAMABAAEAAUABgAGAAYACAAGAAgABgAEAAMAAQAAAP//AAD+//3//P/7//r/+//5//n/+f/5//n/+v/6//r//P/8//3//f/+///////9//3///////////////3//P/+//7//f/+//7///////7//v/+////AAAAAAAAAgACAAUAAwADAAIAAgADAAMABAADAAQAAgAAAP//////////AAAAAP/////+//3//f/8//v//f/+//7//v/+//3//P/9//3//P/8//v//P/8//v/+//6//r/+v/6/////v/9/wAA/v////7//f/+//7//////wAAAQABAAIAAQADAAQABgAGAAYABgAFAAQABAADAAEAAAAAAAAAAAAAAAEAAQABAAIAAgABAAIAAQACAAIAAgADAAMAAwADAAIAAgAAAAAA////////AAAAAAAAAAAAAAAAAAAAAAAAAAD+/wAAAAD//wAAAAAAAAAAAAAAAP///v////////8AAAAAAQABAAEAAQABAAAAAQABAAAAAgACAAEAAAAAAP////////3//f/9//7//f/+//7//v/+//7//v////////8AAAEAAgACAAEAAQABAAAAAAAAAP//AAAAAAAAAAD//////////////////wAAAAAAAAAAAAAAAAAAAAAAAAAAAgACAAIAAgABAAEAAQACAAEAAAAAAAAAAAAAAP///f/9//3//P/9//z//P/8//z//P/8//3//v/+//7/AAAAAAEAAAABAAIAAwACAAMAAwAEAAQABAAEAAMAAwADAAIAAgABAAEAAAABAAAAAAAAAAAAAAAAAAAAAQABAAIAAQACAAIAAAAAAAAA//8AAAAAAAD///7//v/9//3//f/8//3//f/9//3//f/8//z//P/8//3//v/+//7////////////+//7//v///////v////7/////////AAAAAAAA//8AAAAA/v/+/////////wAAAAABAAAAAAAAAAAAAgABAAIAAgABAAAAAAAAAP////8AAAAAAAAAAAAAAQAAAAAAAAAAAAAAAAABAAAAAAAAAAAA////////////////////////AAAAAAAAAAAAAAEAAQAAAAEAAQAAAAAAAAAAAAEAAAAAAAAAAAAAAP///////wAAAAAAAAEAAQAAAAAAAQAAAAAAAAAAAAAAAQABAAIAAQABAAEAAgABAAEAAAAAAAAAAAABAAEAAgABAAEAAAAAAAAAAAAAAAAAAAAAAAAAAAAAAAAAAAAAAAAAAAAAAAAAAAAAAAAAAAABAAEAAQAAAAAAAAABAAAAAQAAAAEAAAAAAAAAAAAAAAAAAAAAAAAAAAAAAP///////wAAAAAAAAEAAAACAAIAAgACAAIAAQACAAIAAwACAAIAAQABAAEAAAAAAAAAAAD///7//f/8//3//P/8//3//f/9//3//f/9//7//v/+////AAD/////AAAAAAAAAAAAAAAAAAAAAAAAAAAAAAAAAAAAAAAAAAAAAAAAAAAAAAAAAQACAAEAAQABAAAAAAABAAEAAgADAAMAAgABAAAAAAAAAAAAAAAAAAAAAAABAAAAAAAAAP//AAAAAAAAAAAAAAAAAAAAAAAAAAAAAAAAAQABAAEAAQAAAP/////+//7//v/+//7//v/+////////////AAABAAEAAQAAAAAAAAAAAP////8AAAAAAAAAAAAAAAAAAAAAAAAAAAAAAAAAAAAAAAAAAAAAAAAAAAAAAAD//////////////////wAAAAAAAAAAAAAAAAAAAAAAAAAAAAAAAAAAAAAAAAAAAAAAAAAA////////AAAAAAAAAAAAAAAAAAAAAAAAAAAAAAAAAAAAAAAAAAABAAAAAAAAAAEAAQABAAAAAQABAAAAAAAAAAAAAAAAAAAAAAAAAAAAAAAAAAAAAAAAAAAAAAAAAAAAAAAAAAAAAQABAAAAAAAAAAAAAAAAAAEAAAABAAAAAAAAAAAAAAAAAAAAAAAAAAAAAAAAAAAAAAAAAAAAAAABAAAAAQAAAAAAAQABAAAAAQABAAEAAQABAAAAAAAAAAAAAAAAAAAAAAAAAAAA//////////8AAAAAAAAAAAAAAAAAAAAAAAAAAAAAAAAAAAAAAAAAAAAAAAAAAAAAAAAAAAAAAAAAAAAAAAAAAAAAAQAAAAEAAAABAAAAAQABAAEAAAAAAAAAAAAAAAAAAAAAAAAAAAD/////////////AAAAAAAAAAAAAAAAAAAAAAAAAAAAAAAAAAAAAAAAAAAAAAAAAAAAAAAAAAAAAP7//v8AAP////8AAAAAAAAAAAAAAAAAAAAAAAAAAAAAAAAAAAAAAAD/////AAAAAAAAAAAAAAAAAAAAAAAAAAAAAAAAAAAAAAAAAAAAAAAAAAAAAP//AAAAAAAA//8AAAAAAAAAAAAAAAAAAAAAAAAAAAAAAAAAAAAAAAAAAAAAAAAAAAAAAAAAAAAAAAAAAAAAAAAAAAAAAAAAAAAAAAAAAAAAAAAAAAAAAAAAAAAAAAAAAAAAAAAAAAEAAAAAAAAAAAAAAAEAAQABAAEAAAAAAAAAAAAAAAAAAAAAAAAAAAAAAAAAAAAAAAAAAAAAAAAAAAAAAAAAAAAAAAAAAAAAAAEAAAAAAAAAAQAAAAAAAAAAAAAAAAAAAAAAAAAAAAAAAAAAAAAAAAAAAAAAAAAAAAAAAAAAAAAAAAAAAAAAAAAAAAAAAAAAAAEAAAABAAAAAAABAAAAAAAAAAAAAAAAAAAAAAAAAAAAAAAAAAAAAAAAAAAAAAAAAAAAAAAAAAAAAAAAAAAAAAAAAAAAAAAAAAAAAAAAAAAAAAAAAAAAAAAAAAAAAAAAAAAAAAAAAAAAAQAAAAAAAAAAAAAAAQABAAEAAAAAAAAAAAAAAAAAAAAAAAAAAAAAAAAAAAAAAAAAAAAAAAAAAAAAAAAAAAAAAAAAAAABAAAAAQAAAAEAAAAAAAAAAAAAAAAAAAAAAAAAAAAAAAAAAAAAAAAAAAAAAAAAAAAAAAAAAAAAAAAAAAAAAAAAAAAAAAAAAAAAAAAAAAAAAAAAAAAAAAAAAAAAAAAAAAAAAAAAAAAAAAAAAAAAAAAAAAAAAAAAAAAAAAAAAAAAAAAAAAAAAAAAAAAAAAAAAAAAAAAAAAAAAAAAAAAAAAAAAAAAAAAAAAAAAAAAAAAAAAAAAAAAAAAAAAAAAAAAAAAAAAAAAQAAAAAAAAAAAAAAAAAAAAEAAAAAAAAAAAAAAAAAAAAAAAAAAAAAAAAAAAAAAAAAAAAAAAAAAAAAAAAAAAAAAAAAAAAAAAAAAAAAAAAAAAAAAAAAAAAAAAAAAAAAAAAAAAAAAAAAAAAAAAAAAAAAAAAAAAAAAAAAAAAAAAAAAAAAAAAAAAAAAAAAAAAAAAAAAAAAAAAAAAAAAAAAAAAAAAAAAAAAAAAAAAAAAAAAAAAAAAAAAAAAAAAAAAAAAAAAAAAAAAAAAAAAAAAAAAAAAAAAAAAAAAAAAAAAAAAAAAAAAAAAAAAAAAAAAAAAAAAAAAAAAAAAAAAAAAAAAAAAAAAAAAAAAAAAAAAAAAAAAAAAAAAAAAAAAAAAAAAAAAAAAAAAAAAAAAAAAAAAAAAAAAAAAAAAAAAAAAAAAAAAAAAAAAAAAAAAAAAAAAAAAAAAAAAAAAAAAAAAAAAAAAAAAAAAAAAAAAAAAAAAAAAAAAAAAAAAAAAAAAAAAAAAAAAAAAAAAAAAAAAAAAAAAAAAAAAAAAAAAAAAAAAAAAAAAAAAAAAAAAAAAAAAAAAAAAAAAAAAAAAAAAAAAAAAAAAAAAAAAAAAAAAAAAAAAAAAAAAAAAAAAAAAAAAAAAAAAAAAAAAAAAAAAAAAAAAAAAAAAAAAAAAAAAAAAAAAAAAAAAAAAAAAAAAAAAAAAAAAAAAAAAAAAAAAAAAAAAAAAAAAAAAAAAAAAAAAAAAAAAAAAAAAAAAAAAAAAAAAAAAAAAAAAAAAAAAAAAAAAAAAAAAAAAAAAAAAAAAAAAAAAAAAAAAAAAAAAAAAAAAAAAAAAAAAAAAAAAAAAAAAAAAAAAAAAAAAAAAAAAAAAAAAAAAAAAAAAAAAAAAAAAAAAAAAAAAAAAAAAAAAAAAAAAAAAAAAAAAAAAAAAAAAAAAAAAAAAAAAAAAAAAAAAAAAAAAAAAAAAAAAAAAAAAAAAAAAAAAAAAAAAAAAAAAAAAAAAAAAAAAAAAAAAAAAAAAAAAAAAAAAAAAAAAAAAAAAAAAAAAAAAAAAAAAAAAAAAAAAAAAAAAAAAAAAAAAAAAAAAAAAAAAAAAAAAAAAAAAAAAAAAAAAAAAAAAAAAAAAAAAAAAAAAAAAAAAAAAAAAAAAAAAAAAAAAAAAAAAAAAAAAAAAAAAAAAAAAAAAAAAAAAAAAAAAAAAAAAAAAAAAAAAAAAAAAAAAAAAAAAAAAAAAAAAAAAAAAAAAAAAAAAAAAAAAAAAAAAAAAAAAAAAAAAAAAAAAAAAAAAAAAAAAAAAAAAAAAAAAAAAAAAAAAAAAAAAAAAAAAAAAAAAAAAAAAAAAAAAAAAAAAAAAAAAAAAAAAAAAAAAAAAAAAAAAAAAAAAAAAAAAAAAAAAAAAAAAAAAAAAAAAAAAAAAAAAAAAAAAAAAAAAAAAAAAAAAAAAAAAAAAAAAAAAAAAAAAAAAAAAAAAAAAAAAAAAAAAAAAAAAAAAAAAAAAAAAAAAAAAAAAAAAAAAAAAAAAAAAAAAAAAAAAAAAAAAAAAAAAAAAAAAAAAAAAAAAAAAAAAAAAAAAAAAAAAAAAAAAAAAAAAAAAAAAAAAAAAAAAAAAAAAAAAAAAAAAAAAAAAAAAAAAAAAAAAAAAAAAAAAAAAAAAAAAAAAAAAAAAAAAAAAAAAAAAAAAAAAAAAAAAAAAAAAAAAAAAAAAAAAAAAAAAAAAAAAAAAAAAAAAAAAAAAAAAAAAAAAAAAAAAAAAAAAAAAAAAAAAAAAAAAAAAAAAAAAAAAAAAAAAAAAAAAAAAAAAAAAAAAAAAAAAAAAAAAAAAAAAAAAAAAAAAAAAAAAAAAAAAAAAAAAAAAAAAAAAAAAAAAAAAAAAAAAAAAAAAAAAAAAAAAAAAAAAAAAAAAAAAAAAAAAAAAAAAAAAAAAAAAAAAAAAAAAAAAAAAAAAAAAAAAAAAAAAAAAAAAAAAAAAAAAAAAAAAAAAAAAAAAAAAAAAAAAAAAAAAAAAAAAAAAAAAAAAAAAAAAAAAAAAAAAAAAAAAAAAAAAAAAAAAAAAAAAAAAAAAAAAAAAAAAAAAAAAAAAAAAAAAAAAAAAAAAAAAAAAAAAAAAAAAAAAAAAAAAAAAAAAAAAAAAAAAAAAAAAAAAAAAAAAAAAAAAAAAAAAAAAAAAAAAAAAAAAAAAAAAAAAAAAAAAAAAAAAAAAAAAAAAAAAAAAAAAAAAAAAAAAAAAAAAAAAAAAAAAAAAAAAAAAAAAAAAAAAAAAAAAAAAAAAAAAAAAAAAAAAAAAAAAAAAAAAAAAAAAAAAAAAAAAAAAAAAAAAAAAAAAAAAAAAAAAAAAAAAAAAAAAAAAAAAAAAAAAAAAAAAAAAAAAAAAAAAAAAAAAAAAAAAAAAAAAAAAAAAAAAAAAAAAAAAAAAAAAAAAAAAAAAAAAAAAAAAAAAAAAAAAAAAAAAAAAAAAAAAAAAAAAAAAAAAAAAAAAAAAAAAAAAAAAAAAAAAAAAAAAAAAAAAAAAAAAAAAAAAAAAAAAAAAAAAAAAAAAAAAAAAAAAAAAAAAAAAAAAAAAAAAAAAAAAAAAAAAAAAAAAAAAAAAAAAAAAAAAAAAAAAAAAAAAAAAAAAAAAAAAAAAAAAAAAAAAAAAAAAAAAAAAAAAAAAAAAAAAAAAAAAAAAAAAAAAAAAAAAAAAAAAAAAAAAAAAAAAAAAAAAAAAAAAAAAAAAAAAAAAAAAAAAAAAAAAAAAAAAAAAAAAAAAAAAAAAAAAAAAAAAAAAAAAAAAAAAAAAAAAAAAAAAAAAAAAAAAAAAAAAAAAAAAAAAAAAAAAAAAAAAAAAAAAAAAAAAAAAAAAAAAAAAAAAAAAAAAAAAAAAAAAAAAAAAAAAAAAAAAAAAAAAAAAAAAAAAAAAAAAAAAAAAAAAAAAAAAAAAAAAAAAAAAAAAAAAAAAAAAAAAAAAAAAAAAAAAAAAAAAAAAAAAAAAAAAAAAAAAAAAAAAAAAAAAAAAAAAAAAAAAAAAAAAAAAAAAAAAAAAAAAAAAAAAAAAAAAAAAAAAAAAAAAAAAAAAAAAAAAAAAAAAAAAAAAAAAAAAAAAAAAAAAAAAAAAAAAAAAAAAAAAAAAAAAAAAAAAAAAAAAAAAAAAAAAAAAAAAAAAAAAAAAAAAAAAAAAAAAAAAAAAAAAAAAAAAAAAAAAAAAAAAAAAAAAAAAAAAAAAAAAAAAAAAAAAAAAAAAAAAAAAAAAAAAAAAAAAAAAAAAAAAAAAAAAAAAAAAAAAAAAAAAAAAAAAAAAAAAAAAAAAAAAAAAAAAAAAAAAAAAAAAAAAAAAAAAAAAAAAAAAAAAAAAAAAAAAAAAAAAAAAAAAAAAAAAAAAAAAAAAAAAAAAAAAAAAAAAAAAAAAAAAAAAAAAAAAAAAAAAAAAAAAAAAAAAAAAAAAAAAAAAAAAAAAAAAAAAAAAAAAAAAAAAAAAAAAAAAAAAAAAAAAAAAAAAAAAAAAAAAAAAAAAAAAAAAAAAAAAAAAAAAAAAAAAAAAAAAAAAAAAAAAAAAAAAAAAAAAAAAAAAAAAAAAAAAAAAAAAAAAAAAAAAAAAAAAAAAAAAAAAAAAAAAAAAAAAAAAAAAAAAAAAAAAAAAAAAAAAAAAAAAAAAAAAAAAAAAAAAAAAAAAAAAAAAAAAAAAAAAAAAAAAAAAAAAAAAAAAAAAAAAAAAAAAAAAAAAAAAAAAAAAAAAAAAAAAAAAAAAAAAAAAAAAAAAAAAAAAAAAAAAAAAAAAAAAAAAAAAAAAAAAAAAAAAAAAAAAAAAAAAAAAAAAAAAAAAAAAAAAAAAAAAAAAAAAAAAAAAAAAAAAAAAAAAAAAAAAAAAAAAAAAAAAAAAAAAAAAAAAAAAAAAAAAAAAAAAAAAAAAAAAAAAAAAAAAAAAAAAAAAAAAAAAAAAAAAAAAAAAAAAAAAAAAAAAAAAAAAAAAAAAAAAAAAAAAAAAAAAAAAAAAAAAAAAAAAAAAAAAAAAAAAAAAAAAAAAAAAAAAAAAAAAAAAAAAAAAAAAAAAAAAAAAAAAAAAAAAAAAAAAAAAAAAAAAAAAAAAAAAAAAAAAAAAAAAAAAAAAAAAAAAAAAAAAAAAAAAAAAAAAAAAAAAAAAAAAAAAAAAAAAAAAAAAAAAAAAAAAAAAAAAAAAAAAAAAAAAAAAAAAAAAAAAAAAAAAAAAAAAAAAAAAAAAAAAAAAAAAAAAAAAAAAAAAAAAAAAAAAAAAAAAAAAAAAAAAAAAAAAAAAAAAAAAAAAAAAAAAAAAAAAAAAAAAAAAAAAAAAAAAAAAAAAAAAAAAAAAAAAAAAAAAAAAAAAAAAAAAAAAAAAAAAAAAAAAAAAAAAAAAAAAAAAAAAAAAAAAAAAAAAAAAAAAAAAAAAAAAAAAAAAAAAAAAAAAAAAAAAAAAAAAAAAAAAAAAAAAAAAAAAAAAAAAAAAAAAAAAAAAAAAAAAAAAAAAAAAAAAAAAAAAAAAAAAAAAAAAAAAAAAAAAAAAAAAAAAAAAAAAAAAAAAAAAAAAAAAAAAAAAAAAAAAAAAAAAAAAAAAAAAAAAAAAAAAAAAAAAAAAAAAAAAAAAAAAAAAAAAAAAAAAAAAAAAAAAAAAAAAAAAAAAAAAAAAAAAAAAAAAAAAAAAAAAAAAAAAAAAAAAAAAAAAAAAAAAAAAAAAAAAAAAAAAAAAAAAAAAAAAAAAAAAAAAAAAAAAAAAAAAAAAAAAAAAAAAAAAAAAAAAAAAAAAAAAAAAAAAAAAAAAAAAAAAAAAAAAAAAAAAAAAAAAAAAAAAAAAAAAAAAAAAAAAAAAAAAAAAAAAAAAAAAAAAAAAAAAAAAAAAAAAAAAAAAAAAAAAAAAAAAAAAAAAAAAAAAAAAAAAAAAAAAAAAAAAAAAAAAAAAAAAAAAAAAAAAAAAAAAAAAAAAAAAAAAAAAAAAAAAAAAAAAAAAAAAAAAAAAAAAAAAAAAAAAAAAAAAAAAAAAAAAAAAAAAAAAAAAAAAAAAAAAAAAAAAAAAAAAAAAAAAAAAAAAAAAAAAAAAAAAAAAAAAAAAAAAAAAAAAAAAAAAAAAAAAAAAAAAAAAAAAAAAAAAAAAAAAAAAAAAAAAAAAAAAAAAAAAAAAAAAAAAAAAAAAAAAAAAAAAAAAAAAAAAAAAAAAAAAAAAAAAAAAAAAAAAAAAAAAAAAAAAAAAAAAAAAAAAAAAAAAAAAAAAAAAAAAAAAAAAAAAAAAAAAAAAAAAAAAAAAAAAAAAAAAAAAAAAAAAAAAAAAAAAAAAAAAAAAAAAAAAAAAAAAAAAAAAAAAAAAAAAAAAAAAAAAAAAAAAAAAAAAAAAAAAAAAAAAAAAAAAAAAAAAAAAAAAAAAAAAAAAAAAAAAAAAAAAAAAAAAAAAAAAAAAAAAAAAAAAAAAAAAAAAAAAAAAAAAAAAAAAAAAAAAAAAAAAAAAAAAAAAAAAAAAAAAAAAAAAAAAAAAAAAAAAAAAAAAAAAAAAAAAAAAAAAAAAAAAAAAAAAAAAAAAAAAAAAAAAAAAAAAAAAAAAAAAAAAAAAAAAAAAAAAAAAAAAAAAAAAAAAAAAAAAAAAAAAAAAAAAAAAAAAAAAAAAAAAAAAAAAAAAAAAAAAAAAAAAAAAAAAAAAAAAAAAAAAAAAAAAAAAAAAAAAAAAAAAAAAAAAAAAAAAAAAAAAAAAAAAAAAAAAAAAAAAAAAAAAAAAAAAAAAAAAAAAAAAAAAAAAAAAAAAAAAAAAAAAAAAAAAAAAAAAAAAAAAAAAAAAAAAAAAAAAAAAAAAAAAAAAAAAAAAAAAAAAAAAAAAAAAAAAAAAAAAAAAAAAAAAAAAAAAAAAAAAAAAAAAAAAAAAAAAAAAAAAAAAAAAAAAAAAAAAAAAAAAAAAAAAAAAAAAAAAAAAAAAAAAAAAAAAAAAAAAAAAAAAAAAAAAAAAAAAAAAAAAAAAAAAAAAAAAAAAAAAAAAAAAAAAAAAAAAAAAAAAAAAAAAAAAAAAAAAAAAAAAAAAAAAAAAAAAAAAAAAAAAAAAAAAAAAAAAAAAAAAAAAAAAAAAAAAAAAAAAAAAAAAAAAAAAAAAAAAAAAAAAAAAAAAAAAAAAAAAAAAAAAAAAAAAAAAAAAAAAAAAAAAAAAAAAAAAAAAAAAAAAAAAAAAAAAAAAAAAAAAAAAAAAAAAAAAAAAAAAAAAAAAAAAAAAAAAAAAAAAAAAAAAAAAAAAAAAAAAAAAAAAAAAAAAAAAAAAAAAAAAAAAAAAAAAAAAAAAAAAAAAAAAAAAAAAAAAAAAAAAAAAAAAAAAAAAAAAAAAAAAAAAAAAAAAAAAAAAAAAAAAAAAAAAAAAAAAAAAAAAAAAAAAAAAAAAAAAAAAAAAAAAAAAAAAAAAAAAAAAAAAAAAAAAAAAAAAAAAAAAAAAAAAAAAAAAAAAAAAAAAAAAAAAAAAAAAAAAAAAAAAAAAAAAAAAAAAAAAAAAAAAAAAAAAAAAAAAAAAAAAAAAAAAAAAAAAAAAAAAAAAAAAAAAAAAAAAAAAAAAAAAAAAAAAAAAAAAAAAAAAAAAAAAAAAAAAAAAAAAAAAAAAAAAAAAAAAAAAAAAAAAAAAAAAAAAAAAAAAAAAAAAAAAAAAAAAAAAAAAAAAAAAAAAAAAAAAAAAAAAAAAAAAAAAAAAAAAAAAAAAAAAAAAAAAAAAAAAAAAAAAAAAAAAAAAAAAAAAAAAAAAAAAAAAAAAAAAAAAAAAAAAAAAAAAAAAAAAAAAAAAAAAAAAAAAAAAAAAAAAAAAAAAAAAAAAAAAAAAAAAAAAAAAAAAAAAAAAAAAAAAAAAAAAAAAAAAAAAAAAAAAAAAAAAAAAAAAAAAAAAAAAAAAAAAAAAAAAAAAAAAAAAAAAAAAAAAAAAAAAAAAAAAAAAAAAAAAAAAAAAAAAAAAAAAAAAAAAAAAAAAAAAAAAAAAAAAAAAAAAAAAAAAAAAAAAAAAAAAAAAAAAAAAAAAAAAAAAAAAAAAAAAAAAAAAAAAAAAAAAAAAAAAAAAAAAAAAAAAAAAAAAAAAAAAAAAAAAAAAAAAAAAAAAAAAAAAAAAAAAAAAAAAAAAAAAAAAAAAAAAAAAAAAAAAAAAAAAAAAAAAAAAAAAAAAAAAAAAAAAAAAAAAAAAAAAAAAAAAAAAAAAAAAAAAAAAAAAAAAAAAAAAAAAAAAAAAAAAAAAAAAAAAAAAAAAAAAAAAAAAAAAAAAAAAAAAAAAAAAAAAAAAAAAAAAAAAAAAAAAAAAAAAAAAAAAAAAAAAAAAAAAAAAAAAAAAAAAAAAAAAAAAAAAAAAAAAAAAAAAAAAAAAAAAAAAAAAAAAAAAAAAAAAAAAAAAAAAAAAAAAAAAAAAAAAAAAAAAAAAAAAAAAAAAAAAAAAAAAAAAAAAAAAAAAAAAAAAAAAAAAAAAAAAAAAAAAAAAAAAAAAAAAAAAAAAAAAAAAAAAAAAAAAAAAAAAAAAAAAAAAAAAAAAAAAAAAAAAAAAAAAAAAAAAAAAAAAAAAAAAAAAAAAAAAAAAAAAAAAAAAAAAAAAAAAAAAAAAAAAAAAAAAAAAAAAAAAAAAAAAAAAAAAAAAAAAAAAAAAAAAAAAAAAAAAAAAAAAAAAAAAAAAAAAAAAAAAAAAAAAAAAAAAAAAAAAAAAAAAAAAAAAAAAAAAAAAAAAAAAAAAAAAAAAAAAAAAAAAAAAAAAAAAAAAAAAAAAAAAAAAAAAAAAAAAAAAAAAAAAAAAAAAAAAAAAAAAAAAAAAAAAAAAAAAAAAAAAAAAAAAAAAAAAAAAAAAAAAAAAAAAAAAAAAAAAAAAAAAAAAAAAAAAAAAAAAAAAAAAAAAAAAAAAAAAAAAAAAAAAAAAAAAAAAAAAAAAAAAAAAAAAAAAAAAAAAAAAAAAAAAAAAAAAAAAAAAAAAAAAAAAAAAAAAAAAAAAAAAAAAAAAAAAAAAAAAAAAAAAAAAAAAAAAAAAAAAAAAAAAAAAAAAAAAAAAAAAAAAAAAAAAAAAAAAAAAAAAAAAAAAAAAAAAAAAAAAAAAAAAAAAAAAAAAAAAAAAAAAAAAAAAAAAAAAAAAAAAAAAAAAAAAAAAAAAAAAAAAAAAAAAAAAAAAAAAAAAAAAAAAP//AQAAAAAA\" type=\"audio/wav\" />\n",
              "                    Your browser does not support the audio element.\n",
              "                </audio>\n",
              "              "
            ]
          },
          "metadata": {},
          "execution_count": 6
        }
      ]
    }
  ]
}